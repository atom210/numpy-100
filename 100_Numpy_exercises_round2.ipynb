{
 "cells": [
  {
   "cell_type": "markdown",
   "id": "5a28b949",
   "metadata": {},
   "source": [
    "# 100 numpy exercises\n",
    "\n",
    "This is a collection of exercises that have been collected in the numpy mailing list, on stack overflow\n",
    "and in the numpy documentation. The goal of this collection is to offer a quick reference for both old\n",
    "and new users but also to provide a set of exercises for those who teach.\n",
    "\n",
    "\n",
    "If you find an error or think you've a better way to solve some of them, feel\n",
    "free to open an issue at <https://github.com/rougier/numpy-100>."
   ]
  },
  {
   "cell_type": "markdown",
   "id": "3f7a87ec",
   "metadata": {},
   "source": [
    "File automatically generated. See the documentation to update questions/answers/hints programmatically."
   ]
  },
  {
   "cell_type": "markdown",
   "id": "854ecf1b",
   "metadata": {},
   "source": [
    "Run the `initialise.py` module, then for each question you can query the\n",
    "answer or an hint with `hint(n)` or `answer(n)` for `n` question number."
   ]
  },
  {
   "cell_type": "code",
   "execution_count": null,
   "id": "c53ea877",
   "metadata": {},
   "outputs": [],
   "source": [
    "%run initialise.py"
   ]
  },
  {
   "cell_type": "markdown",
   "id": "c00df986",
   "metadata": {},
   "source": [
    "#### 1. Import the numpy package under the name `np` (★☆☆)"
   ]
  },
  {
   "cell_type": "code",
   "execution_count": null,
   "id": "35bde95c",
   "metadata": {},
   "outputs": [],
   "source": [
    "import numpy as np"
   ]
  },
  {
   "cell_type": "markdown",
   "id": "b555a89f",
   "metadata": {},
   "source": [
    "#### 2. Print the numpy version and the configuration (★☆☆)"
   ]
  },
  {
   "cell_type": "code",
   "execution_count": null,
   "id": "2c9d363d",
   "metadata": {},
   "outputs": [],
   "source": [
    "print(np.__version__)\n",
    "np.show_config()"
   ]
  },
  {
   "cell_type": "markdown",
   "id": "e2713407",
   "metadata": {},
   "source": [
    "#### 3. Create a null vector of size 10 (★☆☆)"
   ]
  },
  {
   "cell_type": "code",
   "execution_count": null,
   "id": "6df2f6db",
   "metadata": {},
   "outputs": [],
   "source": [
    "print(np.zeros(10))"
   ]
  },
  {
   "cell_type": "markdown",
   "id": "5a09554f",
   "metadata": {},
   "source": [
    "#### 4. How to find the memory size of any array (★☆☆)"
   ]
  },
  {
   "cell_type": "code",
   "execution_count": null,
   "id": "c55a2a00",
   "metadata": {},
   "outputs": [],
   "source": [
    "A = np.zeros(10)\n",
    "print(A.size, A.itemsize)\n",
    "print(A.size * A.itemsize)\n",
    "\n",
    "A = np.random.randint(0, 100, (100, 2))\n",
    "print(f\"{A.size=}, {A.itemsize=}, {A.size*A.itemsize=}\")"
   ]
  },
  {
   "cell_type": "markdown",
   "id": "4720d438",
   "metadata": {},
   "source": [
    "#### 5. How to get the documentation of the numpy add function from the command line? (★☆☆)"
   ]
  },
  {
   "cell_type": "code",
   "execution_count": null,
   "id": "d9e2277e",
   "metadata": {},
   "outputs": [],
   "source": [
    "# np.info(np.add)\n",
    "!python -c 'import numpy; numpy.info(numpy.add)'"
   ]
  },
  {
   "cell_type": "markdown",
   "id": "b812d322",
   "metadata": {},
   "source": [
    "#### 6. Create a null vector of size 10 but the fifth value which is 1 (★☆☆)"
   ]
  },
  {
   "cell_type": "code",
   "execution_count": null,
   "id": "9f95cedf",
   "metadata": {},
   "outputs": [],
   "source": [
    "# hint(6)\n",
    "A = np.zeros(10).astype(np.int32)\n",
    "A[4] = 1\n",
    "print(A)"
   ]
  },
  {
   "cell_type": "markdown",
   "id": "a348f2a8",
   "metadata": {},
   "source": [
    "#### 7. Create a vector with values ranging from 10 to 49 (★☆☆)"
   ]
  },
  {
   "cell_type": "code",
   "execution_count": null,
   "id": "5a68fd5b",
   "metadata": {},
   "outputs": [],
   "source": [
    "print(np.arange(10, 50))"
   ]
  },
  {
   "cell_type": "markdown",
   "id": "2f4ca4c0",
   "metadata": {},
   "source": [
    "#### 8. Reverse a vector (first element becomes last) (★☆☆)"
   ]
  },
  {
   "cell_type": "code",
   "execution_count": null,
   "id": "1892e775",
   "metadata": {},
   "outputs": [],
   "source": [
    "A = np.arange(0, 10)\n",
    "print(A[::-1])"
   ]
  },
  {
   "cell_type": "markdown",
   "id": "31381832",
   "metadata": {},
   "source": [
    "#### 9. Create a 3x3 matrix with values ranging from 0 to 8 (★☆☆)"
   ]
  },
  {
   "cell_type": "code",
   "execution_count": null,
   "id": "0154f251",
   "metadata": {},
   "outputs": [],
   "source": [
    "print(np.arange(0, 9).reshape(3,3))"
   ]
  },
  {
   "cell_type": "markdown",
   "id": "8c353e84",
   "metadata": {},
   "source": [
    "#### 10. Find indices of non-zero elements from [1,2,0,0,4,0] (★☆☆)"
   ]
  },
  {
   "cell_type": "code",
   "execution_count": null,
   "id": "da3495c3",
   "metadata": {},
   "outputs": [],
   "source": [
    "A = np.array([1,2,0,0,4,0])\n",
    "print(np.argwhere(A != 0).reshape(-1))\n",
    "# np.info(np.argwhere)\n",
    "\n",
    "print(A.reshape(2, -1))\n",
    "print(np.nonzero([1,2,0,0,4,0]))\n",
    "print(np.nonzero(A.reshape(2,-1)))\n",
    "# rst = np.nonzero(A)\n",
    "# answer(10)"
   ]
  },
  {
   "cell_type": "markdown",
   "id": "a26ac749",
   "metadata": {},
   "source": [
    "#### 11. Create a 3x3 identity matrix (★☆☆)"
   ]
  },
  {
   "cell_type": "code",
   "execution_count": null,
   "id": "3e33feda",
   "metadata": {},
   "outputs": [],
   "source": [
    "# answer(11)\n",
    "print(np.eye(3))"
   ]
  },
  {
   "cell_type": "markdown",
   "id": "3a293379",
   "metadata": {},
   "source": [
    "#### 12. Create a 3x3x3 array with random values (★☆☆)"
   ]
  },
  {
   "cell_type": "code",
   "execution_count": null,
   "id": "2da08152",
   "metadata": {},
   "outputs": [],
   "source": [
    "# np.info(np.random.uniform)\n",
    "print(np.random.random((3,3,3)))\n",
    "\n",
    "# answer(12)"
   ]
  },
  {
   "cell_type": "markdown",
   "id": "e3faa924",
   "metadata": {},
   "source": [
    "#### 13. Create a 10x10 array with random values and find the minimum and maximum values (★☆☆)"
   ]
  },
  {
   "cell_type": "code",
   "execution_count": null,
   "id": "e9fb3793",
   "metadata": {},
   "outputs": [],
   "source": [
    "Z = np.random.random((10,10))\n",
    "print(np.min(Z))\n",
    "print(np.max(Z))"
   ]
  },
  {
   "cell_type": "markdown",
   "id": "317cb8d1",
   "metadata": {},
   "source": [
    "#### 14. Create a random vector of size 30 and find the mean value (★☆☆)"
   ]
  },
  {
   "cell_type": "code",
   "execution_count": null,
   "id": "4ea995d6",
   "metadata": {},
   "outputs": [],
   "source": [
    "Z = np.random.randint(0, 30, 30)\n",
    "print(Z, np.mean(Z))\n",
    "\n",
    "Z = np.random.random(30)\n",
    "print(Z, np.mean(Z))"
   ]
  },
  {
   "cell_type": "markdown",
   "id": "b8dee0f2",
   "metadata": {},
   "source": [
    "#### 15. Create a 2d array with 1 on the border and 0 inside (★☆☆)"
   ]
  },
  {
   "cell_type": "code",
   "execution_count": null,
   "id": "7054464b",
   "metadata": {},
   "outputs": [],
   "source": [
    "Z = np.zeros((5,5))\n",
    "# print(Z)\n",
    "Z[:,[0,-1]] = 1\n",
    "Z[[0,-1],:] = 1\n",
    "print(Z)"
   ]
  },
  {
   "cell_type": "markdown",
   "id": "1476f45f",
   "metadata": {},
   "source": [
    "#### 16. How to add a border (filled with 0's) around an existing array? (★☆☆)"
   ]
  },
  {
   "cell_type": "code",
   "execution_count": null,
   "id": "4f0212af",
   "metadata": {},
   "outputs": [],
   "source": [
    "Z = np.ones((5,5))\n",
    "Z[:,[0,-1]] = 0\n",
    "Z[[0,-1],:] = 0\n",
    "print(Z)\n",
    "\n",
    "# answer(16)\n",
    "A = np.ones((3,3))\n",
    "print(np.pad(A, pad_width=1, mode='constant', constant_values=0))"
   ]
  },
  {
   "cell_type": "markdown",
   "id": "52844dc7",
   "metadata": {},
   "source": [
    "#### 17. What is the result of the following expression? (★☆☆)\n",
    "```python\n",
    "0 * np.nan\n",
    "np.nan == np.nan\n",
    "np.inf > np.nan\n",
    "np.nan - np.nan\n",
    "np.nan in set([np.nan])\n",
    "0.3 == 3 * 0.1\n",
    "```"
   ]
  },
  {
   "cell_type": "code",
   "execution_count": null,
   "id": "cfdb7352",
   "metadata": {},
   "outputs": [],
   "source": [
    "print(f\"{0 * np.nan=}\")\n",
    "print(f\"{(np.nan == np.nan)=}\")\n",
    "print(f\"{(np.nan > np.nan)=}\")\n",
    "print(f\"{(np.nan - np.nan)=}\")\n",
    "print(f\"{(np.nan in set([np.nan]))=}\")\n",
    "print(f\"{(0.3 == 3 * 0.1)=}\")"
   ]
  },
  {
   "cell_type": "markdown",
   "id": "9801c961",
   "metadata": {},
   "source": [
    "#### 18. Create a 5x5 matrix with values 1,2,3,4 just below the diagonal (★☆☆)"
   ]
  },
  {
   "cell_type": "code",
   "execution_count": null,
   "id": "4e97651a",
   "metadata": {},
   "outputs": [],
   "source": [
    "Z = np.zeros((5,5)).astype(int)\n",
    "for ij in range(0,4):\n",
    "    Z[ij+1][ij] = ij + 1\n",
    "print(Z)\n",
    "\n",
    "# answer(18)\n",
    "# np.info(np.diag)\n",
    "print(np.diag(1+np.arange(0,4), k=-1))"
   ]
  },
  {
   "cell_type": "markdown",
   "id": "3dc05e9f",
   "metadata": {},
   "source": [
    "#### 19. Create a 8x8 matrix and fill it with a checkerboard pattern (★☆☆)"
   ]
  },
  {
   "cell_type": "code",
   "execution_count": null,
   "id": "0b100b85",
   "metadata": {},
   "outputs": [],
   "source": [
    "Z = np.zeros((8,8), dtype=int)\n",
    "# print(Z)\n",
    "Z[::2,::2] = 1\n",
    "Z[1::2,1::2] = 1\n",
    "print(Z)\n",
    "\n",
    "# answer(19)"
   ]
  },
  {
   "cell_type": "markdown",
   "id": "d8e941b6",
   "metadata": {},
   "source": [
    "#### 20. Consider a (6,7,8) shape array, what is the index (x,y,z) of the 100th element? (★☆☆)"
   ]
  },
  {
   "cell_type": "code",
   "execution_count": null,
   "id": "b3bc1fcb",
   "metadata": {},
   "outputs": [],
   "source": [
    "# hint(20)\n",
    "# np.info(np.unravel_index)\n",
    "print(np.unravel_index(99, (6,7,8)))\n",
    "print(1*7*8 + 5*8 + 3)"
   ]
  },
  {
   "cell_type": "markdown",
   "id": "bf3b8ab3",
   "metadata": {},
   "source": [
    "#### 21. Create a checkerboard 8x8 matrix using the tile function (★☆☆)"
   ]
  },
  {
   "cell_type": "code",
   "execution_count": null,
   "id": "eb15c681",
   "metadata": {},
   "outputs": [],
   "source": [
    "Z = np.array([1, 0, 0, 1]).reshape(2,2)\n",
    "print(Z)\n",
    "print(np.tile(Z, (4,4)))"
   ]
  },
  {
   "cell_type": "markdown",
   "id": "71af9d19",
   "metadata": {},
   "source": [
    "#### 22. Normalize a 5x5 random matrix (★☆☆)"
   ]
  },
  {
   "cell_type": "code",
   "execution_count": null,
   "id": "df20b788",
   "metadata": {},
   "outputs": [],
   "source": [
    "Z = np.random.randint(0, 10, (5,5))\n",
    "print(Z)\n",
    "# print(np.mean(Z, axis=1))\n",
    "# print(np.mean(Z))\n",
    "# print(np.std(Z))\n",
    "print((Z - np.mean(Z))/np.std(Z))"
   ]
  },
  {
   "cell_type": "markdown",
   "id": "01cd9893",
   "metadata": {},
   "source": [
    "#### 23. Create a custom dtype that describes a color as four unsigned bytes (RGBA) (★☆☆)"
   ]
  },
  {
   "cell_type": "code",
   "execution_count": null,
   "id": "4acddc2f",
   "metadata": {},
   "outputs": [],
   "source": [
    "color = np.dtype([\n",
    "    (\"r\", np.ubyte), \n",
    "    (\"g\", np.ubyte), \n",
    "    (\"b\", np.ubyte), \n",
    "    (\"a\", np.ubyte), \n",
    "])\n",
    "\n",
    "red = np.array((255, 0, 0, 1), dtype=color)\n",
    "print(red)\n",
    "print(red[\"r\"])\n",
    "\n",
    "# answer(23)"
   ]
  },
  {
   "cell_type": "markdown",
   "id": "0ef5f38b",
   "metadata": {},
   "source": [
    "#### 24. Multiply a 5x3 matrix by a 3x2 matrix (real matrix product) (★☆☆)"
   ]
  },
  {
   "cell_type": "code",
   "execution_count": null,
   "id": "3d36d4a0",
   "metadata": {},
   "outputs": [],
   "source": [
    "X = np.random.randint(0, 2, (5,3))\n",
    "Y = np.random.randint(0, 2, (3,2))\n",
    "print(X)\n",
    "print(Y)\n",
    "print(X@Y)\n",
    "print(np.dot(X, Y))\n",
    "# print(np.do)"
   ]
  },
  {
   "cell_type": "markdown",
   "id": "a46db425",
   "metadata": {},
   "source": [
    "#### 25. Given a 1D array, negate all elements which are between 3 and 8, in place. (★☆☆)"
   ]
  },
  {
   "cell_type": "code",
   "execution_count": null,
   "id": "86e3d6a8",
   "metadata": {},
   "outputs": [],
   "source": [
    "Z = np.random.randint(0, 10, 10)\n",
    "print(Z)\n",
    "print(np.logical_and(Z>3, Z<8))\n",
    "Z[np.logical_and(Z>3, Z<8)]*=-1\n",
    "print(Z)\n",
    "# answer(25)\n",
    "\n",
    "Z = np.arange(11)\n",
    "Z[(3 < Z) & (Z < 8)] *= -1\n",
    "print(Z)"
   ]
  },
  {
   "cell_type": "markdown",
   "id": "89fa6007",
   "metadata": {},
   "source": [
    "#### 26. What is the output of the following script? (★☆☆)\n",
    "```python\n",
    "# Author: Jake VanderPlas\n",
    "\n",
    "print(sum(range(5),-1))\n",
    "from numpy import *\n",
    "print(sum(range(5),-1))\n",
    "```"
   ]
  },
  {
   "cell_type": "code",
   "execution_count": null,
   "id": "7cf1d38c",
   "metadata": {},
   "outputs": [],
   "source": [
    "print(range(5))\n",
    "print(sum(range(5),-1))\n",
    "print(np.sum(range(5), -1))\n",
    "print(np.sum(range(5), initial=-1))\n",
    "\n",
    "# np.info(np.sum)"
   ]
  },
  {
   "cell_type": "markdown",
   "id": "38de4589",
   "metadata": {},
   "source": [
    "#### 27. Consider an integer vector Z, which of these expressions are legal? (★☆☆)\n",
    "```python\n",
    "Z**Z\n",
    "2 << Z >> 2\n",
    "Z <- Z\n",
    "1j*Z\n",
    "Z/1/1\n",
    "Z<Z>Z\n",
    "```"
   ]
  },
  {
   "cell_type": "code",
   "execution_count": null,
   "id": "a9dc9520",
   "metadata": {},
   "outputs": [],
   "source": [
    "Z = np.random.randint(0, 5, 10)\n",
    "print(Z)\n",
    "print(Z**Z)\n",
    "print(2 << Z >>2)\n",
    "print(Z <- Z)\n",
    "print(1j*Z)\n",
    "print(Z/1/1)\n",
    "# print(Z<Z>Z) ## error happen"
   ]
  },
  {
   "cell_type": "markdown",
   "id": "77c8b8c7",
   "metadata": {},
   "source": [
    "#### 28. What are the result of the following expressions? (★☆☆)\n",
    "```python\n",
    "np.array(0) / np.array(0)\n",
    "np.array(0) // np.array(0)\n",
    "np.array([np.nan]).astype(int).astype(float)\n",
    "```"
   ]
  },
  {
   "cell_type": "code",
   "execution_count": null,
   "id": "3b66fe44",
   "metadata": {},
   "outputs": [],
   "source": [
    "print(np.array(0) / np.array(0))\n",
    "print(np.array(0) // np.array(0))\n",
    "print(np.array([np.nan]).astype(int).astype(float))"
   ]
  },
  {
   "cell_type": "markdown",
   "id": "1f3f0892",
   "metadata": {},
   "source": [
    "#### 29. How to round away from zero a float array ? (★☆☆)"
   ]
  },
  {
   "cell_type": "code",
   "execution_count": null,
   "id": "8fce1bd7",
   "metadata": {},
   "outputs": [],
   "source": [
    "Z = np.random.normal(loc=0, scale=10, size=10)\n",
    "# np.random.randn\n",
    "print(Z)\n",
    "absRoundZ = np.ceil(np.abs(Z))\n",
    "print(np.copysign(absRoundZ, Z))\n",
    "# np.info(np.copysign)"
   ]
  },
  {
   "cell_type": "markdown",
   "id": "53f47438",
   "metadata": {},
   "source": [
    "#### 30. How to find common values between two arrays? (★☆☆)"
   ]
  },
  {
   "cell_type": "code",
   "execution_count": null,
   "id": "981db6ec",
   "metadata": {},
   "outputs": [],
   "source": [
    "X = np.random.randint(0, 10, 6)\n",
    "Y = np.random.randint(0, 10, 9)\n",
    "print(X)\n",
    "print(Y)\n",
    "print(np.intersect1d(X, Y))"
   ]
  },
  {
   "cell_type": "markdown",
   "id": "51cf9109",
   "metadata": {},
   "source": [
    "#### 31. How to ignore all numpy warnings (not recommended)? (★☆☆)"
   ]
  },
  {
   "cell_type": "code",
   "execution_count": null,
   "id": "09ba7521",
   "metadata": {},
   "outputs": [],
   "source": [
    "# Suicide mode on\n",
    "defaults = np.seterr(all=\"ignore\")\n",
    "Z = np.ones(1) / 0\n",
    "\n",
    "# Back to sanity\n",
    "_ = np.seterr(**defaults)\n",
    "\n",
    "# Equivalently with a context manager\n",
    "with np.errstate(all=\"ignore\"):\n",
    "    np.arange(3) / 0"
   ]
  },
  {
   "cell_type": "markdown",
   "id": "948a691b",
   "metadata": {},
   "source": [
    "#### 32. Is the following expressions true? (★☆☆)\n",
    "```python\n",
    "np.sqrt(-1) == np.emath.sqrt(-1)\n",
    "```"
   ]
  },
  {
   "cell_type": "code",
   "execution_count": null,
   "id": "6d8f745b",
   "metadata": {},
   "outputs": [],
   "source": [
    "print(np.sqrt(-1))\n",
    "print(np.emath.sqrt(-1))"
   ]
  },
  {
   "cell_type": "markdown",
   "id": "d1a8992e",
   "metadata": {},
   "source": [
    "#### 33. How to get the dates of yesterday, today and tomorrow? (★☆☆)"
   ]
  },
  {
   "cell_type": "code",
   "execution_count": null,
   "id": "31a1ade2",
   "metadata": {},
   "outputs": [],
   "source": [
    "# answer(33)\n",
    "today = np.datetime64('today')\n",
    "yday = today - np.timedelta64(1)\n",
    "nday = today + np.timedelta64(1)\n",
    "print(yday, today, nday)"
   ]
  },
  {
   "cell_type": "markdown",
   "id": "01378794",
   "metadata": {},
   "source": [
    "#### 34. How to get all the dates corresponding to the month of July 2016? (★★☆)"
   ]
  },
  {
   "cell_type": "code",
   "execution_count": null,
   "id": "928c55c6",
   "metadata": {},
   "outputs": [],
   "source": [
    "Z = np.arange('2016-07', '2016-08', dtype='datetime64[D]')\n",
    "print(Z)"
   ]
  },
  {
   "cell_type": "markdown",
   "id": "e3f8fe94",
   "metadata": {},
   "source": [
    "#### 35. How to compute ((A+B)*(-A/2)) in place (without copy)? (★★☆)"
   ]
  },
  {
   "cell_type": "code",
   "execution_count": null,
   "id": "14e478d5",
   "metadata": {},
   "outputs": [],
   "source": [
    "A = np.random.randint(0, 5, 5).astype(float)\n",
    "B = np.random.randint(0, 5, 5).astype(float)\n",
    "print(A, B)\n",
    "np.add(A, B, out=B)\n",
    "np.divide(A, 2, out=A)\n",
    "np.negative(A, out=A)\n",
    "np.multiply(A,B, out=A)\n",
    "print(A, B)"
   ]
  },
  {
   "cell_type": "markdown",
   "id": "5c4d58c9",
   "metadata": {},
   "source": [
    "#### 36. Extract the integer part of a random array of positive numbers using 4 different methods (★★☆)"
   ]
  },
  {
   "cell_type": "code",
   "execution_count": null,
   "id": "586beded",
   "metadata": {},
   "outputs": [],
   "source": [
    "# Z = np.abs(np.random.normal(0, 10, 10))\n",
    "print(Z)\n",
    "print(Z // 1)\n",
    "print(Z - np.mod(Z, 1))\n",
    "print(np.floor(Z))\n",
    "print(np.trunc(Z))\n",
    "print(Z.astype(int))\n",
    "\n",
    "# answer(36)"
   ]
  },
  {
   "cell_type": "markdown",
   "id": "62628653",
   "metadata": {},
   "source": [
    "#### 37. Create a 5x5 matrix with row values ranging from 0 to 4 (★★☆)"
   ]
  },
  {
   "cell_type": "code",
   "execution_count": null,
   "id": "e57763b3",
   "metadata": {},
   "outputs": [],
   "source": [
    "Z = np.arange(5)\n",
    "print(np.tile(Z, 5).reshape(5,5))\n",
    "print(np.tile(Z, (5,1)))\n",
    "\n",
    "print(np.zeros((5, 5)) + np.arange(5))"
   ]
  },
  {
   "cell_type": "markdown",
   "id": "d3d46d64",
   "metadata": {},
   "source": [
    "#### 38. Consider a generator function that generates 10 integers and use it to build an array (★☆☆)"
   ]
  },
  {
   "cell_type": "code",
   "execution_count": null,
   "id": "24590d8c",
   "metadata": {},
   "outputs": [],
   "source": [
    "def igen_10():\n",
    "    for x in range(10):\n",
    "        yield(x)\n",
    "\n",
    "Z = np.fromiter(igen_10(), dtype=np.int32, count=-1)\n",
    "print(Z)"
   ]
  },
  {
   "cell_type": "markdown",
   "id": "5e1e51e4",
   "metadata": {},
   "source": [
    "#### 39. Create a vector of size 10 with values ranging from 0 to 1, both excluded (★★☆)"
   ]
  },
  {
   "cell_type": "code",
   "execution_count": null,
   "id": "def73884",
   "metadata": {},
   "outputs": [],
   "source": [
    "Z = np.linspace(start=0, stop=1, num=11, endpoint=False)[1:]\n",
    "print(Z)\n",
    "\n",
    "# answer(39)"
   ]
  },
  {
   "cell_type": "markdown",
   "id": "9e19964c",
   "metadata": {},
   "source": [
    "#### 40. Create a random vector of size 10 and sort it (★★☆)"
   ]
  },
  {
   "cell_type": "code",
   "execution_count": null,
   "id": "ec302eb1",
   "metadata": {},
   "outputs": [],
   "source": [
    "Z = np.random.random(10)\n",
    "print(np.sort(Z))\n",
    "\n",
    "# answer(40)"
   ]
  },
  {
   "cell_type": "markdown",
   "id": "13a034e2",
   "metadata": {},
   "source": [
    "#### 41. How to sum a small array faster than np.sum? (★★☆)"
   ]
  },
  {
   "cell_type": "code",
   "execution_count": null,
   "id": "b09a3551",
   "metadata": {},
   "outputs": [],
   "source": [
    "# answer(41)\n",
    "\n",
    "Z = np.arange(10)\n",
    "print(np.add.reduce(Z))"
   ]
  },
  {
   "cell_type": "markdown",
   "id": "32d10473",
   "metadata": {},
   "source": [
    "#### 42. Consider two random arrays A and B, check if they are equal (★★☆)"
   ]
  },
  {
   "cell_type": "code",
   "execution_count": null,
   "id": "5ebb1103",
   "metadata": {},
   "outputs": [],
   "source": [
    "A = np.random.randint(0, 2, 5)\n",
    "B = np.random.randint(0, 2, 5)\n",
    "print(A, B)\n",
    "print(np.logical_and.reduce(A == B))\n",
    "print(np.allclose(A, B))\n",
    "\n",
    "A = np.zeros(5)\n",
    "B = np.zeros(5)\n",
    "print(np.logical_and.reduce(A == B))\n",
    "print(np.array_equal(A, B))\n",
    "\n",
    "# answer(42)"
   ]
  },
  {
   "cell_type": "markdown",
   "id": "a50474b0",
   "metadata": {},
   "source": [
    "#### 43. Make an array immutable (read-only) (★★☆)"
   ]
  },
  {
   "cell_type": "code",
   "execution_count": null,
   "id": "db6fe176",
   "metadata": {},
   "outputs": [],
   "source": [
    "# answer(43)\n",
    "Z = np.zeros(10)\n",
    "Z.flags.writeable = False\n",
    "# Z[0] = 1 # errors "
   ]
  },
  {
   "cell_type": "markdown",
   "id": "b7a6093e",
   "metadata": {},
   "source": [
    "#### 44. Consider a random 10x2 matrix representing cartesian coordinates, convert them to polar coordinates (★★☆)"
   ]
  },
  {
   "cell_type": "code",
   "execution_count": null,
   "id": "4479c48d",
   "metadata": {},
   "outputs": [],
   "source": [
    "answer(44)\n",
    "Z = np.random.random((10, 2))\n",
    "X,Y = Z[:,0], Z[:,1]\n",
    "R = np.sqrt(X**2 + Y**2)\n",
    "T = np.arctan2(Y,X)\n",
    "print(R)\n",
    "print(T)"
   ]
  },
  {
   "cell_type": "markdown",
   "id": "934f889c",
   "metadata": {},
   "source": [
    "#### 45. Create random vector of size 10 and replace the maximum value by 0 (★★☆)"
   ]
  },
  {
   "cell_type": "code",
   "execution_count": null,
   "id": "4b576814",
   "metadata": {},
   "outputs": [],
   "source": [
    "Z = np.random.randint(0, 10, 10)\n",
    "print(Z)\n",
    "Z[np.argmax(Z)] = 0\n",
    "Z[Z.argmax()] = 0\n",
    "print(Z)\n",
    "\n",
    "# answer(45)"
   ]
  },
  {
   "cell_type": "markdown",
   "id": "d4f6e2e1",
   "metadata": {},
   "source": [
    "#### 46. Create a structured array with `x` and `y` coordinates covering the [0,1]x[0,1] area (★★☆)"
   ]
  },
  {
   "cell_type": "code",
   "execution_count": null,
   "id": "f90f969b",
   "metadata": {},
   "outputs": [],
   "source": [
    "# answer(46)\n",
    "\n",
    "Z = np.zeros((5,5), [('x',float),('y',float)])\n",
    "Z['x'], Z['y'] = np.meshgrid(np.linspace(0,1,5),\n",
    "                             np.linspace(0,1,5))\n",
    "print(Z)"
   ]
  },
  {
   "cell_type": "markdown",
   "id": "bc9c88d3",
   "metadata": {},
   "source": [
    "#### 47. Given two arrays, X and Y, construct the Cauchy matrix C (Cij =1/(xi - yj)) (★★☆)"
   ]
  },
  {
   "cell_type": "code",
   "execution_count": null,
   "id": "e90ad595",
   "metadata": {},
   "outputs": [],
   "source": [
    "# answer(47)\n",
    "X = np.arange(3)\n",
    "Y = X + 0.5\n",
    "print(X, Y)\n",
    "C = 1.0 / np.subtract.outer(X, Y)\n",
    "print(C)\n",
    "print(np.linalg.det(C))"
   ]
  },
  {
   "cell_type": "markdown",
   "id": "a840a52f",
   "metadata": {},
   "source": [
    "#### 48. Print the minimum and maximum representable values for each numpy scalar type (★★☆)"
   ]
  },
  {
   "cell_type": "code",
   "execution_count": null,
   "id": "d2eb3b4a",
   "metadata": {},
   "outputs": [],
   "source": [
    "answer(48)\n",
    "\n",
    "for dtype in [np.int8, np.int32, np.int64]:\n",
    "   print(np.iinfo(dtype).min)\n",
    "   print(np.iinfo(dtype).max)\n",
    "for dtype in [np.float16, np.float32, np.float64]:\n",
    "   print(np.finfo(dtype).min)\n",
    "   print(np.finfo(dtype).max)\n",
    "   print(np.finfo(dtype).eps)"
   ]
  },
  {
   "cell_type": "markdown",
   "id": "0a0819d5",
   "metadata": {},
   "source": [
    "#### 49. How to print all the values of an array? (★★☆)"
   ]
  },
  {
   "cell_type": "code",
   "execution_count": null,
   "id": "d76dbf55",
   "metadata": {},
   "outputs": [],
   "source": [
    "answer(49)\n",
    "\n",
    "np.set_printoptions(threshold=float(\"inf\"))\n",
    "Z = np.zeros((40,40))\n",
    "print(Z)\n",
    "\n",
    "np.set_printoptions(threshold=100)"
   ]
  },
  {
   "cell_type": "markdown",
   "id": "50c62214",
   "metadata": {},
   "source": [
    "#### 50. How to find the closest value (to a given scalar) in a vector? (★★☆)"
   ]
  },
  {
   "cell_type": "code",
   "execution_count": null,
   "id": "24b45bb5",
   "metadata": {},
   "outputs": [],
   "source": [
    "Z = np.random.random(10)\n",
    "x = np.random.random(1)[0]\n",
    "print(Z, x)\n",
    "\n",
    "print(Z[np.argmin(np.abs(Z - x))])\n",
    "\n",
    "answer(50)"
   ]
  },
  {
   "cell_type": "markdown",
   "id": "4c5a5116",
   "metadata": {},
   "source": [
    "#### 51. Create a structured array representing a position (x,y) and a color (r,g,b) (★★☆)"
   ]
  },
  {
   "cell_type": "code",
   "execution_count": null,
   "id": "275806b2",
   "metadata": {},
   "outputs": [],
   "source": [
    "answer(51)\n",
    "\n",
    "Z = np.zeros(10, dtype=[\n",
    "    ('position', [ ('x', float, 1), ('y', float, 1)]),\n",
    "    ('color',    [ ('r', float, 1), \n",
    "                  ('g', float, 1), \n",
    "                  ('b', float, 1), \n",
    "                  ])])\n",
    "print(Z)"
   ]
  },
  {
   "cell_type": "markdown",
   "id": "1d3399ca",
   "metadata": {},
   "source": [
    "#### 52. Consider a random vector with shape (100,2) representing coordinates, find point by point distances (★★☆)"
   ]
  },
  {
   "cell_type": "code",
   "execution_count": null,
   "id": "67eae5bf",
   "metadata": {},
   "outputs": [],
   "source": [
    "answer(52)\n",
    "\n",
    "Z = np.random.random((10,2))\n",
    "X,Y = np.atleast_2d(Z[:,0], Z[:,1])\n",
    "D = np.sqrt( (X-X.T)**2 + (Y-Y.T)**2)\n",
    "print(D)\n",
    "\n",
    "print(D.size)\n"
   ]
  },
  {
   "cell_type": "markdown",
   "id": "003ff920",
   "metadata": {},
   "source": [
    "#### 53. How to convert a float (32 bits) array into an integer (32 bits) array in place?"
   ]
  },
  {
   "cell_type": "code",
   "execution_count": null,
   "id": "76245e6d",
   "metadata": {},
   "outputs": [],
   "source": [
    "# answer(53)\n",
    "\n",
    "Z = (np.random.rand(10)*100).astype(np.float32)\n",
    "print(Z)\n",
    "Y = Z.view(np.int32)\n",
    "print(Y)\n",
    "Y[:] = Z\n",
    "print(Y)"
   ]
  },
  {
   "cell_type": "markdown",
   "id": "0c99eac4",
   "metadata": {},
   "source": [
    "#### 54. How to read the following file? (★★☆)\n",
    "```\n",
    "1, 2, 3, 4, 5\n",
    "6,  ,  , 7, 8\n",
    " ,  , 9,10,11\n",
    "```"
   ]
  },
  {
   "cell_type": "code",
   "execution_count": null,
   "id": "55c6bf8c",
   "metadata": {},
   "outputs": [],
   "source": [
    "# answer(54)\n",
    "from io import StringIO\n",
    "# Fake file\n",
    "s = StringIO('''1, 2, 3, 4, 5\n",
    "                6,  ,  , 7, 8\n",
    "                 ,  , 9,10,11\n",
    "                 ''')\n",
    "Z = np.genfromtxt(s, delimiter=\",\", dtype=np.int32, filling_values=0)\n",
    "print(Z)"
   ]
  },
  {
   "cell_type": "markdown",
   "id": "8cd30360",
   "metadata": {},
   "source": [
    "#### 55. What is the equivalent of enumerate for numpy arrays? (★★☆)"
   ]
  },
  {
   "cell_type": "code",
   "execution_count": null,
   "id": "608315ba",
   "metadata": {},
   "outputs": [],
   "source": [
    "answer(55)\n",
    "\n",
    "Z = (np.arange(9) + 1).reshape(3, 3)\n",
    "for idx, value in np.ndenumerate(Z):\n",
    "    print(idx, value)\n",
    "for idx in np.ndindex(Z.shape):\n",
    "    print(idx, Z[idx])"
   ]
  },
  {
   "cell_type": "markdown",
   "id": "4823a294",
   "metadata": {},
   "source": [
    "#### 56. Generate a generic 2D Gaussian-like array (★★☆)"
   ]
  },
  {
   "cell_type": "code",
   "execution_count": null,
   "id": "9b3b682d",
   "metadata": {},
   "outputs": [],
   "source": [
    "answer(56)"
   ]
  },
  {
   "cell_type": "markdown",
   "id": "2dd8891d",
   "metadata": {},
   "source": [
    "#### 57. How to randomly place p elements in a 2D array? (★★☆)"
   ]
  },
  {
   "cell_type": "code",
   "execution_count": null,
   "id": "a55c52dc",
   "metadata": {},
   "outputs": [],
   "source": [
    "answer(57)\n",
    "n, p = 10, 3\n",
    "Z = np.zeros((n, n))\n",
    "np.put(Z, np.random.choice(range(n*n), p, replace=False), 1)\n",
    "print(Z)"
   ]
  },
  {
   "cell_type": "markdown",
   "id": "270b6834",
   "metadata": {},
   "source": [
    "#### 58. Subtract the mean of each row of a matrix (★★☆)"
   ]
  },
  {
   "cell_type": "code",
   "execution_count": null,
   "id": "814080c9",
   "metadata": {},
   "outputs": [],
   "source": [
    "Z = np.random.randint(0, 10, (5, 3))\n",
    "meanZ = np.add.reduce(Z, axis=-1) / Z.shape[-1]\n",
    "print(Z)\n",
    "print(Z - meanZ.reshape(-1, 1))\n",
    "\n",
    "answer(58)"
   ]
  },
  {
   "cell_type": "markdown",
   "id": "52c92916",
   "metadata": {},
   "source": [
    "#### 59. How to sort an array by the nth column? (★★☆)"
   ]
  },
  {
   "cell_type": "code",
   "execution_count": null,
   "id": "c6ebac6d",
   "metadata": {},
   "outputs": [],
   "source": [
    "# answer(59)\n",
    "\n",
    "nth_col = 1\n",
    "Z = np.random.randint(0, 10, (4, 4))\n",
    "print(Z)\n",
    "print(Z[:,nth_col])\n",
    "print(Z[:,nth_col].argsort())\n",
    "print(Z[Z[:,nth_col].argsort()])"
   ]
  },
  {
   "cell_type": "markdown",
   "id": "05cef60b",
   "metadata": {},
   "source": [
    "#### 60. How to tell if a given 2D array has null columns? (★★☆)"
   ]
  },
  {
   "cell_type": "code",
   "execution_count": null,
   "id": "85273cf3",
   "metadata": {},
   "outputs": [],
   "source": [
    "# answer(60)\n",
    "\n",
    "# null : 0\n",
    "Z = np.random.randint(0, 2, (2, 10))\n",
    "print(Z)\n",
    "print((~Z.any(axis=0)).any())\n",
    "np.argwhere(np.logical_and.reduce((Z == 0), axis=0)).reshape(-1)"
   ]
  },
  {
   "cell_type": "markdown",
   "id": "4891fdf5",
   "metadata": {},
   "source": [
    "#### 61. Find the nearest value from a given value in an array (★★☆)"
   ]
  },
  {
   "cell_type": "code",
   "execution_count": null,
   "id": "b38950fd",
   "metadata": {},
   "outputs": [],
   "source": [
    "Z = np.random.random(10)\n",
    "Z = np.random.uniform(0, 1, 20)\n",
    "x = 0.3\n",
    "print(Z)\n",
    "print(Z[(np.abs(Z - x)).argmin()])\n",
    "\n",
    "# answer(61)"
   ]
  },
  {
   "cell_type": "markdown",
   "id": "b34bfbc7",
   "metadata": {},
   "source": [
    "#### 62. Considering two arrays with shape (1,3) and (3,1), how to compute their sum using an iterator? (★★☆)"
   ]
  },
  {
   "cell_type": "code",
   "execution_count": null,
   "id": "aa7eb006",
   "metadata": {},
   "outputs": [],
   "source": [
    "# answer(62)\n",
    "\n",
    "A = np.arange(3).reshape(3,1)\n",
    "B = np.arange(3).reshape(1,3)\n",
    "it = np.nditer([A,B,None])\n",
    "print(A, B)\n",
    "for x,y,z in it: z[...] = x + y\n",
    "print(it.operands[2])"
   ]
  },
  {
   "cell_type": "markdown",
   "id": "77a27b83",
   "metadata": {},
   "source": [
    "#### 63. Create an array class that has a name attribute (★★☆)"
   ]
  },
  {
   "cell_type": "code",
   "execution_count": null,
   "id": "a2a83936",
   "metadata": {},
   "outputs": [],
   "source": [
    "# answer(63)\n",
    "\n",
    "class NameArray(np.ndarray):\n",
    "    def __new__(cls, array, name=\"mynamed_array\"):\n",
    "        obj = np.asarray(array).view(cls)\n",
    "        obj.name = name\n",
    "        return obj\n",
    "    def __array_finalize__(self, obj):\n",
    "        if obj is None: return \n",
    "        self.name = getattr(obj, 'name', 'unknown')\n",
    "\n",
    "Z = NameArray(np.arange(10), \"range10\")\n",
    "print(Z)\n",
    "print(Z.name)"
   ]
  },
  {
   "cell_type": "markdown",
   "id": "f7f5d229",
   "metadata": {},
   "source": [
    "#### 64. Consider a given vector, how to add 1 to each element indexed by a second vector (be careful with repeated indices)? (★★★)"
   ]
  },
  {
   "cell_type": "code",
   "execution_count": null,
   "id": "9b8f8f48",
   "metadata": {},
   "outputs": [],
   "source": [
    "X = np.random.randint(-10, 10, 10)\n",
    "Y = np.random.randint(0, 6, 10)\n",
    "# print(X, Y)\n",
    "bc = np.bincount(Y)\n",
    "print(bc)\n",
    "nzIdx = np.argwhere(bc != 0).reshape(-1)\n",
    "print(X)\n",
    "X[nzIdx] += 1\n",
    "print(X)\n",
    "\n",
    "answer(64)"
   ]
  },
  {
   "cell_type": "markdown",
   "id": "b067fca8",
   "metadata": {},
   "source": [
    "#### 65. How to accumulate elements of a vector (X) to an array (F) based on an index list (I)? (★★★)"
   ]
  },
  {
   "cell_type": "code",
   "execution_count": null,
   "id": "f983f8ba",
   "metadata": {},
   "outputs": [],
   "source": [
    "answer(65)\n",
    "X = [1,2,3,4,5,6]\n",
    "I = [1,3,9,3,4,1]\n",
    "F = np.bincount(I,X)\n",
    "print(F)"
   ]
  },
  {
   "cell_type": "markdown",
   "id": "765e2b8e",
   "metadata": {},
   "source": [
    "#### 66. Considering a (w,h,3) image of (dtype=ubyte), compute the number of unique colors (★★☆)"
   ]
  },
  {
   "cell_type": "code",
   "execution_count": null,
   "id": "7572d90d",
   "metadata": {},
   "outputs": [],
   "source": [
    "# answer(66)"
   ]
  },
  {
   "cell_type": "markdown",
   "id": "02743317",
   "metadata": {},
   "source": [
    "#### 67. Considering a four dimensions array, how to get sum over the last two axis at once? (★★★)"
   ]
  },
  {
   "cell_type": "code",
   "execution_count": null,
   "id": "980b5c45",
   "metadata": {},
   "outputs": [],
   "source": [
    "hint(67)\n",
    "Z = np.random.randint(0, 10, (2,2,2,3))\n",
    "\n",
    "print(Z)\n",
    "print(np.sum(Z, axis=(-2, -1)))"
   ]
  },
  {
   "cell_type": "markdown",
   "id": "fe8b8107",
   "metadata": {},
   "source": [
    "#### 68. Considering a one-dimensional vector D, how to compute means of subsets of D using a vector S of same size describing subset  indices? (★★★)"
   ]
  },
  {
   "cell_type": "code",
   "execution_count": null,
   "id": "9c17c8c9",
   "metadata": {},
   "outputs": [],
   "source": [
    "# answer(68)\n",
    "D = np.random.randint(0, 10, 20)\n",
    "S = np.random.randint(0, len(D), 20)\n",
    "print(D)\n",
    "print(S)\n",
    "\n",
    "D_sums = np.bincount(S, weights=D)\n",
    "D_counts = np.bincount(S)\n",
    "print(D_sums)\n",
    "print(D_counts)\n",
    "print(D_sums / D_counts)"
   ]
  },
  {
   "cell_type": "markdown",
   "id": "7efa1173",
   "metadata": {},
   "source": [
    "#### 69. How to get the diagonal of a dot product? (★★★)"
   ]
  },
  {
   "cell_type": "code",
   "execution_count": null,
   "id": "59fc6a51",
   "metadata": {},
   "outputs": [],
   "source": [
    "# answer(69)\n",
    "\n",
    "# A = np.random.uniform(0,1,(3, 3))\n",
    "# B = np.random.uniform(0,1,(3, 3))\n",
    "A = np.random.randint(0,3, (3,3))\n",
    "B = np.random.randint(0,3, (3,3))\n",
    "\n",
    "print(A)\n",
    "print(B)\n",
    "\n",
    "print(np.dot(A, B))\n",
    "# slow\n",
    "print(np.diag(np.dot(A, B)))\n",
    "\n",
    "# fast\n",
    "print(np.sum(A * B.T, axis=1))\n",
    "\n",
    "# fast\n",
    "print(np.einsum(\"ij,ji->i\", A, B))"
   ]
  },
  {
   "cell_type": "markdown",
   "id": "b72adc30",
   "metadata": {},
   "source": [
    "#### 70. Consider the vector [1, 2, 3, 4, 5], how to build a new vector with 3 consecutive zeros interleaved between each value? (★★★)"
   ]
  },
  {
   "cell_type": "code",
   "execution_count": null,
   "id": "94b582b4",
   "metadata": {},
   "outputs": [],
   "source": [
    "answer(70)\n",
    "\n",
    "Z = np.array([1,2,3,4,5])\n",
    "nz = 3\n",
    "Z0 = np.zeros(len(Z) + (len(Z)-1)*nz)\n",
    "Z0[::nz+1] = Z\n",
    "print(Z0)"
   ]
  },
  {
   "cell_type": "markdown",
   "id": "fafa05b8",
   "metadata": {},
   "source": [
    "#### 71. Consider an array of dimension (5,5,3), how to multiply it by an array with dimensions (5,5)? (★★★)"
   ]
  },
  {
   "cell_type": "code",
   "execution_count": null,
   "id": "0dbb5bd4",
   "metadata": {},
   "outputs": [],
   "source": [
    "answer(71)\n",
    "A = np.ones((5,5,3))\n",
    "B = 2*np.ones((5,5))\n",
    "# print(A)\n",
    "# print(B)\n",
    "\n",
    "print(A * B[:,:,None])"
   ]
  },
  {
   "cell_type": "markdown",
   "id": "35a2bae5",
   "metadata": {},
   "source": [
    "#### 72. How to swap two rows of an array? (★★★)"
   ]
  },
  {
   "cell_type": "code",
   "execution_count": null,
   "id": "d63b30c3",
   "metadata": {},
   "outputs": [],
   "source": [
    "Z = np.diag(np.arange(1, 6))\n",
    "print(Z)\n",
    "i, j = 0, 3\n",
    "Z[[i,j]] = Z[[j,i]]\n",
    "print(Z)"
   ]
  },
  {
   "cell_type": "markdown",
   "id": "b760fc57",
   "metadata": {},
   "source": [
    "#### 73. Consider a set of 10 triplets describing 10 triangles (with shared vertices), find the set of unique line segments composing all the  triangles (★★★)"
   ]
  },
  {
   "cell_type": "code",
   "execution_count": null,
   "id": "01738774",
   "metadata": {},
   "outputs": [],
   "source": [
    "answer(73)\n",
    "# np.info(np.roll)"
   ]
  },
  {
   "cell_type": "markdown",
   "id": "2d28cdaa",
   "metadata": {},
   "source": [
    "#### 74. Given a sorted array C that corresponds to a bincount, how to produce an array A such that np.bincount(A) == C? (★★★)"
   ]
  },
  {
   "cell_type": "code",
   "execution_count": null,
   "id": "8423859b",
   "metadata": {},
   "outputs": [],
   "source": [
    "C = np.bincount([1,1,2,3,3,5,5,6])\n",
    "print(C)\n",
    "A = np.repeat(np.arange(len(C)), repeats=C)\n",
    "print(A)"
   ]
  },
  {
   "cell_type": "markdown",
   "id": "5f4cafbd",
   "metadata": {},
   "source": [
    "#### 75. How to compute averages using a sliding window over an array? (★★★)"
   ]
  },
  {
   "cell_type": "code",
   "execution_count": null,
   "id": "62d6d514",
   "metadata": {},
   "outputs": [],
   "source": [
    "def moving_avg(A, n=3):\n",
    "    ret = np.cumsum(A, dtype=float)\n",
    "    ret[n:] = ret[n:] - ret[:-n]\n",
    "    return ret[n-1:] / n\n",
    "\n",
    "Z = np.arange(20)\n",
    "print(Z)\n",
    "print(moving_avg(Z, n=3))\n",
    "\n",
    "# answer(75)"
   ]
  },
  {
   "cell_type": "markdown",
   "id": "575d8bb4",
   "metadata": {},
   "source": [
    "#### 76. Consider a one-dimensional array Z, build a two-dimensional array whose first row is (Z[0],Z[1],Z[2]) and each subsequent row is  shifted by 1 (last row should be (Z[-3],Z[-2],Z[-1]) (★★★)"
   ]
  },
  {
   "cell_type": "code",
   "execution_count": null,
   "id": "2a41d341",
   "metadata": {},
   "outputs": [],
   "source": [
    "from numpy.lib import stride_tricks\n",
    "\n",
    "Z = np.arange(10)\n",
    "print(Z)\n",
    "print(stride_tricks.sliding_window_view(Z, 3))"
   ]
  },
  {
   "cell_type": "markdown",
   "id": "80dc0b2a",
   "metadata": {},
   "source": [
    "#### 77. How to negate a boolean, or to change the sign of a float inplace? (★★★)"
   ]
  },
  {
   "cell_type": "code",
   "execution_count": null,
   "id": "6fc68014",
   "metadata": {},
   "outputs": [],
   "source": [
    "B = np.random.randint(0, 2, 10) == 1\n",
    "print(B)\n",
    "np.logical_not(B, out=B)\n",
    "print(B)\n",
    "\n",
    "Z = np.random.uniform(-10, 10, size=10)\n",
    "print(Z)\n",
    "np.negative(Z, out=Z)\n",
    "print(Z)"
   ]
  },
  {
   "cell_type": "markdown",
   "id": "7288634d",
   "metadata": {},
   "source": [
    "#### 78. Consider 2 sets of points P0,P1 describing lines (2d) and a point p, how to compute distance from p to each line i (P0[i],P1[i])? (★★★)"
   ]
  },
  {
   "cell_type": "code",
   "execution_count": null,
   "id": "4602caa6",
   "metadata": {},
   "outputs": [],
   "source": [
    "P0 = np.random.randint(0, 6, (5, 2))\n",
    "P1 = np.random.randint(0, 6, (5, 2))\n",
    "p  = np.random.uniform(-10,10,( 1,2))\n",
    "print(P0)\n",
    "print(P1)\n",
    "\n",
    "# answer(78)\n"
   ]
  },
  {
   "cell_type": "markdown",
   "id": "e1880e79",
   "metadata": {},
   "source": [
    "#### 79. Consider 2 sets of points P0,P1 describing lines (2d) and a set of points P, how to compute distance from each point j (P[j]) to each line i (P0[i],P1[i])? (★★★)"
   ]
  },
  {
   "cell_type": "code",
   "execution_count": null,
   "id": "a14e151b",
   "metadata": {},
   "outputs": [],
   "source": [
    "# answer(79)"
   ]
  },
  {
   "cell_type": "markdown",
   "id": "b8a2a287",
   "metadata": {},
   "source": [
    "#### 80. Consider an arbitrary array, write a function that extracts a subpart with a fixed shape and centered on a given element (pad with a `fill` value when necessary) (★★★)"
   ]
  },
  {
   "cell_type": "code",
   "execution_count": null,
   "id": "86af1186",
   "metadata": {},
   "outputs": [],
   "source": [
    "# answer(80)"
   ]
  },
  {
   "cell_type": "markdown",
   "id": "caa64150",
   "metadata": {},
   "source": [
    "#### 81. Consider an array Z = [1,2,3,4,5,6,7,8,9,10,11,12,13,14], how to generate an array R = [[1,2,3,4], [2,3,4,5], [3,4,5,6], ..., [11,12,13,14]]? (★★★)"
   ]
  },
  {
   "cell_type": "code",
   "execution_count": null,
   "id": "4e7cc696",
   "metadata": {},
   "outputs": [],
   "source": [
    "from numpy.lib import stride_tricks\n",
    "Z = np.arange(1, 15, dtype=np.uint32)\n",
    "print(Z)\n",
    "R = stride_tricks.sliding_window_view(Z, window_shape=4)\n",
    "print(R)\n"
   ]
  },
  {
   "cell_type": "markdown",
   "id": "9444c83b",
   "metadata": {},
   "source": [
    "#### 82. Compute a matrix rank (★★★)"
   ]
  },
  {
   "cell_type": "code",
   "execution_count": null,
   "id": "9e5c1d64",
   "metadata": {},
   "outputs": [],
   "source": [
    "Z = np.ones((10, 10))\n",
    "X = np.arange(1, 16, dtype=np.uint32).reshape((-1,3))\n",
    "print(Z)\n",
    "print(np.linalg.matrix_rank(Z))\n",
    "print(X)\n",
    "print(np.linalg.matrix_rank(X))\n",
    "\n",
    "answer(82)"
   ]
  },
  {
   "cell_type": "markdown",
   "id": "6eef9f33",
   "metadata": {},
   "source": [
    "#### 83. How to find the most frequent value in an array?"
   ]
  },
  {
   "cell_type": "code",
   "execution_count": null,
   "id": "9fb60e52",
   "metadata": {},
   "outputs": [],
   "source": [
    "Z = np.random.randint(1, 4, 17)\n",
    "print(Z)\n",
    "B = np.bincount(Z, minlength=len(Z))\n",
    "print(B)\n",
    "print(B.argmax())"
   ]
  },
  {
   "cell_type": "markdown",
   "id": "65f370f9",
   "metadata": {},
   "source": [
    "#### 84. Extract all the contiguous 3x3 blocks from a random 10x10 matrix (★★★)"
   ]
  },
  {
   "cell_type": "code",
   "execution_count": null,
   "id": "65ade1a6",
   "metadata": {},
   "outputs": [],
   "source": [
    "from numpy.lib import stride_tricks\n",
    "\n",
    "Z = np.arange(0, 100).reshape((10, 10))\n",
    "print(Z)\n",
    "\n",
    "X = stride_tricks.sliding_window_view(Z, window_shape=(3,3))\n",
    "print(X.shape)\n",
    "print(X)\n",
    "\n",
    "# answer(84)"
   ]
  },
  {
   "cell_type": "markdown",
   "id": "845ad7f8",
   "metadata": {},
   "source": [
    "#### 85. Create a 2D array subclass such that Z[i,j] == Z[j,i] (★★★)"
   ]
  },
  {
   "cell_type": "code",
   "execution_count": null,
   "id": "30b1ba71",
   "metadata": {},
   "outputs": [],
   "source": [
    "answer(85)\n",
    "\n",
    "class Symetric(np.ndarray):\n",
    "    def __setitem__(self, index, value):\n",
    "        i,j = index\n",
    "        super(Symetric, self).__setitem__((i,j), value)\n",
    "        super(Symetric, self).__setitem__((j,i), value)\n",
    "\n",
    "def symetric(Z):\n",
    "    return np.asarray(Z + Z.T - np.diag(Z.diagonal())).view(Symetric)\n",
    "\n",
    "S = symetric(np.random.randint(0, 10, (5,5)))\n",
    "S[2,3] = 1199\n",
    "print(S)"
   ]
  },
  {
   "cell_type": "markdown",
   "id": "adc48f02",
   "metadata": {},
   "source": [
    "#### 86. Consider a set of p matrices with shape (n,n) and a set of p vectors with shape (n,1). How to compute the sum of of the p matrix products at once? (result has shape (n,1)) (★★★)"
   ]
  },
  {
   "cell_type": "code",
   "execution_count": null,
   "id": "ec798e90",
   "metadata": {},
   "outputs": [],
   "source": [
    "answer(86)\n",
    "\n",
    "p,n = 2,3\n",
    "M = np.ones((p,n,n))\n",
    "V = np.ones((p,n,1))\n",
    "print(M)\n",
    "print(V)\n",
    "S = np.tensordot(M, V, axes=[[0, 2], [0, 1]])\n",
    "print(S)"
   ]
  },
  {
   "cell_type": "markdown",
   "id": "9efb34b2",
   "metadata": {},
   "source": [
    "#### 87. Consider a 16x16 array, how to get the block-sum (block size is 4x4)? (★★★)"
   ]
  },
  {
   "cell_type": "code",
   "execution_count": null,
   "id": "ea79f40b",
   "metadata": {},
   "outputs": [],
   "source": [
    "Z = np.tile(np.array([1,0,0,1]).reshape((2,2)), reps=(4,4))\n",
    "print(Z)\n",
    "k = 4\n",
    "S1 = np.add.reduceat(Z, np.arange(0, Z.shape[0], step=k), axis=0)\n",
    "S2 = np.add.reduceat(S1, np.arange(0, Z.shape[1], step=k), axis=1)\n",
    "print(S1)\n",
    "print(S2)\n",
    "\n",
    "\n",
    "# windows = np.lib.stride_tricks.sliding_window_view(Z, (k, k))\n",
    "# answer(87)"
   ]
  },
  {
   "cell_type": "markdown",
   "id": "a9368578",
   "metadata": {},
   "source": [
    "#### 88. How to implement the Game of Life using numpy arrays? (★★★)"
   ]
  },
  {
   "cell_type": "code",
   "execution_count": null,
   "id": "315e9f11",
   "metadata": {},
   "outputs": [],
   "source": [
    "# answer(88)"
   ]
  },
  {
   "cell_type": "markdown",
   "id": "8c598af3",
   "metadata": {},
   "source": [
    "#### 89. How to get the n largest values of an array (★★★)"
   ]
  },
  {
   "cell_type": "code",
   "execution_count": null,
   "id": "cba8d433",
   "metadata": {},
   "outputs": [],
   "source": [
    "# hint(89)\n",
    "Z = np.random.randint(0, 100, 20)\n",
    "print(Z)\n",
    "n = 5\n",
    "print(np.argsort(Z))\n",
    "print(Z[np.argsort(Z)[-n:]])\n",
    "\n",
    "print(np.sort(Z)[-n:])\n",
    "\n",
    "# answer(89)"
   ]
  },
  {
   "cell_type": "markdown",
   "id": "036a3bb0",
   "metadata": {},
   "source": [
    "#### 90. Given an arbitrary number of vectors, build the cartesian product (every combination of every item) (★★★)"
   ]
  },
  {
   "cell_type": "code",
   "execution_count": null,
   "id": "d712972d",
   "metadata": {},
   "outputs": [],
   "source": [
    "# answer(90)"
   ]
  },
  {
   "cell_type": "markdown",
   "id": "36487aab",
   "metadata": {},
   "source": [
    "#### 91. How to create a record array from a regular array? (★★★)"
   ]
  },
  {
   "cell_type": "code",
   "execution_count": null,
   "id": "9779dbac",
   "metadata": {},
   "outputs": [],
   "source": [
    "answer(91)\n",
    "\n",
    "Z = np.array([(\"Hello\", 2.5, 3),\n",
    "              (\"World\", 3.6, 2)])\n",
    "R = np.core.records.fromarrays(Z.T,\n",
    "                               names='col1, col2, col3',\n",
    "                               formats = 'S8, f8, i8')\n",
    "\n",
    "print(R)"
   ]
  },
  {
   "cell_type": "markdown",
   "id": "9f178562",
   "metadata": {},
   "source": [
    "#### 92. Consider a large vector Z, compute Z to the power of 3 using 3 different methods (★★★)"
   ]
  },
  {
   "cell_type": "code",
   "execution_count": null,
   "id": "b08000b8",
   "metadata": {},
   "outputs": [],
   "source": [
    "# Z = np.random.randint(0, 5, 10)\n",
    "print(Z)\n",
    "print(Z**3)\n",
    "print(np.power(Z, 3))\n",
    "print(Z*Z*Z)\n",
    "\n",
    "# answer(92)\n",
    "\n",
    "x = np.random.rand(int(1e2))\n",
    "\n",
    "%timeit np.power(x,3)\n",
    "%timeit x*x*x\n",
    "%timeit x**3\n",
    "%timeit np.einsum('i,i,i->i',x,x,x)"
   ]
  },
  {
   "cell_type": "markdown",
   "id": "86acaf60",
   "metadata": {},
   "source": [
    "#### 93. Consider two arrays A and B of shape (8,3) and (2,2). How to find rows of A that contain elements of each row of B regardless of the order of the elements in B? (★★★)"
   ]
  },
  {
   "cell_type": "code",
   "execution_count": null,
   "id": "793b26d4",
   "metadata": {},
   "outputs": [],
   "source": [
    "# A = np.random.randint(0, 10, (8, 3))\n",
    "# B = np.random.randint(0, 5, (2, 2))\n",
    "print(A)\n",
    "print(B)\n",
    "\n",
    "# np.info(np.any)\n",
    "for ri in range(0, B.shape[0]):\n",
    "    R = np.ones(8)\n",
    "    for cj in range(0, B.shape[1]):\n",
    "        C = A - B[ri][cj]\n",
    "        R = np.logical_and(R, np.any(C == 0, axis=1)) \n",
    "    # print(R)\n",
    "    print(A[R], B[ri])\n",
    "\n",
    "# answer(93)\n",
    "\n",
    "# C = (A[..., np.newaxis, np.newaxis] == B)\n",
    "# rows = np.where(C.any((3,1)).all(1))[0]\n",
    "# print(rows)"
   ]
  },
  {
   "cell_type": "markdown",
   "id": "c71b9df2",
   "metadata": {},
   "source": [
    "#### 94. Considering a 10x3 matrix, extract rows with unequal values (e.g. [2,2,3]) (★★★)"
   ]
  },
  {
   "cell_type": "code",
   "execution_count": null,
   "id": "494069f0",
   "metadata": {},
   "outputs": [],
   "source": [
    "# answer(94)\n",
    "Z = np.random.randint(0,2,(10,2))\n",
    "print(Z)\n",
    "# solution for arrays of all dtypes (including string arrays and record arrays)\n",
    "E = np.all(Z[:,1:] == Z[:,:-1], axis=1)\n",
    "U = Z[~E]\n",
    "print(U)"
   ]
  },
  {
   "cell_type": "markdown",
   "id": "1a8ae7c1",
   "metadata": {},
   "source": [
    "#### 95. Convert a vector of ints into a matrix binary representation (★★★)"
   ]
  },
  {
   "cell_type": "code",
   "execution_count": null,
   "id": "d5e967b8",
   "metadata": {},
   "outputs": [],
   "source": [
    "I = np.random.randint(0, 256, 10)\n",
    "print(I)\n",
    "B = ((I.reshape(-1, 1) & (2**np.arange(8))) != 0).astype(int)\n",
    "print(B[:,::-1])\n",
    "\n",
    "# answer(95)"
   ]
  },
  {
   "cell_type": "markdown",
   "id": "edef1198",
   "metadata": {},
   "source": [
    "#### 96. Given a two dimensional array, how to extract unique rows? (★★★)"
   ]
  },
  {
   "cell_type": "code",
   "execution_count": null,
   "id": "fa14799b",
   "metadata": {},
   "outputs": [],
   "source": [
    "Z = np.random.randint(0, 3, (10, 3))\n",
    "print(Z)\n",
    "\n",
    "R = np.unique(Z, axis=0)\n",
    "print(np.ascontiguousarray(R, like=Z))"
   ]
  },
  {
   "cell_type": "markdown",
   "id": "575598a1",
   "metadata": {},
   "source": [
    "#### 97. Considering 2 vectors A & B, write the einsum equivalent of inner, outer, sum, and mul function (★★★)"
   ]
  },
  {
   "cell_type": "code",
   "execution_count": null,
   "id": "9da72f6e",
   "metadata": {},
   "outputs": [],
   "source": [
    "# answer(97)\n",
    "A = np.arange(10)\n",
    "B = np.ones(10, dtype=int)\n",
    "print(A, B)\n",
    "\n",
    "print(\"\")\n",
    "\n",
    "print(f\"{np.einsum('i->', A) = }\")\n",
    "print(f\"{np.einsum('i,i->i', A, B) = }\")\n",
    "print(f\"{np.einsum('i,i', A, B) = }\")\n",
    "print(f\"{np.einsum('i,j->ij', A, B) = }\")\n",
    "print(f\"{np.einsum('i,j->ij', B, A) = }\")\n"
   ]
  },
  {
   "cell_type": "markdown",
   "id": "88e2796a",
   "metadata": {},
   "source": [
    "#### 98. Considering a path described by two vectors (X,Y), how to sample it using equidistant samples (★★★)?"
   ]
  },
  {
   "cell_type": "code",
   "execution_count": null,
   "id": "c17314f8",
   "metadata": {},
   "outputs": [
    {
     "name": "stdout",
     "output_type": "stream",
     "text": [
      "# Author: Bas Swinckels\n",
      "\n",
      "phi = np.arange(0, 10*np.pi, 0.1)\n",
      "a = 1\n",
      "x = a*phi*np.cos(phi)\n",
      "y = a*phi*np.sin(phi)\n",
      "\n",
      "dr = (np.diff(x)**2 + np.diff(y)**2)**.5 # segment lengths\n",
      "r = np.zeros_like(x)\n",
      "r[1:] = np.cumsum(dr)                # integrate path\n",
      "r_int = np.linspace(0, r.max(), 200) # regular spaced path\n",
      "x_int = np.interp(r_int, r, x)       # integrate path\n",
      "y_int = np.interp(r_int, r, y)\n"
     ]
    }
   ],
   "source": [
    "# answer(98)"
   ]
  },
  {
   "cell_type": "markdown",
   "id": "8b25b7bd",
   "metadata": {},
   "source": [
    "#### 99. Given an integer n and a 2D array X, select from X the rows which can be interpreted as draws from a multinomial distribution with n degrees, i.e., the rows which only contain integers and which sum to n. (★★★)"
   ]
  },
  {
   "cell_type": "code",
   "execution_count": 706,
   "id": "f0dc48cd",
   "metadata": {},
   "outputs": [
    {
     "name": "stdout",
     "output_type": "stream",
     "text": [
      "[[2. 0. 1. 1.]]\n"
     ]
    }
   ],
   "source": [
    "# answer(99)\n",
    "\n",
    "# Author: Evgeni Burovski\n",
    "X = np.asarray([[1.0, 0.0, 3.0, 8.0],\n",
    "                [2.0, 0.0, 1.0, 1.0],\n",
    "                [1.5, 2.5, 1.0, 0.0]])\n",
    "n = 4\n",
    "M = np.logical_and.reduce(np.mod(X, 1) == 0, axis=-1)\n",
    "M &= (X.sum(axis=-1) == n)\n",
    "print(X[M])"
   ]
  },
  {
   "cell_type": "markdown",
   "id": "b7068c76",
   "metadata": {},
   "source": [
    "#### 100. Compute bootstrapped 95% confidence intervals for the mean of a 1D array X (i.e., resample the elements of an array with replacement N times, compute the mean of each sample, and then compute percentiles over the means). (★★★)"
   ]
  },
  {
   "cell_type": "code",
   "execution_count": null,
   "id": "3c234201",
   "metadata": {},
   "outputs": [
    {
     "name": "stdout",
     "output_type": "stream",
     "text": [
      "[  1   2   3   4   5   6   7   8   9  10  11  12  13  14  15  16  17  18\n",
      "  19  20  21  22  23  24  25  26  27  28  29  30  31  32  33  34  35  36\n",
      "  37  38  39  40  41  42  43  44  45  46  47  48  49  50  51  52  53  54\n",
      "  55  56  57  58  59  60  61  62  63  64  65  66  67  68  69  70  71  72\n",
      "  73  74  75  76  77  78  79  80  81  82  83  84  85  86  87  88  89  90\n",
      "  91  92  93  94  95  96  97  98  99 100]\n",
      "[40.88 43.1  43.54 45.26 46.6  47.04 47.76 48.26 48.36 48.62 48.64 48.88\n",
      " 49.14 49.3  49.32 49.7  49.94 50.22 50.96 51.32 51.42 51.5  51.5  52.06\n",
      " 52.88 53.   53.26 54.08 54.54 55.36]\n",
      "[42.4895 54.7655]\n",
      "[52.28 49.48 48.08 ... 53.15 49.19 48.2 ]\n"
     ]
    }
   ],
   "source": [
    "import random\n",
    "\n",
    "X = np.arange(100) + 1\n",
    "print(X)\n",
    "n, k = 50, 30\n",
    "\n",
    "R = np.zeros((k, n))\n",
    "for i in range(0, k):\n",
    "    for j in range(0, n):\n",
    "        R[i,j] = X[random.randint(0, len(X)-1)]\n",
    "\n",
    "A = np.sort(np.mean(R, axis=-1))\n",
    "print(A)\n",
    "# print(np.percentile(avgR, 0.025))\n",
    "# print(np.percentile(avgR, 0.975))\n",
    "\n",
    "print(np.percentile(A, [2.5, 97.5]))\n",
    "# answer(100)\n",
    "\n",
    "N = 1000\n",
    "idx = np.random.randint(0, X.size, (N, X.size))\n",
    "print(np.percentile(X[idx].mean(axis=1), [2.5, 97.5]))\n"
   ]
  },
  {
   "cell_type": "code",
   "execution_count": null,
   "id": "c4d3fbd8",
   "metadata": {},
   "outputs": [],
   "source": []
  }
 ],
 "metadata": {
  "kernelspec": {
   "display_name": "Python 3 (ipykernel)",
   "language": "python",
   "name": "python3"
  },
  "language_info": {
   "codemirror_mode": {
    "name": "ipython",
    "version": 3
   },
   "file_extension": ".py",
   "mimetype": "text/x-python",
   "name": "python",
   "nbconvert_exporter": "python",
   "pygments_lexer": "ipython3",
   "version": "3.9.18"
  }
 },
 "nbformat": 4,
 "nbformat_minor": 5
}
