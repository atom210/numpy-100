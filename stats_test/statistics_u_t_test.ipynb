{
 "cells": [
  {
   "cell_type": "code",
   "execution_count": null,
   "id": "50a51ad9",
   "metadata": {},
   "outputs": [],
   "source": [
    "import numpy as np\n",
    "from scipy import stats"
   ]
  },
  {
   "cell_type": "code",
   "execution_count": null,
   "id": "ad7c70a9",
   "metadata": {},
   "outputs": [],
   "source": [
    "help(stats.mannwhitneyu)"
   ]
  },
  {
   "cell_type": "code",
   "execution_count": null,
   "id": "c1c057fa",
   "metadata": {},
   "outputs": [],
   "source": [
    "X = np.random.randint(0, 100, 100)\n",
    "print(X)\n",
    "Y1 = X * 1.15\n",
    "Y2 = X * 0.85\n",
    "print(Y1)\n",
    "print(Y2)"
   ]
  },
  {
   "cell_type": "code",
   "execution_count": null,
   "id": "c28cfa78",
   "metadata": {},
   "outputs": [],
   "source": [
    "def u2_zscore(U1, p, x, y) -> tuple[float, float]:\n",
    "    n1, n2 = len(x), len(y)\n",
    "    U2 = n1 * n2 - U1\n",
    "\n",
    "    mu_U = n1 * n2 / 2\n",
    "    sigma_U = np.sqrt(n1 * n2 * (n1 + n2 + 1) / 12)\n",
    "\n",
    "    z_score = (U1 - mu_U) / sigma_U\n",
    "    return U2, z_score"
   ]
  },
  {
   "cell_type": "code",
   "execution_count": null,
   "id": "9e84d472",
   "metadata": {},
   "outputs": [],
   "source": [
    "U1, p = stats.mannwhitneyu(X, X, alternative=\"two-sided\")\n",
    "U2, zscore = u2_zscore(U1, p, X, X)\n",
    "print(f\"{U1=:.2f}, {U2=:.2f}, {zscore=:.4f}, {p=:.4f}\")\n",
    "\n",
    "U1, p = stats.mannwhitneyu(X, Y1, alternative=\"two-sided\")\n",
    "U2, zscore = u2_zscore(U1, p, X, Y1)\n",
    "print(f\"{U1=:.2f}, {U2=:.2f}, {zscore=:.4f}, {p=:.4f}\")\n",
    "\n",
    "U1, p = stats.mannwhitneyu(X, Y2, alternative=\"two-sided\")\n",
    "U2, zscore = u2_zscore(U1, p, X, Y2)\n",
    "print(f\"{U1=:.2f}, {U2=:.2f}, {zscore=:.4f}, {p=:.4f}\")\n"
   ]
  },
  {
   "cell_type": "code",
   "execution_count": null,
   "id": "2807f192",
   "metadata": {},
   "outputs": [],
   "source": [
    "import random\n",
    "\n",
    "sentence = [ \"I\", \"have\", \"read\", \"a\", \"very\", \"informative\", \"article\", \"written\", \"by\", \"Neel Nanda\"]\n",
    "print(\" \".join(sentence))\n",
    "# print(\" \".join(random.shuffle(sentence)))\n",
    "random.shuffle(sentence)\n",
    "print(\" \".join(sentence))"
   ]
  },
  {
   "cell_type": "code",
   "execution_count": null,
   "id": "02af9f74",
   "metadata": {},
   "outputs": [],
   "source": []
  },
  {
   "cell_type": "code",
   "execution_count": null,
   "id": "496586f0",
   "metadata": {},
   "outputs": [],
   "source": []
  }
 ],
 "metadata": {
  "kernelspec": {
   "display_name": "Python 3 (ipykernel)",
   "language": "python",
   "name": "python3"
  },
  "language_info": {
   "codemirror_mode": {
    "name": "ipython",
    "version": 3
   },
   "file_extension": ".py",
   "mimetype": "text/x-python",
   "name": "python",
   "nbconvert_exporter": "python",
   "pygments_lexer": "ipython3",
   "version": "3.9.18"
  }
 },
 "nbformat": 4,
 "nbformat_minor": 5
}
