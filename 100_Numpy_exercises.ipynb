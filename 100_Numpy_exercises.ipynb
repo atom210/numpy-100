{
 "cells": [
  {
   "cell_type": "markdown",
   "id": "5a28b949",
   "metadata": {},
   "source": [
    "# 100 numpy exercises\n",
    "\n",
    "This is a collection of exercises that have been collected in the numpy mailing list, on stack overflow\n",
    "and in the numpy documentation. The goal of this collection is to offer a quick reference for both old\n",
    "and new users but also to provide a set of exercises for those who teach.\n",
    "\n",
    "\n",
    "If you find an error or think you've a better way to solve some of them, feel\n",
    "free to open an issue at <https://github.com/rougier/numpy-100>."
   ]
  },
  {
   "cell_type": "markdown",
   "id": "3f7a87ec",
   "metadata": {},
   "source": [
    "File automatically generated. See the documentation to update questions/answers/hints programmatically."
   ]
  },
  {
   "cell_type": "markdown",
   "id": "854ecf1b",
   "metadata": {},
   "source": [
    "Run the `initialise.py` module, then for each question you can query the\n",
    "answer or an hint with `hint(n)` or `answer(n)` for `n` question number."
   ]
  },
  {
   "cell_type": "code",
   "execution_count": 2,
   "id": "c53ea877",
   "metadata": {},
   "outputs": [],
   "source": [
    "%run initialise.py"
   ]
  },
  {
   "cell_type": "markdown",
   "id": "c00df986",
   "metadata": {},
   "source": [
    "#### 1. Import the numpy package under the name `np` (★☆☆)"
   ]
  },
  {
   "cell_type": "code",
   "execution_count": 3,
   "id": "35bde95c",
   "metadata": {},
   "outputs": [],
   "source": [
    "import numpy as np\n",
    "\n",
    "def myanswer(n: int):\n",
    "    print(\"\\n\" + \"=\"*64)\n",
    "    answer(n)\n",
    "\n",
    "def myhint(n: int):\n",
    "    print(\"\\n\" + \"=\"*64)\n",
    "    hint(n) \n",
    "\n",
    "# myhint(1)"
   ]
  },
  {
   "cell_type": "markdown",
   "id": "b555a89f",
   "metadata": {},
   "source": [
    "#### 2. Print the numpy version and the configuration (★☆☆)"
   ]
  },
  {
   "cell_type": "code",
   "execution_count": 4,
   "id": "2c9d363d",
   "metadata": {},
   "outputs": [
    {
     "name": "stdout",
     "output_type": "stream",
     "text": [
      "1.21.5\n",
      "blas_mkl_info:\n",
      "  NOT AVAILABLE\n",
      "blis_info:\n",
      "  NOT AVAILABLE\n",
      "openblas_info:\n",
      "    libraries = ['openblas', 'openblas']\n",
      "    library_dirs = ['/opt/arm64-builds/lib']\n",
      "    language = c\n",
      "    define_macros = [('HAVE_CBLAS', None)]\n",
      "    runtime_library_dirs = ['/opt/arm64-builds/lib']\n",
      "blas_opt_info:\n",
      "    libraries = ['openblas', 'openblas']\n",
      "    library_dirs = ['/opt/arm64-builds/lib']\n",
      "    language = c\n",
      "    define_macros = [('HAVE_CBLAS', None)]\n",
      "    runtime_library_dirs = ['/opt/arm64-builds/lib']\n",
      "lapack_mkl_info:\n",
      "  NOT AVAILABLE\n",
      "openblas_lapack_info:\n",
      "    libraries = ['openblas', 'openblas']\n",
      "    library_dirs = ['/opt/arm64-builds/lib']\n",
      "    language = c\n",
      "    define_macros = [('HAVE_CBLAS', None)]\n",
      "    runtime_library_dirs = ['/opt/arm64-builds/lib']\n",
      "lapack_opt_info:\n",
      "    libraries = ['openblas', 'openblas']\n",
      "    library_dirs = ['/opt/arm64-builds/lib']\n",
      "    language = c\n",
      "    define_macros = [('HAVE_CBLAS', None)]\n",
      "    runtime_library_dirs = ['/opt/arm64-builds/lib']\n",
      "Supported SIMD extensions in this NumPy install:\n",
      "    baseline = NEON,NEON_FP16,NEON_VFPV4,ASIMD\n",
      "    found = ASIMDHP\n",
      "    not found = ASIMDDP\n"
     ]
    }
   ],
   "source": [
    "print(np.__version__)\n",
    "np.show_config()\n",
    "# help(np)"
   ]
  },
  {
   "cell_type": "markdown",
   "id": "e2713407",
   "metadata": {},
   "source": [
    "#### 3. Create a null vector of size 10 (★☆☆)"
   ]
  },
  {
   "cell_type": "code",
   "execution_count": 6,
   "id": "6df2f6db",
   "metadata": {},
   "outputs": [
    {
     "name": "stdout",
     "output_type": "stream",
     "text": [
      "[0. 0. 0. 0. 0. 0. 0. 0. 0. 0.]\n"
     ]
    }
   ],
   "source": [
    "x = np.zeros(10)\n",
    "print(x)"
   ]
  },
  {
   "cell_type": "markdown",
   "id": "5a09554f",
   "metadata": {},
   "source": [
    "#### 4. How to find the memory size of any array (★☆☆)"
   ]
  },
  {
   "cell_type": "code",
   "execution_count": 7,
   "id": "c55a2a00",
   "metadata": {},
   "outputs": [
    {
     "name": "stdout",
     "output_type": "stream",
     "text": [
      "40\n",
      "8\n",
      "np.size(Z)=40, Z.itemsize=8, Z.size*Z.itemsize=320\n",
      "Z.nbytes=320\n"
     ]
    }
   ],
   "source": [
    "# np.size(x)\n",
    "Z = np.zeros((10, 4))\n",
    "print(np.size(Z))\n",
    "print(Z.itemsize)\n",
    "print(f\"{np.size(Z)=}, {Z.itemsize=}, {Z.size*Z.itemsize=}\")\n",
    "print(f\"{Z.nbytes=}\")\n",
    "\n",
    "# myanswer(4)"
   ]
  },
  {
   "cell_type": "markdown",
   "id": "4720d438",
   "metadata": {},
   "source": [
    "#### 5. How to get the documentation of the numpy add function from the command line? (★☆☆)"
   ]
  },
  {
   "cell_type": "code",
   "execution_count": null,
   "id": "d9e2277e",
   "metadata": {},
   "outputs": [],
   "source": [
    "# help(np)\n",
    "# np.info(np.add)\n",
    "!python -c \"import numpy as np; np.info(np.add)\"\n",
    "# myanswer(5)"
   ]
  },
  {
   "cell_type": "markdown",
   "id": "b812d322",
   "metadata": {},
   "source": [
    "#### 6. Create a null vector of size 10 but the fifth value which is 1 (★☆☆)"
   ]
  },
  {
   "cell_type": "code",
   "execution_count": 93,
   "id": "9f95cedf",
   "metadata": {},
   "outputs": [
    {
     "name": "stdout",
     "output_type": "stream",
     "text": [
      "[0. 0. 0. 0. 1. 0. 0. 0. 0. 0.]\n"
     ]
    }
   ],
   "source": [
    "X = np.zeros(10)\n",
    "X[4] = 1\n",
    "print(X)\n",
    "# myanswer(6)"
   ]
  },
  {
   "cell_type": "markdown",
   "id": "a348f2a8",
   "metadata": {},
   "source": [
    "#### 7. Create a vector with values ranging from 10 to 49 (★☆☆)"
   ]
  },
  {
   "cell_type": "code",
   "execution_count": 106,
   "id": "5a68fd5b",
   "metadata": {},
   "outputs": [
    {
     "name": "stdout",
     "output_type": "stream",
     "text": [
      "[10 11 12 13 14 15 16 17 18 19 20 21 22 23 24 25 26 27 28 29 30 31 32 33\n",
      " 34 35 36 37 38 39 40 41 42 43 44 45 46 47 48 49] \n",
      "\n",
      "[ True  True  True  True  True  True  True  True  True  True  True  True\n",
      "  True  True  True  True  True  True  True  True  True  True  True  True\n",
      "  True  True  True  True  True  True  True  True  True  True  True  True\n",
      "  True  True  True  True]\n",
      "\n",
      "================================================================\n",
      "Z = np.arange(10,50)\n",
      "print(Z)\n"
     ]
    }
   ],
   "source": [
    "X = np.array([ i for i in range(10, 50) ])\n",
    "print(X, \"\\n\")\n",
    "Z = np.arange(10, 50)\n",
    "\n",
    "print(Z == X)\n",
    "myanswer(7)"
   ]
  },
  {
   "cell_type": "markdown",
   "id": "2f4ca4c0",
   "metadata": {},
   "source": [
    "#### 8. Reverse a vector (first element becomes last) (★☆☆)"
   ]
  },
  {
   "cell_type": "code",
   "execution_count": 131,
   "id": "1892e775",
   "metadata": {},
   "outputs": [
    {
     "name": "stdout",
     "output_type": "stream",
     "text": [
      "[10 11 12 13 14 15 16 17 18 19 20 21 22 23 24 25 26 27 28 29 30 31 32 33\n",
      " 34 35 36 37 38 39 40 41 42 43 44 45 46 47 48 49]\n",
      "[49 48 47 46 45 44 43 42 41 40 39 38 37 36 35 34 33 32 31 30 29 28 27 26\n",
      " 25 24 23 22 21 20 19 18 17 16 15 14 13 12 11 10]\n",
      "[10 12 14 16 18 20 22 24 26 28 30 32 34 36 38 40 42 44 46 48]\n"
     ]
    }
   ],
   "source": [
    "# help(X)\n",
    "X = np.arange(10, 50)\n",
    "print(X)\n",
    "X = X[::-1]\n",
    "print(X)\n",
    "Z = X[::-2]\n",
    "print(Z)"
   ]
  },
  {
   "cell_type": "markdown",
   "id": "31381832",
   "metadata": {},
   "source": [
    "#### 9. Create a 3x3 matrix with values ranging from 0 to 8 (★☆☆)"
   ]
  },
  {
   "cell_type": "code",
   "execution_count": 130,
   "id": "0154f251",
   "metadata": {},
   "outputs": [
    {
     "name": "stdout",
     "output_type": "stream",
     "text": [
      "[[0 1 2]\n",
      " [3 4 5]\n",
      " [6 7 8]]\n",
      "\n",
      "================================================================\n",
      "Z = np.arange(9).reshape(3, 3)\n",
      "print(Z)\n"
     ]
    }
   ],
   "source": [
    "X = np.arange(0, 9).reshape((3,3))\n",
    "print(X)\n",
    "myanswer(9)"
   ]
  },
  {
   "cell_type": "markdown",
   "id": "8c353e84",
   "metadata": {},
   "source": [
    "#### 10. Find indices of non-zero elements from [1,2,0,0,4,0] (★☆☆)"
   ]
  },
  {
   "cell_type": "code",
   "execution_count": 145,
   "id": "da3495c3",
   "metadata": {},
   "outputs": [
    {
     "name": "stdout",
     "output_type": "stream",
     "text": [
      "(array([0, 1, 4]),)\n",
      "[[1 2 0]\n",
      " [0 4 0]]\n",
      "(array([0, 0, 1]), array([0, 1, 1]))\n",
      "[1 2 4]\n"
     ]
    }
   ],
   "source": [
    "X = np.array([1,2,0,0,4,0])\n",
    "nzX = np.nonzero(X)\n",
    "# XPred = X != 0\n",
    "print(nzX)\n",
    "# np.info(np.nonzero)\n",
    "\n",
    "Z = X.reshape(2,3)\n",
    "print(Z)\n",
    "nzIdx = np.nonzero(Z)\n",
    "print(nz)\n",
    "print(Z[nzIdx])\n",
    "# myanswer(10)"
   ]
  },
  {
   "cell_type": "markdown",
   "id": "a26ac749",
   "metadata": {},
   "source": [
    "#### 11. Create a 3x3 identity matrix (★☆☆)"
   ]
  },
  {
   "cell_type": "code",
   "execution_count": 8,
   "id": "3e33feda",
   "metadata": {},
   "outputs": [
    {
     "name": "stdout",
     "output_type": "stream",
     "text": [
      "[[1. 0. 0.]\n",
      " [0. 1. 0.]\n",
      " [0. 0. 1.]]\n"
     ]
    }
   ],
   "source": [
    "# np.info(np.eye)\n",
    "X = np.eye(3)\n",
    "print(X)\n",
    "# myanswer(11)"
   ]
  },
  {
   "cell_type": "markdown",
   "id": "3a293379",
   "metadata": {},
   "source": [
    "#### 12. Create a 3x3x3 array with random values (★☆☆)"
   ]
  },
  {
   "cell_type": "code",
   "execution_count": 9,
   "id": "2da08152",
   "metadata": {},
   "outputs": [
    {
     "name": "stdout",
     "output_type": "stream",
     "text": [
      "[[[0.27286602 0.7565374  0.03819818]\n",
      "  [0.34440667 0.03709606 0.57008046]\n",
      "  [0.97392845 0.50355406 0.55398399]]\n",
      "\n",
      " [[0.41356769 0.41359919 0.89689954]\n",
      "  [0.13622862 0.40647062 0.98915819]\n",
      "  [0.62901997 0.65106184 0.09363538]]\n",
      "\n",
      " [[0.27910986 0.81785536 0.13489192]\n",
      "  [0.32698794 0.31675061 0.74413763]\n",
      "  [0.24833253 0.38412359 0.41165527]]]\n",
      "[0.27286602 0.7565374  0.03819818 0.34440667 0.03709606 0.57008046\n",
      " 0.97392845 0.50355406 0.55398399 0.41356769 0.41359919 0.89689954\n",
      " 0.13622862 0.40647062 0.98915819 0.62901997 0.65106184 0.09363538\n",
      " 0.27910986 0.81785536 0.13489192 0.32698794 0.31675061 0.74413763\n",
      " 0.24833253 0.38412359 0.41165527]\n",
      "11\n"
     ]
    }
   ],
   "source": [
    "# np.info(np.random)\n",
    "X = np.random.random((3,3,3))\n",
    "print(X)\n",
    "Z = X.reshape(-1)\n",
    "\n",
    "print(Z)\n",
    "predZ = Z >= 0.5\n",
    "print(Z[np.nonzero(predZ)].size)\n",
    "# myanswer(12)"
   ]
  },
  {
   "cell_type": "markdown",
   "id": "e3faa924",
   "metadata": {},
   "source": [
    "#### 13. Create a 10x10 array with random values and find the minimum and maximum values (★☆☆)"
   ]
  },
  {
   "cell_type": "code",
   "execution_count": 10,
   "id": "e9fb3793",
   "metadata": {},
   "outputs": [
    {
     "name": "stdout",
     "output_type": "stream",
     "text": [
      "np.amin(Z)=0.005721123308103815, np.amax(Z)=0.9955184372212649\n",
      "xMin=0.005721123308103815, xMax=0.9955184372212649\n",
      "zMin=0.005721123308103815, zMax=0.9955184372212649\n"
     ]
    }
   ],
   "source": [
    "X = np.random.random((10, 10))\n",
    "Z = X.reshape(-1)\n",
    "print(f\"{np.amin(Z)=}, {np.amax(Z)=}\")\n",
    "# myanswer(13)\n",
    "xMin, xMax = X.min(), X.max()\n",
    "zMin, zMax = np.min(X), np.max(X)\n",
    "print(f\"{xMin=}, {xMax=}\")\n",
    "print(f\"{zMin=}, {zMax=}\")"
   ]
  },
  {
   "cell_type": "markdown",
   "id": "317cb8d1",
   "metadata": {},
   "source": [
    "#### 14. Create a random vector of size 30 and find the mean value (★☆☆)"
   ]
  },
  {
   "cell_type": "code",
   "execution_count": 11,
   "id": "4ea995d6",
   "metadata": {},
   "outputs": [
    {
     "name": "stdout",
     "output_type": "stream",
     "text": [
      "[0.67590047 0.46347285 0.78991246 0.07042943 0.12687793 0.24970133\n",
      " 0.78841758 0.16392238 0.2102644  0.0456982  0.99875426 0.8029511\n",
      " 0.5403909  0.05670159 0.60122373 0.36372587 0.72789412 0.07994502\n",
      " 0.49170656 0.19727698 0.79190876 0.61055147 0.37086507 0.06372408\n",
      " 0.87008167 0.77809718 0.90916314 0.30665132 0.12337449 0.28557325]\n",
      "meanX=0.4518385865496793, m=0.4518385865496793\n"
     ]
    }
   ],
   "source": [
    "X = np.random.random(30)\n",
    "print(X)\n",
    "meanX = np.mean(X)\n",
    "m = X.mean()\n",
    "print(f\"{meanX=}, {m=}\")\n",
    "# myanswer(14)"
   ]
  },
  {
   "cell_type": "markdown",
   "id": "b8dee0f2",
   "metadata": {},
   "source": [
    "#### 15. Create a 2d array with 1 on the border and 0 inside (★☆☆)"
   ]
  },
  {
   "cell_type": "code",
   "execution_count": 12,
   "id": "7054464b",
   "metadata": {},
   "outputs": [
    {
     "name": "stdout",
     "output_type": "stream",
     "text": [
      "[[1. 1. 1. 1. 1.]\n",
      " [1. 0. 0. 0. 1.]\n",
      " [1. 0. 0. 0. 1.]\n",
      " [1. 0. 0. 0. 1.]\n",
      " [1. 1. 1. 1. 1.]] \n",
      "\n",
      "[[1. 1. 1. 1. 1. 1.]\n",
      " [1. 0. 0. 0. 0. 1.]\n",
      " [1. 0. 0. 0. 0. 1.]\n",
      " [1. 0. 0. 0. 0. 1.]\n",
      " [1. 0. 0. 0. 0. 1.]\n",
      " [1. 1. 1. 1. 1. 1.]]\n"
     ]
    }
   ],
   "source": [
    "X = np.zeros((5, 5))\n",
    "# borderIdx = X.shape[-1] - 1\n",
    "# print(X.shape, col)\n",
    "X[0][:] = X[-1][:] = 1\n",
    "X.T[0][:] = X.T[-1][:] = 1\n",
    "print(X, \"\\n\")\n",
    "\n",
    "# myanswer(15)\n",
    "Z = np.ones((6, 6))\n",
    "Z[1:-1,1:-1] = 0\n",
    "print(Z)"
   ]
  },
  {
   "cell_type": "markdown",
   "id": "1476f45f",
   "metadata": {},
   "source": [
    "#### 16. How to add a border (filled with 0's) around an existing array? (★☆☆)"
   ]
  },
  {
   "cell_type": "code",
   "execution_count": 13,
   "id": "4f0212af",
   "metadata": {},
   "outputs": [
    {
     "name": "stdout",
     "output_type": "stream",
     "text": [
      "[[0. 0. 0. 0. 0. 0. 0.]\n",
      " [0. 1. 1. 1. 1. 1. 0.]\n",
      " [0. 1. 1. 1. 1. 1. 0.]\n",
      " [0. 1. 1. 1. 1. 1. 0.]\n",
      " [0. 1. 1. 1. 1. 1. 0.]\n",
      " [0. 1. 1. 1. 1. 1. 0.]\n",
      " [0. 0. 0. 0. 0. 0. 0.]] \n",
      "\n",
      "[[0. 0. 0. 0. 0.]\n",
      " [0. 1. 1. 1. 0.]\n",
      " [0. 1. 1. 1. 0.]\n",
      " [0. 1. 1. 1. 0.]\n",
      " [0. 0. 0. 0. 0.]]\n"
     ]
    }
   ],
   "source": [
    "X = np.ones((5,5))\n",
    "# X = np.pad(X, pad_width=1, mode='constant', constant_values=0)\n",
    "X = np.pad(X, pad_width=1)\n",
    "print(X, \"\\n\")\n",
    "# np.info(np.pad)\n",
    "\n",
    "X = np.ones((5, 5))\n",
    "X[:, [0, -1]] = 0\n",
    "X[[0, -1], :] = 0\n",
    "print(X)\n",
    "# answer(16)"
   ]
  },
  {
   "cell_type": "markdown",
   "id": "52844dc7",
   "metadata": {},
   "source": [
    "#### 17. What is the result of the following expression? (★☆☆)\n",
    "```python\n",
    "0 * np.nan\n",
    "np.nan == np.nan\n",
    "np.inf > np.nan\n",
    "np.nan - np.nan\n",
    "np.nan in set([np.nan])\n",
    "0.3 == 3 * 0.1\n",
    "```"
   ]
  },
  {
   "cell_type": "code",
   "execution_count": 14,
   "id": "cfdb7352",
   "metadata": {},
   "outputs": [
    {
     "name": "stdout",
     "output_type": "stream",
     "text": [
      "nan\n",
      "False\n",
      "False\n",
      "nan\n",
      "True\n",
      "False\n"
     ]
    }
   ],
   "source": [
    "print(0 * np.nan)\n",
    "print(np.nan == np.nan)\n",
    "print(np.inf > np.nan)\n",
    "print(np.nan - np.nan)\n",
    "print(np.nan in set([np.nan]))\n",
    "print(0.3 == 3 * 0.1)\n",
    "# myanswer(17)"
   ]
  },
  {
   "cell_type": "markdown",
   "id": "9801c961",
   "metadata": {},
   "source": [
    "#### 18. Create a 5x5 matrix with values 1,2,3,4 just below the diagonal (★☆☆)"
   ]
  },
  {
   "cell_type": "code",
   "execution_count": 15,
   "id": "4e97651a",
   "metadata": {},
   "outputs": [
    {
     "name": "stdout",
     "output_type": "stream",
     "text": [
      "[[0. 0. 0. 0. 0.]\n",
      " [1. 0. 0. 0. 0.]\n",
      " [0. 2. 0. 0. 0.]\n",
      " [0. 0. 3. 0. 0.]\n",
      " [0. 0. 0. 4. 0.]] \n",
      "\n",
      "[[0 0 0 0 0]\n",
      " [1 0 0 0 0]\n",
      " [0 2 0 0 0]\n",
      " [0 0 3 0 0]\n",
      " [0 0 0 4 0]]\n"
     ]
    }
   ],
   "source": [
    "X = np.zeros((5,5))\n",
    "for i in range(1, X.shape[-1]):\n",
    "    X[i][i-1] = i\n",
    "print(X, \"\\n\")\n",
    "\n",
    "print(np.diag(1+np.arange(4), k=-1))\n",
    "# print(1+np.arange(4))\n",
    "# myanswer(18)\n",
    "# np.info(np.diag)"
   ]
  },
  {
   "cell_type": "markdown",
   "id": "3dc05e9f",
   "metadata": {},
   "source": [
    "#### 19. Create a 8x8 matrix and fill it with a checkerboard pattern (★☆☆)"
   ]
  },
  {
   "cell_type": "code",
   "execution_count": 16,
   "id": "0b100b85",
   "metadata": {},
   "outputs": [
    {
     "name": "stdout",
     "output_type": "stream",
     "text": [
      "[[0 1 0 1 0 1 0 1]\n",
      " [1 0 1 0 1 0 1 0]\n",
      " [0 1 0 1 0 1 0 1]\n",
      " [1 0 1 0 1 0 1 0]\n",
      " [0 1 0 1 0 1 0 1]\n",
      " [1 0 1 0 1 0 1 0]\n",
      " [0 1 0 1 0 1 0 1]\n",
      " [1 0 1 0 1 0 1 0]]\n"
     ]
    }
   ],
   "source": [
    "X = np.zeros((8, 8), dtype=int)\n",
    "# print(X)\n",
    "X[0::2, 1::2] = 1\n",
    "X[1::2, 0::2] = 1\n",
    "print(X)\n",
    "# answer(19)"
   ]
  },
  {
   "cell_type": "markdown",
   "id": "d8e941b6",
   "metadata": {},
   "source": [
    "#### 20. Consider a (6,7,8) shape array, what is the index (x,y,z) of the 100th element? (★☆☆)"
   ]
  },
  {
   "cell_type": "code",
   "execution_count": 280,
   "id": "b3bc1fcb",
   "metadata": {},
   "outputs": [
    {
     "name": "stdout",
     "output_type": "stream",
     "text": [
      "idx=(1, 5, 3), X[idx]=99\n"
     ]
    }
   ],
   "source": [
    "X = np.arange(6*7*8).reshape((6,7,8))\n",
    "idx = np.unravel_index(99, (6,7,8))\n",
    "print(f\"{idx=}, {X[idx]=}\")\n",
    "# print(X)\n",
    "# np.info(np.unravel_index)\n",
    "# answer(20)"
   ]
  },
  {
   "cell_type": "markdown",
   "id": "bf3b8ab3",
   "metadata": {},
   "source": [
    "#### 21. Create a checkerboard 8x8 matrix using the tile function (★☆☆)"
   ]
  },
  {
   "cell_type": "code",
   "execution_count": 290,
   "id": "eb15c681",
   "metadata": {},
   "outputs": [
    {
     "name": "stdout",
     "output_type": "stream",
     "text": [
      "[[0 1 0 1 0 1 0 1]\n",
      " [1 0 1 0 1 0 1 0]\n",
      " [0 1 0 1 0 1 0 1]\n",
      " [1 0 1 0 1 0 1 0]\n",
      " [0 1 0 1 0 1 0 1]\n",
      " [1 0 1 0 1 0 1 0]\n",
      " [0 1 0 1 0 1 0 1]\n",
      " [1 0 1 0 1 0 1 0]]\n"
     ]
    }
   ],
   "source": [
    "X = np.array([0,1,1,0]).reshape((2,2))\n",
    "print(np.tile(X, (4,4)))\n",
    "# np.info(np.tile)\n",
    "# myanswer(21)"
   ]
  },
  {
   "cell_type": "markdown",
   "id": "71af9d19",
   "metadata": {},
   "source": [
    "#### 22. Normalize a 5x5 random matrix (★☆☆)"
   ]
  },
  {
   "cell_type": "code",
   "execution_count": 17,
   "id": "df20b788",
   "metadata": {},
   "outputs": [
    {
     "name": "stdout",
     "output_type": "stream",
     "text": [
      "np.mean(Z)=-0.003010549613600839, np.std(Z)=0.9998620552991129\n",
      "np.mean(X)=0.4957371554225429, np.std(X)=0.2901329122920752\n",
      "normalize: X ~ N(0, 1)\n",
      "np.mean(X)=1.3429257705865894e-16, np.std(X)=1.0\n"
     ]
    }
   ],
   "source": [
    "# np.info(np.random)\n",
    "# np.info(np.random.normal)\n",
    "Z = np.random.normal(0.0, scale=1.0, size=(100,100))\n",
    "print(f\"{np.mean(Z)=}, {np.std(Z)=}\")\n",
    "\n",
    "# myanswer(22)\n",
    "X = np.random.random((100,100))\n",
    "print(f\"{np.mean(X)=}, {np.std(X)=}\")\n",
    "\n",
    "print(\"normalize: X ~ N(0, 1)\")\n",
    "X = (X - np.mean(X)) / np.std(X)\n",
    "print(f\"{np.mean(X)=}, {np.std(X)=}\")"
   ]
  },
  {
   "cell_type": "markdown",
   "id": "01cd9893",
   "metadata": {},
   "source": [
    "#### 23. Create a custom dtype that describes a color as four unsigned bytes (RGBA) (★☆☆)"
   ]
  },
  {
   "cell_type": "code",
   "execution_count": 37,
   "id": "4acddc2f",
   "metadata": {},
   "outputs": [
    {
     "name": "stdout",
     "output_type": "stream",
     "text": [
      "Help on dtype[void] object:\n",
      "\n",
      "class dtype[void](dtype)\n",
      " |  Method resolution order:\n",
      " |      dtype[void]\n",
      " |      dtype\n",
      " |      builtins.object\n",
      " |  \n",
      " |  Static methods defined here:\n",
      " |  \n",
      " |  __new__(*args, **kwargs) from numpy._DTypeMeta\n",
      " |      Create and return a new object.  See help(type) for accurate signature.\n",
      " |  \n",
      " |  ----------------------------------------------------------------------\n",
      " |  Methods inherited from dtype:\n",
      " |  \n",
      " |  __bool__(self, /)\n",
      " |      True if self else False\n",
      " |  \n",
      " |  __eq__(self, value, /)\n",
      " |      Return self==value.\n",
      " |  \n",
      " |  __ge__(self, value, /)\n",
      " |      Return self>=value.\n",
      " |  \n",
      " |  __getitem__(self, key, /)\n",
      " |      Return self[key].\n",
      " |  \n",
      " |  __gt__(self, value, /)\n",
      " |      Return self>value.\n",
      " |  \n",
      " |  __hash__(self, /)\n",
      " |      Return hash(self).\n",
      " |  \n",
      " |  __le__(self, value, /)\n",
      " |      Return self<=value.\n",
      " |  \n",
      " |  __len__(self, /)\n",
      " |      Return len(self).\n",
      " |  \n",
      " |  __lt__(self, value, /)\n",
      " |      Return self<value.\n",
      " |  \n",
      " |  __mul__(self, value, /)\n",
      " |      Return self*value.\n",
      " |  \n",
      " |  __ne__(self, value, /)\n",
      " |      Return self!=value.\n",
      " |  \n",
      " |  __reduce__(...)\n",
      " |      Helper for pickle.\n",
      " |  \n",
      " |  __repr__(self, /)\n",
      " |      Return repr(self).\n",
      " |  \n",
      " |  __rmul__(self, value, /)\n",
      " |      Return value*self.\n",
      " |  \n",
      " |  __setstate__(...)\n",
      " |  \n",
      " |  __str__(self, /)\n",
      " |      Return str(self).\n",
      " |  \n",
      " |  newbyteorder(...)\n",
      " |      newbyteorder(new_order='S', /)\n",
      " |      \n",
      " |      Return a new dtype with a different byte order.\n",
      " |      \n",
      " |      Changes are also made in all fields and sub-arrays of the data type.\n",
      " |      \n",
      " |      Parameters\n",
      " |      ----------\n",
      " |      new_order : string, optional\n",
      " |          Byte order to force; a value from the byte order specifications\n",
      " |          below.  The default value ('S') results in swapping the current\n",
      " |          byte order.  `new_order` codes can be any of:\n",
      " |      \n",
      " |          * 'S' - swap dtype from current to opposite endian\n",
      " |          * {'<', 'little'} - little endian\n",
      " |          * {'>', 'big'} - big endian\n",
      " |          * '=' - native order\n",
      " |          * {'|', 'I'} - ignore (no change to byte order)\n",
      " |      \n",
      " |      Returns\n",
      " |      -------\n",
      " |      new_dtype : dtype\n",
      " |          New dtype object with the given change to the byte order.\n",
      " |      \n",
      " |      Notes\n",
      " |      -----\n",
      " |      Changes are also made in all fields and sub-arrays of the data type.\n",
      " |      \n",
      " |      Examples\n",
      " |      --------\n",
      " |      >>> import sys\n",
      " |      >>> sys_is_le = sys.byteorder == 'little'\n",
      " |      >>> native_code = sys_is_le and '<' or '>'\n",
      " |      >>> swapped_code = sys_is_le and '>' or '<'\n",
      " |      >>> native_dt = np.dtype(native_code+'i2')\n",
      " |      >>> swapped_dt = np.dtype(swapped_code+'i2')\n",
      " |      >>> native_dt.newbyteorder('S') == swapped_dt\n",
      " |      True\n",
      " |      >>> native_dt.newbyteorder() == swapped_dt\n",
      " |      True\n",
      " |      >>> native_dt == swapped_dt.newbyteorder('S')\n",
      " |      True\n",
      " |      >>> native_dt == swapped_dt.newbyteorder('=')\n",
      " |      True\n",
      " |      >>> native_dt == swapped_dt.newbyteorder('N')\n",
      " |      True\n",
      " |      >>> native_dt == native_dt.newbyteorder('|')\n",
      " |      True\n",
      " |      >>> np.dtype('<i2') == native_dt.newbyteorder('<')\n",
      " |      True\n",
      " |      >>> np.dtype('<i2') == native_dt.newbyteorder('L')\n",
      " |      True\n",
      " |      >>> np.dtype('>i2') == native_dt.newbyteorder('>')\n",
      " |      True\n",
      " |      >>> np.dtype('>i2') == native_dt.newbyteorder('B')\n",
      " |      True\n",
      " |  \n",
      " |  ----------------------------------------------------------------------\n",
      " |  Data descriptors inherited from dtype:\n",
      " |  \n",
      " |  alignment\n",
      " |      The required alignment (bytes) of this data-type according to the compiler.\n",
      " |      \n",
      " |      More information is available in the C-API section of the manual.\n",
      " |      \n",
      " |      Examples\n",
      " |      --------\n",
      " |      \n",
      " |      >>> x = np.dtype('i4')\n",
      " |      >>> x.alignment\n",
      " |      4\n",
      " |      \n",
      " |      >>> x = np.dtype(float)\n",
      " |      >>> x.alignment\n",
      " |      8\n",
      " |  \n",
      " |  base\n",
      " |      Returns dtype for the base element of the subarrays,\n",
      " |      regardless of their dimension or shape.\n",
      " |      \n",
      " |      See Also\n",
      " |      --------\n",
      " |      dtype.subdtype\n",
      " |      \n",
      " |      Examples\n",
      " |      --------\n",
      " |      >>> x = numpy.dtype('8f')\n",
      " |      >>> x.base\n",
      " |      dtype('float32')\n",
      " |      \n",
      " |      >>> x =  numpy.dtype('i2')\n",
      " |      >>> x.base\n",
      " |      dtype('int16')\n",
      " |  \n",
      " |  byteorder\n",
      " |      A character indicating the byte-order of this data-type object.\n",
      " |      \n",
      " |      One of:\n",
      " |      \n",
      " |      ===  ==============\n",
      " |      '='  native\n",
      " |      '<'  little-endian\n",
      " |      '>'  big-endian\n",
      " |      '|'  not applicable\n",
      " |      ===  ==============\n",
      " |      \n",
      " |      All built-in data-type objects have byteorder either '=' or '|'.\n",
      " |      \n",
      " |      Examples\n",
      " |      --------\n",
      " |      \n",
      " |      >>> dt = np.dtype('i2')\n",
      " |      >>> dt.byteorder\n",
      " |      '='\n",
      " |      >>> # endian is not relevant for 8 bit numbers\n",
      " |      >>> np.dtype('i1').byteorder\n",
      " |      '|'\n",
      " |      >>> # or ASCII strings\n",
      " |      >>> np.dtype('S2').byteorder\n",
      " |      '|'\n",
      " |      >>> # Even if specific code is given, and it is native\n",
      " |      >>> # '=' is the byteorder\n",
      " |      >>> import sys\n",
      " |      >>> sys_is_le = sys.byteorder == 'little'\n",
      " |      >>> native_code = sys_is_le and '<' or '>'\n",
      " |      >>> swapped_code = sys_is_le and '>' or '<'\n",
      " |      >>> dt = np.dtype(native_code + 'i2')\n",
      " |      >>> dt.byteorder\n",
      " |      '='\n",
      " |      >>> # Swapped code shows up as itself\n",
      " |      >>> dt = np.dtype(swapped_code + 'i2')\n",
      " |      >>> dt.byteorder == swapped_code\n",
      " |      True\n",
      " |  \n",
      " |  char\n",
      " |      A unique character code for each of the 21 different built-in types.\n",
      " |      \n",
      " |      Examples\n",
      " |      --------\n",
      " |      \n",
      " |      >>> x = np.dtype(float)\n",
      " |      >>> x.char\n",
      " |      'd'\n",
      " |  \n",
      " |  descr\n",
      " |      `__array_interface__` description of the data-type.\n",
      " |      \n",
      " |      The format is that required by the 'descr' key in the\n",
      " |      `__array_interface__` attribute.\n",
      " |      \n",
      " |      Warning: This attribute exists specifically for `__array_interface__`,\n",
      " |      and passing it directly to `np.dtype` will not accurately reconstruct\n",
      " |      some dtypes (e.g., scalar and subarray dtypes).\n",
      " |      \n",
      " |      Examples\n",
      " |      --------\n",
      " |      \n",
      " |      >>> x = np.dtype(float)\n",
      " |      >>> x.descr\n",
      " |      [('', '<f8')]\n",
      " |      \n",
      " |      >>> dt = np.dtype([('name', np.str_, 16), ('grades', np.float64, (2,))])\n",
      " |      >>> dt.descr\n",
      " |      [('name', '<U16'), ('grades', '<f8', (2,))]\n",
      " |  \n",
      " |  fields\n",
      " |      Dictionary of named fields defined for this data type, or ``None``.\n",
      " |      \n",
      " |      The dictionary is indexed by keys that are the names of the fields.\n",
      " |      Each entry in the dictionary is a tuple fully describing the field::\n",
      " |      \n",
      " |        (dtype, offset[, title])\n",
      " |      \n",
      " |      Offset is limited to C int, which is signed and usually 32 bits.\n",
      " |      If present, the optional title can be any object (if it is a string\n",
      " |      or unicode then it will also be a key in the fields dictionary,\n",
      " |      otherwise it's meta-data). Notice also that the first two elements\n",
      " |      of the tuple can be passed directly as arguments to the ``ndarray.getfield``\n",
      " |      and ``ndarray.setfield`` methods.\n",
      " |      \n",
      " |      See Also\n",
      " |      --------\n",
      " |      ndarray.getfield, ndarray.setfield\n",
      " |      \n",
      " |      Examples\n",
      " |      --------\n",
      " |      >>> dt = np.dtype([('name', np.str_, 16), ('grades', np.float64, (2,))])\n",
      " |      >>> print(dt.fields)\n",
      " |      {'grades': (dtype(('float64',(2,))), 16), 'name': (dtype('|S16'), 0)}\n",
      " |  \n",
      " |  flags\n",
      " |      Bit-flags describing how this data type is to be interpreted.\n",
      " |      \n",
      " |      Bit-masks are in `numpy.core.multiarray` as the constants\n",
      " |      `ITEM_HASOBJECT`, `LIST_PICKLE`, `ITEM_IS_POINTER`, `NEEDS_INIT`,\n",
      " |      `NEEDS_PYAPI`, `USE_GETITEM`, `USE_SETITEM`. A full explanation\n",
      " |      of these flags is in C-API documentation; they are largely useful\n",
      " |      for user-defined data-types.\n",
      " |      \n",
      " |      The following example demonstrates that operations on this particular\n",
      " |      dtype requires Python C-API.\n",
      " |      \n",
      " |      Examples\n",
      " |      --------\n",
      " |      \n",
      " |      >>> x = np.dtype([('a', np.int32, 8), ('b', np.float64, 6)])\n",
      " |      >>> x.flags\n",
      " |      16\n",
      " |      >>> np.core.multiarray.NEEDS_PYAPI\n",
      " |      16\n",
      " |  \n",
      " |  hasobject\n",
      " |      Boolean indicating whether this dtype contains any reference-counted\n",
      " |      objects in any fields or sub-dtypes.\n",
      " |      \n",
      " |      Recall that what is actually in the ndarray memory representing\n",
      " |      the Python object is the memory address of that object (a pointer).\n",
      " |      Special handling may be required, and this attribute is useful for\n",
      " |      distinguishing data types that may contain arbitrary Python objects\n",
      " |      and data-types that won't.\n",
      " |  \n",
      " |  isalignedstruct\n",
      " |      Boolean indicating whether the dtype is a struct which maintains\n",
      " |      field alignment. This flag is sticky, so when combining multiple\n",
      " |      structs together, it is preserved and produces new dtypes which\n",
      " |      are also aligned.\n",
      " |  \n",
      " |  isbuiltin\n",
      " |      Integer indicating how this dtype relates to the built-in dtypes.\n",
      " |      \n",
      " |      Read-only.\n",
      " |      \n",
      " |      =  ========================================================================\n",
      " |      0  if this is a structured array type, with fields\n",
      " |      1  if this is a dtype compiled into numpy (such as ints, floats etc)\n",
      " |      2  if the dtype is for a user-defined numpy type\n",
      " |         A user-defined type uses the numpy C-API machinery to extend\n",
      " |         numpy to handle a new array type. See\n",
      " |         :ref:`user.user-defined-data-types` in the NumPy manual.\n",
      " |      =  ========================================================================\n",
      " |      \n",
      " |      Examples\n",
      " |      --------\n",
      " |      >>> dt = np.dtype('i2')\n",
      " |      >>> dt.isbuiltin\n",
      " |      1\n",
      " |      >>> dt = np.dtype('f8')\n",
      " |      >>> dt.isbuiltin\n",
      " |      1\n",
      " |      >>> dt = np.dtype([('field1', 'f8')])\n",
      " |      >>> dt.isbuiltin\n",
      " |      0\n",
      " |  \n",
      " |  isnative\n",
      " |      Boolean indicating whether the byte order of this dtype is native\n",
      " |      to the platform.\n",
      " |  \n",
      " |  itemsize\n",
      " |      The element size of this data-type object.\n",
      " |      \n",
      " |      For 18 of the 21 types this number is fixed by the data-type.\n",
      " |      For the flexible data-types, this number can be anything.\n",
      " |      \n",
      " |      Examples\n",
      " |      --------\n",
      " |      \n",
      " |      >>> arr = np.array([[1, 2], [3, 4]])\n",
      " |      >>> arr.dtype\n",
      " |      dtype('int64')\n",
      " |      >>> arr.itemsize\n",
      " |      8\n",
      " |      \n",
      " |      >>> dt = np.dtype([('name', np.str_, 16), ('grades', np.float64, (2,))])\n",
      " |      >>> dt.itemsize\n",
      " |      80\n",
      " |  \n",
      " |  kind\n",
      " |      A character code (one of 'biufcmMOSUV') identifying the general kind of data.\n",
      " |      \n",
      " |      =  ======================\n",
      " |      b  boolean\n",
      " |      i  signed integer\n",
      " |      u  unsigned integer\n",
      " |      f  floating-point\n",
      " |      c  complex floating-point\n",
      " |      m  timedelta\n",
      " |      M  datetime\n",
      " |      O  object\n",
      " |      S  (byte-)string\n",
      " |      U  Unicode\n",
      " |      V  void\n",
      " |      =  ======================\n",
      " |      \n",
      " |      Examples\n",
      " |      --------\n",
      " |      \n",
      " |      >>> dt = np.dtype('i4')\n",
      " |      >>> dt.kind\n",
      " |      'i'\n",
      " |      >>> dt = np.dtype('f8')\n",
      " |      >>> dt.kind\n",
      " |      'f'\n",
      " |      >>> dt = np.dtype([('field1', 'f8')])\n",
      " |      >>> dt.kind\n",
      " |      'V'\n",
      " |  \n",
      " |  metadata\n",
      " |      Either ``None`` or a readonly dictionary of metadata (mappingproxy).\n",
      " |      \n",
      " |      The metadata field can be set using any dictionary at data-type\n",
      " |      creation. NumPy currently has no uniform approach to propagating\n",
      " |      metadata; although some array operations preserve it, there is no\n",
      " |      guarantee that others will.\n",
      " |      \n",
      " |      .. warning::\n",
      " |      \n",
      " |          Although used in certain projects, this feature was long undocumented\n",
      " |          and is not well supported. Some aspects of metadata propagation\n",
      " |          are expected to change in the future.\n",
      " |      \n",
      " |      Examples\n",
      " |      --------\n",
      " |      \n",
      " |      >>> dt = np.dtype(float, metadata={\"key\": \"value\"})\n",
      " |      >>> dt.metadata[\"key\"]\n",
      " |      'value'\n",
      " |      >>> arr = np.array([1, 2, 3], dtype=dt)\n",
      " |      >>> arr.dtype.metadata\n",
      " |      mappingproxy({'key': 'value'})\n",
      " |      \n",
      " |      Adding arrays with identical datatypes currently preserves the metadata:\n",
      " |      \n",
      " |      >>> (arr + arr).dtype.metadata\n",
      " |      mappingproxy({'key': 'value'})\n",
      " |      \n",
      " |      But if the arrays have different dtype metadata, the metadata may be\n",
      " |      dropped:\n",
      " |      \n",
      " |      >>> dt2 = np.dtype(float, metadata={\"key2\": \"value2\"})\n",
      " |      >>> arr2 = np.array([3, 2, 1], dtype=dt2)\n",
      " |      >>> (arr + arr2).dtype.metadata is None\n",
      " |      True  # The metadata field is cleared so None is returned\n",
      " |  \n",
      " |  name\n",
      " |      A bit-width name for this data-type.\n",
      " |      \n",
      " |      Un-sized flexible data-type objects do not have this attribute.\n",
      " |      \n",
      " |      Examples\n",
      " |      --------\n",
      " |      \n",
      " |      >>> x = np.dtype(float)\n",
      " |      >>> x.name\n",
      " |      'float64'\n",
      " |      >>> x = np.dtype([('a', np.int32, 8), ('b', np.float64, 6)])\n",
      " |      >>> x.name\n",
      " |      'void640'\n",
      " |  \n",
      " |  names\n",
      " |      Ordered list of field names, or ``None`` if there are no fields.\n",
      " |      \n",
      " |      The names are ordered according to increasing byte offset. This can be\n",
      " |      used, for example, to walk through all of the named fields in offset order.\n",
      " |      \n",
      " |      Examples\n",
      " |      --------\n",
      " |      >>> dt = np.dtype([('name', np.str_, 16), ('grades', np.float64, (2,))])\n",
      " |      >>> dt.names\n",
      " |      ('name', 'grades')\n",
      " |  \n",
      " |  ndim\n",
      " |      Number of dimensions of the sub-array if this data type describes a\n",
      " |      sub-array, and ``0`` otherwise.\n",
      " |      \n",
      " |      .. versionadded:: 1.13.0\n",
      " |      \n",
      " |      Examples\n",
      " |      --------\n",
      " |      >>> x = np.dtype(float)\n",
      " |      >>> x.ndim\n",
      " |      0\n",
      " |      \n",
      " |      >>> x = np.dtype((float, 8))\n",
      " |      >>> x.ndim\n",
      " |      1\n",
      " |      \n",
      " |      >>> x = np.dtype(('i4', (3, 4)))\n",
      " |      >>> x.ndim\n",
      " |      2\n",
      " |  \n",
      " |  num\n",
      " |      A unique number for each of the 21 different built-in types.\n",
      " |      \n",
      " |      These are roughly ordered from least-to-most precision.\n",
      " |      \n",
      " |      Examples\n",
      " |      --------\n",
      " |      \n",
      " |      >>> dt = np.dtype(str)\n",
      " |      >>> dt.num\n",
      " |      19\n",
      " |      \n",
      " |      >>> dt = np.dtype(float)\n",
      " |      >>> dt.num\n",
      " |      12\n",
      " |  \n",
      " |  shape\n",
      " |      Shape tuple of the sub-array if this data type describes a sub-array,\n",
      " |      and ``()`` otherwise.\n",
      " |      \n",
      " |      Examples\n",
      " |      --------\n",
      " |      \n",
      " |      >>> dt = np.dtype(('i4', 4))\n",
      " |      >>> dt.shape\n",
      " |      (4,)\n",
      " |      \n",
      " |      >>> dt = np.dtype(('i4', (2, 3)))\n",
      " |      >>> dt.shape\n",
      " |      (2, 3)\n",
      " |  \n",
      " |  str\n",
      " |      The array-protocol typestring of this data-type object.\n",
      " |  \n",
      " |  subdtype\n",
      " |      Tuple ``(item_dtype, shape)`` if this `dtype` describes a sub-array, and\n",
      " |      None otherwise.\n",
      " |      \n",
      " |      The *shape* is the fixed shape of the sub-array described by this\n",
      " |      data type, and *item_dtype* the data type of the array.\n",
      " |      \n",
      " |      If a field whose dtype object has this attribute is retrieved,\n",
      " |      then the extra dimensions implied by *shape* are tacked on to\n",
      " |      the end of the retrieved array.\n",
      " |      \n",
      " |      See Also\n",
      " |      --------\n",
      " |      dtype.base\n",
      " |      \n",
      " |      Examples\n",
      " |      --------\n",
      " |      >>> x = numpy.dtype('8f')\n",
      " |      >>> x.subdtype\n",
      " |      (dtype('float32'), (8,))\n",
      " |      \n",
      " |      >>> x =  numpy.dtype('i2')\n",
      " |      >>> x.subdtype\n",
      " |      >>>\n",
      " |  \n",
      " |  ----------------------------------------------------------------------\n",
      " |  Data and other attributes inherited from dtype:\n",
      " |  \n",
      " |  type = <class 'numpy.void'>\n",
      " |      Either an opaque sequence of bytes, or a structure.\n",
      " |      \n",
      " |      >>> np.void(b'abcd')\n",
      " |      void(b'\\x61\\x62\\x63\\x64')\n",
      " |      \n",
      " |      Structured `void` scalars can only be constructed via extraction from :ref:`structured_arrays`:\n",
      " |      \n",
      " |      >>> arr = np.array((1, 2), dtype=[('x', np.int8), ('y', np.int8)])\n",
      " |      >>> arr[()]\n",
      " |      (1, 2)  # looks like a tuple, but is `np.void`\n",
      " |      \n",
      " |      :Character code: ``'V'``\n",
      "\n"
     ]
    }
   ],
   "source": [
    "color = np.dtype([\n",
    "    (\"r\", np.ubyte),\n",
    "    (\"g\", np.ubyte),\n",
    "    (\"b\", np.ubyte),\n",
    "    (\"a\", np.ubyte)])\n",
    "# answer(23)\n",
    "help(color)"
   ]
  },
  {
   "cell_type": "markdown",
   "id": "0ef5f38b",
   "metadata": {},
   "source": [
    "#### 24. Multiply a 5x3 matrix by a 3x2 matrix (real matrix product) (★☆☆)"
   ]
  },
  {
   "cell_type": "code",
   "execution_count": 49,
   "id": "3d36d4a0",
   "metadata": {},
   "outputs": [
    {
     "name": "stdout",
     "output_type": "stream",
     "text": [
      "[[1. 1. 1.]\n",
      " [1. 1. 1.]\n",
      " [1. 1. 1.]\n",
      " [1. 1. 1.]\n",
      " [1. 1. 1.]] \n",
      "\n",
      "[[2. 2.]\n",
      " [2. 2.]\n",
      " [2. 2.]] \n",
      "\n",
      "[[6. 6.]\n",
      " [6. 6.]\n",
      " [6. 6.]\n",
      " [6. 6.]\n",
      " [6. 6.]]\n"
     ]
    }
   ],
   "source": [
    "X = np.ones((5,3))\n",
    "Y = 2 * np.ones((3,2))\n",
    "print(X, \"\\n\")\n",
    "print(Y, \"\\n\")\n",
    "\n",
    "Z = X @ Y\n",
    "print(Z)\n",
    "# answer(24)"
   ]
  },
  {
   "cell_type": "markdown",
   "id": "a46db425",
   "metadata": {},
   "source": [
    "#### 25. Given a 1D array, negate all elements which are between 3 and 8, in place. (★☆☆)"
   ]
  },
  {
   "cell_type": "code",
   "execution_count": 68,
   "id": "86e3d6a8",
   "metadata": {},
   "outputs": [
    {
     "name": "stdout",
     "output_type": "stream",
     "text": [
      "[ 0  1  2  3  4  5  6  7  8  9 10 11 12 13 14 15 16 17 18 19]\n",
      "[False False False  True  True  True  True  True  True False False False\n",
      " False False False False False False False False]\n",
      "[ 0  1  2 -3 -4 -5 -6 -7 -8  9 10 11 12 13 14 15 16 17 18 19]\n",
      "[ 0  1  2 -3 -4 -5 -6 -7 -8  9 10 11]\n"
     ]
    }
   ],
   "source": [
    "X = np.arange(20)\n",
    "# np.random.shuffle(X)\n",
    "print(X)\n",
    "pred = X >= 3 \n",
    "pred &= X <= 8\n",
    "print(pred)\n",
    "X[pred] *= -1\n",
    "print(X)\n",
    "\n",
    "# myanswer(25)\n",
    "Z = np.arange(12)\n",
    "Z[(3 <= Z) & (Z <= 8)] *= -1\n",
    "print(Z)\n"
   ]
  },
  {
   "cell_type": "markdown",
   "id": "89fa6007",
   "metadata": {},
   "source": [
    "#### 26. What is the output of the following script? (★☆☆)\n",
    "```python\n",
    "# Author: Jake VanderPlas\n",
    "\n",
    "print(sum(range(5),-1))\n",
    "from numpy import *\n",
    "print(sum(range(5),-1))\n",
    "```"
   ]
  },
  {
   "cell_type": "code",
   "execution_count": 86,
   "id": "59f2c6dc",
   "metadata": {},
   "outputs": [
    {
     "name": "stdout",
     "output_type": "stream",
     "text": [
      "[0, 1, 2, 3, 4]\n",
      "9\n",
      "10\n",
      "9\n"
     ]
    }
   ],
   "source": [
    "print([ i for i in range(5)])\n",
    "print(sum(range(5), -1))\n",
    "print(np.sum(range(5), -1))\n",
    "print(np.sum(range(5), axis=-1, initial=-1))\n",
    "# np.info(np.sum)"
   ]
  },
  {
   "cell_type": "markdown",
   "id": "38de4589",
   "metadata": {},
   "source": [
    "#### 27. Consider an integer vector Z, which of these expressions are legal? (★☆☆)\n",
    "```python\n",
    "Z**Z\n",
    "2 << Z >> 2\n",
    "Z <- Z\n",
    "1j*Z\n",
    "Z/1/1\n",
    "Z<Z>Z\n",
    "```"
   ]
  },
  {
   "cell_type": "code",
   "execution_count": 108,
   "id": "a9dc9520",
   "metadata": {},
   "outputs": [
    {
     "name": "stdout",
     "output_type": "stream",
     "text": [
      "[0 1 2 3 4]\n",
      "[  1   1   4  27 256]\n",
      "[ 2  4  8 16 32]\n",
      "[0 0 0 0 1]\n",
      "[0 1 2 4 8]\n",
      "[False False False False False]\n",
      "[0.+0.j 0.+1.j 0.+2.j 0.+3.j 0.+4.j]\n",
      "[0. 1. 2. 3. 4.]\n",
      "[False False False False False]\n",
      "[ True  True  True  True  True]\n"
     ]
    }
   ],
   "source": [
    "Z = np.arange(5)\n",
    "print(Z)\n",
    "print(Z**Z)\n",
    "print(2<<Z)\n",
    "print(Z>>2)\n",
    "print(2<<Z>>2)\n",
    "print(Z <- Z)\n",
    "print(1j*Z)\n",
    "print(Z/1/1)\n",
    "print(Z<Z)\n",
    "print(Z==Z)\n",
    "# print(Z)"
   ]
  },
  {
   "cell_type": "markdown",
   "id": "77c8b8c7",
   "metadata": {},
   "source": [
    "#### 28. What are the result of the following expressions? (★☆☆)\n",
    "```python\n",
    "np.array(0) / np.array(0)\n",
    "np.array(0) // np.array(0)\n",
    "np.array([np.nan]).astype(int).astype(float)\n",
    "```"
   ]
  },
  {
   "cell_type": "code",
   "execution_count": null,
   "id": "3b66fe44",
   "metadata": {},
   "outputs": [
    {
     "name": "stdout",
     "output_type": "stream",
     "text": [
      "nan\n",
      "0\n",
      "[0.]\n",
      "\n",
      "================================================================\n",
      "print(np.array(0) / np.array(0))\n",
      "print(np.array(0) // np.array(0))\n",
      "print(np.array([np.nan]).astype(int).astype(float))\n"
     ]
    },
    {
     "name": "stderr",
     "output_type": "stream",
     "text": [
      "/var/folders/xr/d9cpp2t502x85b23mh1c2mhc0000gp/T/ipykernel_21846/4201827364.py:1: RuntimeWarning: invalid value encountered in true_divide\n",
      "  print(np.array(0) / np.array(0))\n",
      "/var/folders/xr/d9cpp2t502x85b23mh1c2mhc0000gp/T/ipykernel_21846/4201827364.py:2: RuntimeWarning: divide by zero encountered in floor_divide\n",
      "  print(np.array(0) // np.array(0))\n"
     ]
    }
   ],
   "source": [
    "print(np.array(0) / np.array(0))\n",
    "print(np.array(0) // np.array(0))\n",
    "print(np.array([np.nan]).astype(int).astype(float))\n",
    "\n",
    "# myanswer(28)"
   ]
  },
  {
   "cell_type": "markdown",
   "id": "1f3f0892",
   "metadata": {},
   "source": [
    "#### 29. How to round away from zero a float array ? (★☆☆)"
   ]
  },
  {
   "cell_type": "code",
   "execution_count": 137,
   "id": "8fce1bd7",
   "metadata": {},
   "outputs": [
    {
     "name": "stdout",
     "output_type": "stream",
     "text": [
      "[0.21034578 0.36818233 0.37272741 0.11149104 0.66616892 0.67358884\n",
      " 0.7884261  0.29248349 0.15727739 0.85999263]\n",
      "[1. 1. 1. 1. 1. 1. 1. 1. 1. 1.]\n",
      "[-6.28326127 -5.5793792  -4.20613054  1.78444993  8.7062875  -0.79784442\n",
      "  8.48336644 -5.26521639 -3.74823226 -3.37096784]\n",
      "np.mean(Z)=-1.0276928063588038, np.std(Z)=5.314713461702654\n",
      "[-7. -6. -5.  2.  9. -1.  9. -6. -4. -4.]\n",
      "[-7. -6. -5.  2.  9. -1.  9. -6. -4. -4.]\n",
      "\n",
      "================================================================\n",
      "# Author: Charles R Harris\n",
      "\n",
      "Z = np.random.uniform(-10,+10,10)\n",
      "print(np.copysign(np.ceil(np.abs(Z)), Z))\n",
      "\n",
      "# More readable but less efficient\n",
      "print(np.where(Z>0, np.ceil(Z), np.floor(Z)))\n",
      " where()\n",
      "\n",
      "where(condition, [x, y])\n",
      "\n",
      "Return elements chosen from `x` or `y` depending on `condition`.\n",
      "\n",
      ".. note::\n",
      "    When only `condition` is provided, this function is a shorthand for\n",
      "    ``np.asarray(condition).nonzero()``. Using `nonzero` directly should be\n",
      "    preferred, as it behaves correctly for subclasses. The rest of this\n",
      "    documentation covers only the case where all three arguments are\n",
      "    provided.\n",
      "\n",
      "Parameters\n",
      "----------\n",
      "condition : array_like, bool\n",
      "    Where True, yield `x`, otherwise yield `y`.\n",
      "x, y : array_like\n",
      "    Values from which to choose. `x`, `y` and `condition` need to be\n",
      "    broadcastable to some shape.\n",
      "\n",
      "Returns\n",
      "-------\n",
      "out : ndarray\n",
      "    An array with elements from `x` where `condition` is True, and elements\n",
      "    from `y` elsewhere.\n",
      "\n",
      "See Also\n",
      "--------\n",
      "choose\n",
      "nonzero : The function that is called when x and y are omitted\n",
      "\n",
      "Notes\n",
      "-----\n",
      "If all the arrays are 1-D, `where` is equivalent to::\n",
      "\n",
      "    [xv if c else yv\n",
      "     for c, xv, yv in zip(condition, x, y)]\n",
      "\n",
      "Examples\n",
      "--------\n",
      ">>> a = np.arange(10)\n",
      ">>> a\n",
      "array([0, 1, 2, 3, 4, 5, 6, 7, 8, 9])\n",
      ">>> np.where(a < 5, a, 10*a)\n",
      "array([ 0,  1,  2,  3,  4, 50, 60, 70, 80, 90])\n",
      "\n",
      "This can be used on multidimensional arrays too:\n",
      "\n",
      ">>> np.where([[True, False], [True, True]],\n",
      "...          [[1, 2], [3, 4]],\n",
      "...          [[9, 8], [7, 6]])\n",
      "array([[1, 8],\n",
      "       [3, 4]])\n",
      "\n",
      "The shapes of x, y, and the condition are broadcast together:\n",
      "\n",
      ">>> x, y = np.ogrid[:3, :4]\n",
      ">>> np.where(x < y, x, 10 + y)  # both x and 10+y are broadcast\n",
      "array([[10,  0,  0,  0],\n",
      "       [10, 11,  1,  1],\n",
      "       [10, 11, 12,  2]])\n",
      "\n",
      ">>> a = np.array([[0, 1, 2],\n",
      "...               [0, 2, 4],\n",
      "...               [0, 3, 6]])\n",
      ">>> np.where(a < 4, a, -1)  # -1 is broadcast\n",
      "array([[ 0,  1,  2],\n",
      "       [ 0,  2, -1],\n",
      "       [ 0,  3, -1]])\n"
     ]
    }
   ],
   "source": [
    "X = np.random.random(10)\n",
    "print(X)\n",
    "print(np.ceil(X))\n",
    "\n",
    "Z = np.random.uniform(-10, +10, 10)\n",
    "print(Z)\n",
    "print(f\"{np.mean(Z)=}, {np.std(Z)=}\")\n",
    "print(np.copysign(np.ceil(np.abs(Z)), Z))\n",
    "print(np.where(Z>0, np.ceil(Z), np.floor(Z)))\n",
    "\n",
    "myanswer(29)\n",
    "np.info(np.where)"
   ]
  },
  {
   "cell_type": "markdown",
   "id": "53f47438",
   "metadata": {},
   "source": [
    "#### 30. How to find common values between two arrays? (★☆☆)"
   ]
  },
  {
   "cell_type": "code",
   "execution_count": 146,
   "id": "981db6ec",
   "metadata": {},
   "outputs": [
    {
     "name": "stdout",
     "output_type": "stream",
     "text": [
      "[0 1 2 3 4 5 6 7 8 9] [4 5 6 7]\n",
      "[4 5 6 7]\n",
      "[0 1 5 7 9]\n"
     ]
    }
   ],
   "source": [
    "X = np.array(range(0, 10))\n",
    "Y = np.array(range(4,8))\n",
    "print(X, Y)\n",
    "print(np.intersect1d(X, Y))\n",
    "\n",
    "# answer(30)\n",
    "Z1 = np.random.randint(0, 10, 10)\n",
    "Z2 = np.random.randint(0, 10, 10)\n",
    "print(np.intersect1d(Z1, Z2))"
   ]
  },
  {
   "cell_type": "markdown",
   "id": "51cf9109",
   "metadata": {},
   "source": [
    "#### 31. How to ignore all numpy warnings (not recommended)? (★☆☆)"
   ]
  },
  {
   "cell_type": "code",
   "execution_count": null,
   "id": "09ba7521",
   "metadata": {},
   "outputs": [],
   "source": []
  },
  {
   "cell_type": "markdown",
   "id": "948a691b",
   "metadata": {},
   "source": [
    "#### 32. Is the following expressions true? (★☆☆)\n",
    "```python\n",
    "np.sqrt(-1) == np.emath.sqrt(-1)\n",
    "```"
   ]
  },
  {
   "cell_type": "code",
   "execution_count": null,
   "id": "6d8f745b",
   "metadata": {},
   "outputs": [],
   "source": []
  },
  {
   "cell_type": "markdown",
   "id": "d1a8992e",
   "metadata": {},
   "source": [
    "#### 33. How to get the dates of yesterday, today and tomorrow? (★☆☆)"
   ]
  },
  {
   "cell_type": "code",
   "execution_count": null,
   "id": "31a1ade2",
   "metadata": {},
   "outputs": [],
   "source": []
  },
  {
   "cell_type": "markdown",
   "id": "01378794",
   "metadata": {},
   "source": [
    "#### 34. How to get all the dates corresponding to the month of July 2016? (★★☆)"
   ]
  },
  {
   "cell_type": "code",
   "execution_count": null,
   "id": "928c55c6",
   "metadata": {},
   "outputs": [],
   "source": []
  },
  {
   "cell_type": "markdown",
   "id": "e3f8fe94",
   "metadata": {},
   "source": [
    "#### 35. How to compute ((A+B)*(-A/2)) in place (without copy)? (★★☆)"
   ]
  },
  {
   "cell_type": "code",
   "execution_count": null,
   "id": "14e478d5",
   "metadata": {},
   "outputs": [],
   "source": []
  },
  {
   "cell_type": "markdown",
   "id": "5c4d58c9",
   "metadata": {},
   "source": [
    "#### 36. Extract the integer part of a random array of positive numbers using 4 different methods (★★☆)"
   ]
  },
  {
   "cell_type": "code",
   "execution_count": null,
   "id": "586beded",
   "metadata": {},
   "outputs": [],
   "source": []
  },
  {
   "cell_type": "markdown",
   "id": "62628653",
   "metadata": {},
   "source": [
    "#### 37. Create a 5x5 matrix with row values ranging from 0 to 4 (★★☆)"
   ]
  },
  {
   "cell_type": "code",
   "execution_count": null,
   "id": "e57763b3",
   "metadata": {},
   "outputs": [],
   "source": []
  },
  {
   "cell_type": "markdown",
   "id": "d3d46d64",
   "metadata": {},
   "source": [
    "#### 38. Consider a generator function that generates 10 integers and use it to build an array (★☆☆)"
   ]
  },
  {
   "cell_type": "code",
   "execution_count": null,
   "id": "24590d8c",
   "metadata": {},
   "outputs": [],
   "source": []
  },
  {
   "cell_type": "markdown",
   "id": "5e1e51e4",
   "metadata": {},
   "source": [
    "#### 39. Create a vector of size 10 with values ranging from 0 to 1, both excluded (★★☆)"
   ]
  },
  {
   "cell_type": "code",
   "execution_count": null,
   "id": "def73884",
   "metadata": {},
   "outputs": [],
   "source": []
  },
  {
   "cell_type": "markdown",
   "id": "9e19964c",
   "metadata": {},
   "source": [
    "#### 40. Create a random vector of size 10 and sort it (★★☆)"
   ]
  },
  {
   "cell_type": "code",
   "execution_count": null,
   "id": "ec302eb1",
   "metadata": {},
   "outputs": [],
   "source": []
  },
  {
   "cell_type": "markdown",
   "id": "13a034e2",
   "metadata": {},
   "source": [
    "#### 41. How to sum a small array faster than np.sum? (★★☆)"
   ]
  },
  {
   "cell_type": "code",
   "execution_count": null,
   "id": "b09a3551",
   "metadata": {},
   "outputs": [],
   "source": []
  },
  {
   "cell_type": "markdown",
   "id": "32d10473",
   "metadata": {},
   "source": [
    "#### 42. Consider two random arrays A and B, check if they are equal (★★☆)"
   ]
  },
  {
   "cell_type": "code",
   "execution_count": null,
   "id": "5ebb1103",
   "metadata": {},
   "outputs": [],
   "source": []
  },
  {
   "cell_type": "markdown",
   "id": "a50474b0",
   "metadata": {},
   "source": [
    "#### 43. Make an array immutable (read-only) (★★☆)"
   ]
  },
  {
   "cell_type": "code",
   "execution_count": null,
   "id": "db6fe176",
   "metadata": {},
   "outputs": [],
   "source": []
  },
  {
   "cell_type": "markdown",
   "id": "b7a6093e",
   "metadata": {},
   "source": [
    "#### 44. Consider a random 10x2 matrix representing cartesian coordinates, convert them to polar coordinates (★★☆)"
   ]
  },
  {
   "cell_type": "code",
   "execution_count": null,
   "id": "4479c48d",
   "metadata": {},
   "outputs": [],
   "source": []
  },
  {
   "cell_type": "markdown",
   "id": "934f889c",
   "metadata": {},
   "source": [
    "#### 45. Create random vector of size 10 and replace the maximum value by 0 (★★☆)"
   ]
  },
  {
   "cell_type": "code",
   "execution_count": null,
   "id": "4b576814",
   "metadata": {},
   "outputs": [],
   "source": []
  },
  {
   "cell_type": "markdown",
   "id": "d4f6e2e1",
   "metadata": {},
   "source": [
    "#### 46. Create a structured array with `x` and `y` coordinates covering the [0,1]x[0,1] area (★★☆)"
   ]
  },
  {
   "cell_type": "code",
   "execution_count": null,
   "id": "f90f969b",
   "metadata": {},
   "outputs": [],
   "source": []
  },
  {
   "cell_type": "markdown",
   "id": "bc9c88d3",
   "metadata": {},
   "source": [
    "#### 47. Given two arrays, X and Y, construct the Cauchy matrix C (Cij =1/(xi - yj)) (★★☆)"
   ]
  },
  {
   "cell_type": "code",
   "execution_count": null,
   "id": "e90ad595",
   "metadata": {},
   "outputs": [],
   "source": []
  },
  {
   "cell_type": "markdown",
   "id": "a840a52f",
   "metadata": {},
   "source": [
    "#### 48. Print the minimum and maximum representable values for each numpy scalar type (★★☆)"
   ]
  },
  {
   "cell_type": "code",
   "execution_count": null,
   "id": "d2eb3b4a",
   "metadata": {},
   "outputs": [],
   "source": []
  },
  {
   "cell_type": "markdown",
   "id": "0a0819d5",
   "metadata": {},
   "source": [
    "#### 49. How to print all the values of an array? (★★☆)"
   ]
  },
  {
   "cell_type": "code",
   "execution_count": null,
   "id": "d76dbf55",
   "metadata": {},
   "outputs": [],
   "source": []
  },
  {
   "cell_type": "markdown",
   "id": "50c62214",
   "metadata": {},
   "source": [
    "#### 50. How to find the closest value (to a given scalar) in a vector? (★★☆)"
   ]
  },
  {
   "cell_type": "code",
   "execution_count": null,
   "id": "24b45bb5",
   "metadata": {},
   "outputs": [],
   "source": []
  },
  {
   "cell_type": "markdown",
   "id": "4c5a5116",
   "metadata": {},
   "source": [
    "#### 51. Create a structured array representing a position (x,y) and a color (r,g,b) (★★☆)"
   ]
  },
  {
   "cell_type": "code",
   "execution_count": null,
   "id": "275806b2",
   "metadata": {},
   "outputs": [],
   "source": []
  },
  {
   "cell_type": "markdown",
   "id": "1d3399ca",
   "metadata": {},
   "source": [
    "#### 52. Consider a random vector with shape (100,2) representing coordinates, find point by point distances (★★☆)"
   ]
  },
  {
   "cell_type": "code",
   "execution_count": null,
   "id": "67eae5bf",
   "metadata": {},
   "outputs": [],
   "source": []
  },
  {
   "cell_type": "markdown",
   "id": "003ff920",
   "metadata": {},
   "source": [
    "#### 53. How to convert a float (32 bits) array into an integer (32 bits) array in place?"
   ]
  },
  {
   "cell_type": "code",
   "execution_count": null,
   "id": "76245e6d",
   "metadata": {},
   "outputs": [],
   "source": []
  },
  {
   "cell_type": "markdown",
   "id": "0c99eac4",
   "metadata": {},
   "source": [
    "#### 54. How to read the following file? (★★☆)\n",
    "```\n",
    "1, 2, 3, 4, 5\n",
    "6,  ,  , 7, 8\n",
    " ,  , 9,10,11\n",
    "```"
   ]
  },
  {
   "cell_type": "code",
   "execution_count": null,
   "id": "55c6bf8c",
   "metadata": {},
   "outputs": [],
   "source": []
  },
  {
   "cell_type": "markdown",
   "id": "8cd30360",
   "metadata": {},
   "source": [
    "#### 55. What is the equivalent of enumerate for numpy arrays? (★★☆)"
   ]
  },
  {
   "cell_type": "code",
   "execution_count": null,
   "id": "608315ba",
   "metadata": {},
   "outputs": [],
   "source": []
  },
  {
   "cell_type": "markdown",
   "id": "4823a294",
   "metadata": {},
   "source": [
    "#### 56. Generate a generic 2D Gaussian-like array (★★☆)"
   ]
  },
  {
   "cell_type": "code",
   "execution_count": null,
   "id": "9b3b682d",
   "metadata": {},
   "outputs": [],
   "source": []
  },
  {
   "cell_type": "markdown",
   "id": "2dd8891d",
   "metadata": {},
   "source": [
    "#### 57. How to randomly place p elements in a 2D array? (★★☆)"
   ]
  },
  {
   "cell_type": "code",
   "execution_count": null,
   "id": "a55c52dc",
   "metadata": {},
   "outputs": [],
   "source": []
  },
  {
   "cell_type": "markdown",
   "id": "270b6834",
   "metadata": {},
   "source": [
    "#### 58. Subtract the mean of each row of a matrix (★★☆)"
   ]
  },
  {
   "cell_type": "code",
   "execution_count": null,
   "id": "814080c9",
   "metadata": {},
   "outputs": [],
   "source": []
  },
  {
   "cell_type": "markdown",
   "id": "52c92916",
   "metadata": {},
   "source": [
    "#### 59. How to sort an array by the nth column? (★★☆)"
   ]
  },
  {
   "cell_type": "code",
   "execution_count": null,
   "id": "c6ebac6d",
   "metadata": {},
   "outputs": [],
   "source": []
  },
  {
   "cell_type": "markdown",
   "id": "05cef60b",
   "metadata": {},
   "source": [
    "#### 60. How to tell if a given 2D array has null columns? (★★☆)"
   ]
  },
  {
   "cell_type": "code",
   "execution_count": null,
   "id": "7979b467",
   "metadata": {},
   "outputs": [],
   "source": []
  },
  {
   "cell_type": "markdown",
   "id": "4891fdf5",
   "metadata": {},
   "source": [
    "#### 61. Find the nearest value from a given value in an array (★★☆)"
   ]
  },
  {
   "cell_type": "code",
   "execution_count": null,
   "id": "b38950fd",
   "metadata": {},
   "outputs": [],
   "source": []
  },
  {
   "cell_type": "markdown",
   "id": "b34bfbc7",
   "metadata": {},
   "source": [
    "#### 62. Considering two arrays with shape (1,3) and (3,1), how to compute their sum using an iterator? (★★☆)"
   ]
  },
  {
   "cell_type": "code",
   "execution_count": null,
   "id": "aa7eb006",
   "metadata": {},
   "outputs": [],
   "source": []
  },
  {
   "cell_type": "markdown",
   "id": "77a27b83",
   "metadata": {},
   "source": [
    "#### 63. Create an array class that has a name attribute (★★☆)"
   ]
  },
  {
   "cell_type": "code",
   "execution_count": null,
   "id": "a2a83936",
   "metadata": {},
   "outputs": [],
   "source": []
  },
  {
   "cell_type": "markdown",
   "id": "f7f5d229",
   "metadata": {},
   "source": [
    "#### 64. Consider a given vector, how to add 1 to each element indexed by a second vector (be careful with repeated indices)? (★★★)"
   ]
  },
  {
   "cell_type": "code",
   "execution_count": null,
   "id": "9b8f8f48",
   "metadata": {},
   "outputs": [],
   "source": []
  },
  {
   "cell_type": "markdown",
   "id": "b067fca8",
   "metadata": {},
   "source": [
    "#### 65. How to accumulate elements of a vector (X) to an array (F) based on an index list (I)? (★★★)"
   ]
  },
  {
   "cell_type": "code",
   "execution_count": null,
   "id": "f983f8ba",
   "metadata": {},
   "outputs": [],
   "source": []
  },
  {
   "cell_type": "markdown",
   "id": "765e2b8e",
   "metadata": {},
   "source": [
    "#### 66. Considering a (w,h,3) image of (dtype=ubyte), compute the number of unique colors (★★☆)"
   ]
  },
  {
   "cell_type": "code",
   "execution_count": null,
   "id": "7572d90d",
   "metadata": {},
   "outputs": [],
   "source": []
  },
  {
   "cell_type": "markdown",
   "id": "02743317",
   "metadata": {},
   "source": [
    "#### 67. Considering a four dimensions array, how to get sum over the last two axis at once? (★★★)"
   ]
  },
  {
   "cell_type": "code",
   "execution_count": null,
   "id": "980b5c45",
   "metadata": {},
   "outputs": [],
   "source": []
  },
  {
   "cell_type": "markdown",
   "id": "fe8b8107",
   "metadata": {},
   "source": [
    "#### 68. Considering a one-dimensional vector D, how to compute means of subsets of D using a vector S of same size describing subset  indices? (★★★)"
   ]
  },
  {
   "cell_type": "code",
   "execution_count": null,
   "id": "9c17c8c9",
   "metadata": {},
   "outputs": [],
   "source": []
  },
  {
   "cell_type": "markdown",
   "id": "7efa1173",
   "metadata": {},
   "source": [
    "#### 69. How to get the diagonal of a dot product? (★★★)"
   ]
  },
  {
   "cell_type": "code",
   "execution_count": null,
   "id": "59fc6a51",
   "metadata": {},
   "outputs": [],
   "source": []
  },
  {
   "cell_type": "markdown",
   "id": "b72adc30",
   "metadata": {},
   "source": [
    "#### 70. Consider the vector [1, 2, 3, 4, 5], how to build a new vector with 3 consecutive zeros interleaved between each value? (★★★)"
   ]
  },
  {
   "cell_type": "code",
   "execution_count": null,
   "id": "94b582b4",
   "metadata": {},
   "outputs": [],
   "source": []
  },
  {
   "cell_type": "markdown",
   "id": "fafa05b8",
   "metadata": {},
   "source": [
    "#### 71. Consider an array of dimension (5,5,3), how to multiply it by an array with dimensions (5,5)? (★★★)"
   ]
  },
  {
   "cell_type": "code",
   "execution_count": null,
   "id": "0dbb5bd4",
   "metadata": {},
   "outputs": [],
   "source": []
  },
  {
   "cell_type": "markdown",
   "id": "35a2bae5",
   "metadata": {},
   "source": [
    "#### 72. How to swap two rows of an array? (★★★)"
   ]
  },
  {
   "cell_type": "code",
   "execution_count": null,
   "id": "d63b30c3",
   "metadata": {},
   "outputs": [],
   "source": []
  },
  {
   "cell_type": "markdown",
   "id": "b760fc57",
   "metadata": {},
   "source": [
    "#### 73. Consider a set of 10 triplets describing 10 triangles (with shared vertices), find the set of unique line segments composing all the  triangles (★★★)"
   ]
  },
  {
   "cell_type": "code",
   "execution_count": null,
   "id": "01738774",
   "metadata": {},
   "outputs": [],
   "source": []
  },
  {
   "cell_type": "markdown",
   "id": "2d28cdaa",
   "metadata": {},
   "source": [
    "#### 74. Given a sorted array C that corresponds to a bincount, how to produce an array A such that np.bincount(A) == C? (★★★)"
   ]
  },
  {
   "cell_type": "code",
   "execution_count": null,
   "id": "8423859b",
   "metadata": {},
   "outputs": [],
   "source": []
  },
  {
   "cell_type": "markdown",
   "id": "5f4cafbd",
   "metadata": {},
   "source": [
    "#### 75. How to compute averages using a sliding window over an array? (★★★)"
   ]
  },
  {
   "cell_type": "code",
   "execution_count": null,
   "id": "62d6d514",
   "metadata": {},
   "outputs": [],
   "source": []
  },
  {
   "cell_type": "markdown",
   "id": "575d8bb4",
   "metadata": {},
   "source": [
    "#### 76. Consider a one-dimensional array Z, build a two-dimensional array whose first row is (Z[0],Z[1],Z[2]) and each subsequent row is  shifted by 1 (last row should be (Z[-3],Z[-2],Z[-1]) (★★★)"
   ]
  },
  {
   "cell_type": "code",
   "execution_count": null,
   "id": "2a41d341",
   "metadata": {},
   "outputs": [],
   "source": []
  },
  {
   "cell_type": "markdown",
   "id": "80dc0b2a",
   "metadata": {},
   "source": [
    "#### 77. How to negate a boolean, or to change the sign of a float inplace? (★★★)"
   ]
  },
  {
   "cell_type": "code",
   "execution_count": null,
   "id": "6fc68014",
   "metadata": {},
   "outputs": [],
   "source": []
  },
  {
   "cell_type": "markdown",
   "id": "7288634d",
   "metadata": {},
   "source": [
    "#### 78. Consider 2 sets of points P0,P1 describing lines (2d) and a point p, how to compute distance from p to each line i (P0[i],P1[i])? (★★★)"
   ]
  },
  {
   "cell_type": "code",
   "execution_count": null,
   "id": "4602caa6",
   "metadata": {},
   "outputs": [],
   "source": []
  },
  {
   "cell_type": "markdown",
   "id": "e1880e79",
   "metadata": {},
   "source": [
    "#### 79. Consider 2 sets of points P0,P1 describing lines (2d) and a set of points P, how to compute distance from each point j (P[j]) to each line i (P0[i],P1[i])? (★★★)"
   ]
  },
  {
   "cell_type": "code",
   "execution_count": null,
   "id": "a14e151b",
   "metadata": {},
   "outputs": [],
   "source": []
  },
  {
   "cell_type": "markdown",
   "id": "b8a2a287",
   "metadata": {},
   "source": [
    "#### 80. Consider an arbitrary array, write a function that extracts a subpart with a fixed shape and centered on a given element (pad with a `fill` value when necessary) (★★★)"
   ]
  },
  {
   "cell_type": "code",
   "execution_count": null,
   "id": "86af1186",
   "metadata": {},
   "outputs": [],
   "source": []
  },
  {
   "cell_type": "markdown",
   "id": "caa64150",
   "metadata": {},
   "source": [
    "#### 81. Consider an array Z = [1,2,3,4,5,6,7,8,9,10,11,12,13,14], how to generate an array R = [[1,2,3,4], [2,3,4,5], [3,4,5,6], ..., [11,12,13,14]]? (★★★)"
   ]
  },
  {
   "cell_type": "code",
   "execution_count": null,
   "id": "4e7cc696",
   "metadata": {},
   "outputs": [],
   "source": []
  },
  {
   "cell_type": "markdown",
   "id": "9444c83b",
   "metadata": {},
   "source": [
    "#### 82. Compute a matrix rank (★★★)"
   ]
  },
  {
   "cell_type": "code",
   "execution_count": null,
   "id": "9e5c1d64",
   "metadata": {},
   "outputs": [],
   "source": []
  },
  {
   "cell_type": "markdown",
   "id": "6eef9f33",
   "metadata": {},
   "source": [
    "#### 83. How to find the most frequent value in an array?"
   ]
  },
  {
   "cell_type": "code",
   "execution_count": null,
   "id": "9fb60e52",
   "metadata": {},
   "outputs": [],
   "source": []
  },
  {
   "cell_type": "markdown",
   "id": "65f370f9",
   "metadata": {},
   "source": [
    "#### 84. Extract all the contiguous 3x3 blocks from a random 10x10 matrix (★★★)"
   ]
  },
  {
   "cell_type": "code",
   "execution_count": null,
   "id": "65ade1a6",
   "metadata": {},
   "outputs": [],
   "source": []
  },
  {
   "cell_type": "markdown",
   "id": "845ad7f8",
   "metadata": {},
   "source": [
    "#### 85. Create a 2D array subclass such that Z[i,j] == Z[j,i] (★★★)"
   ]
  },
  {
   "cell_type": "code",
   "execution_count": null,
   "id": "30b1ba71",
   "metadata": {},
   "outputs": [],
   "source": []
  },
  {
   "cell_type": "markdown",
   "id": "adc48f02",
   "metadata": {},
   "source": [
    "#### 86. Consider a set of p matrices with shape (n,n) and a set of p vectors with shape (n,1). How to compute the sum of of the p matrix products at once? (result has shape (n,1)) (★★★)"
   ]
  },
  {
   "cell_type": "code",
   "execution_count": null,
   "id": "ec798e90",
   "metadata": {},
   "outputs": [],
   "source": []
  },
  {
   "cell_type": "markdown",
   "id": "9efb34b2",
   "metadata": {},
   "source": [
    "#### 87. Consider a 16x16 array, how to get the block-sum (block size is 4x4)? (★★★)"
   ]
  },
  {
   "cell_type": "code",
   "execution_count": null,
   "id": "ea79f40b",
   "metadata": {},
   "outputs": [],
   "source": []
  },
  {
   "cell_type": "markdown",
   "id": "a9368578",
   "metadata": {},
   "source": [
    "#### 88. How to implement the Game of Life using numpy arrays? (★★★)"
   ]
  },
  {
   "cell_type": "code",
   "execution_count": null,
   "id": "315e9f11",
   "metadata": {},
   "outputs": [],
   "source": []
  },
  {
   "cell_type": "markdown",
   "id": "8c598af3",
   "metadata": {},
   "source": [
    "#### 89. How to get the n largest values of an array (★★★)"
   ]
  },
  {
   "cell_type": "code",
   "execution_count": null,
   "id": "cba8d433",
   "metadata": {},
   "outputs": [],
   "source": []
  },
  {
   "cell_type": "markdown",
   "id": "036a3bb0",
   "metadata": {},
   "source": [
    "#### 90. Given an arbitrary number of vectors, build the cartesian product (every combination of every item) (★★★)"
   ]
  },
  {
   "cell_type": "code",
   "execution_count": null,
   "id": "d712972d",
   "metadata": {},
   "outputs": [],
   "source": []
  },
  {
   "cell_type": "markdown",
   "id": "36487aab",
   "metadata": {},
   "source": [
    "#### 91. How to create a record array from a regular array? (★★★)"
   ]
  },
  {
   "cell_type": "code",
   "execution_count": null,
   "id": "9779dbac",
   "metadata": {},
   "outputs": [],
   "source": []
  },
  {
   "cell_type": "markdown",
   "id": "9f178562",
   "metadata": {},
   "source": [
    "#### 92. Consider a large vector Z, compute Z to the power of 3 using 3 different methods (★★★)"
   ]
  },
  {
   "cell_type": "code",
   "execution_count": null,
   "id": "b08000b8",
   "metadata": {},
   "outputs": [],
   "source": []
  },
  {
   "cell_type": "markdown",
   "id": "86acaf60",
   "metadata": {},
   "source": [
    "#### 93. Consider two arrays A and B of shape (8,3) and (2,2). How to find rows of A that contain elements of each row of B regardless of the order of the elements in B? (★★★)"
   ]
  },
  {
   "cell_type": "code",
   "execution_count": null,
   "id": "793b26d4",
   "metadata": {},
   "outputs": [],
   "source": []
  },
  {
   "cell_type": "markdown",
   "id": "c71b9df2",
   "metadata": {},
   "source": [
    "#### 94. Considering a 10x3 matrix, extract rows with unequal values (e.g. [2,2,3]) (★★★)"
   ]
  },
  {
   "cell_type": "code",
   "execution_count": null,
   "id": "494069f0",
   "metadata": {},
   "outputs": [],
   "source": []
  },
  {
   "cell_type": "markdown",
   "id": "1a8ae7c1",
   "metadata": {},
   "source": [
    "#### 95. Convert a vector of ints into a matrix binary representation (★★★)"
   ]
  },
  {
   "cell_type": "code",
   "execution_count": null,
   "id": "d5e967b8",
   "metadata": {},
   "outputs": [],
   "source": []
  },
  {
   "cell_type": "markdown",
   "id": "edef1198",
   "metadata": {},
   "source": [
    "#### 96. Given a two dimensional array, how to extract unique rows? (★★★)"
   ]
  },
  {
   "cell_type": "code",
   "execution_count": null,
   "id": "fa14799b",
   "metadata": {},
   "outputs": [],
   "source": []
  },
  {
   "cell_type": "markdown",
   "id": "575598a1",
   "metadata": {},
   "source": [
    "#### 97. Considering 2 vectors A & B, write the einsum equivalent of inner, outer, sum, and mul function (★★★)"
   ]
  },
  {
   "cell_type": "code",
   "execution_count": null,
   "id": "9da72f6e",
   "metadata": {},
   "outputs": [],
   "source": []
  },
  {
   "cell_type": "markdown",
   "id": "88e2796a",
   "metadata": {},
   "source": [
    "#### 98. Considering a path described by two vectors (X,Y), how to sample it using equidistant samples (★★★)?"
   ]
  },
  {
   "cell_type": "code",
   "execution_count": null,
   "id": "c17314f8",
   "metadata": {},
   "outputs": [],
   "source": []
  },
  {
   "cell_type": "markdown",
   "id": "8b25b7bd",
   "metadata": {},
   "source": [
    "#### 99. Given an integer n and a 2D array X, select from X the rows which can be interpreted as draws from a multinomial distribution with n degrees, i.e., the rows which only contain integers and which sum to n. (★★★)"
   ]
  },
  {
   "cell_type": "code",
   "execution_count": null,
   "id": "f0dc48cd",
   "metadata": {},
   "outputs": [],
   "source": []
  },
  {
   "cell_type": "markdown",
   "id": "b7068c76",
   "metadata": {},
   "source": [
    "#### 100. Compute bootstrapped 95% confidence intervals for the mean of a 1D array X (i.e., resample the elements of an array with replacement N times, compute the mean of each sample, and then compute percentiles over the means). (★★★)"
   ]
  },
  {
   "cell_type": "code",
   "execution_count": null,
   "id": "3c234201",
   "metadata": {},
   "outputs": [],
   "source": []
  }
 ],
 "metadata": {
  "kernelspec": {
   "display_name": "Python 3 (ipykernel)",
   "language": "python",
   "name": "python3"
  },
  "language_info": {
   "codemirror_mode": {
    "name": "ipython",
    "version": 3
   },
   "file_extension": ".py",
   "mimetype": "text/x-python",
   "name": "python",
   "nbconvert_exporter": "python",
   "pygments_lexer": "ipython3",
   "version": "3.9.18"
  }
 },
 "nbformat": 4,
 "nbformat_minor": 5
}
