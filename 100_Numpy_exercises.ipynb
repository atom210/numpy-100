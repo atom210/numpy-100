{
 "cells": [
  {
   "cell_type": "markdown",
   "id": "5a28b949",
   "metadata": {},
   "source": [
    "# 100 numpy exercises\n",
    "\n",
    "This is a collection of exercises that have been collected in the numpy mailing list, on stack overflow\n",
    "and in the numpy documentation. The goal of this collection is to offer a quick reference for both old\n",
    "and new users but also to provide a set of exercises for those who teach.\n",
    "\n",
    "\n",
    "If you find an error or think you've a better way to solve some of them, feel\n",
    "free to open an issue at <https://github.com/rougier/numpy-100>."
   ]
  },
  {
   "cell_type": "markdown",
   "id": "3f7a87ec",
   "metadata": {},
   "source": [
    "File automatically generated. See the documentation to update questions/answers/hints programmatically."
   ]
  },
  {
   "cell_type": "markdown",
   "id": "854ecf1b",
   "metadata": {},
   "source": [
    "Run the `initialise.py` module, then for each question you can query the\n",
    "answer or an hint with `hint(n)` or `answer(n)` for `n` question number."
   ]
  },
  {
   "cell_type": "code",
   "execution_count": null,
   "id": "c53ea877",
   "metadata": {},
   "outputs": [],
   "source": [
    "%run initialise.py"
   ]
  },
  {
   "cell_type": "markdown",
   "id": "c00df986",
   "metadata": {},
   "source": [
    "#### 1. Import the numpy package under the name `np` (★☆☆)"
   ]
  },
  {
   "cell_type": "code",
   "execution_count": null,
   "id": "35bde95c",
   "metadata": {},
   "outputs": [],
   "source": [
    "import numpy as np\n",
    "\n",
    "def myanswer(n: int):\n",
    "    print(\"\\n\" + \"=\"*64)\n",
    "    answer(n)\n",
    "\n",
    "def myhint(n: int):\n",
    "    print(\"\\n\" + \"=\"*64)\n",
    "    hint(n) \n",
    "\n",
    "# myhint(1)"
   ]
  },
  {
   "cell_type": "markdown",
   "id": "b555a89f",
   "metadata": {},
   "source": [
    "#### 2. Print the numpy version and the configuration (★☆☆)"
   ]
  },
  {
   "cell_type": "code",
   "execution_count": null,
   "id": "2c9d363d",
   "metadata": {},
   "outputs": [],
   "source": [
    "print(np.__version__)\n",
    "np.show_config()\n",
    "# help(np)"
   ]
  },
  {
   "cell_type": "markdown",
   "id": "e2713407",
   "metadata": {},
   "source": [
    "#### 3. Create a null vector of size 10 (★☆☆)"
   ]
  },
  {
   "cell_type": "code",
   "execution_count": null,
   "id": "6df2f6db",
   "metadata": {},
   "outputs": [],
   "source": [
    "x = np.zeros(10)\n",
    "print(x)"
   ]
  },
  {
   "cell_type": "markdown",
   "id": "5a09554f",
   "metadata": {},
   "source": [
    "#### 4. How to find the memory size of any array (★☆☆)"
   ]
  },
  {
   "cell_type": "code",
   "execution_count": null,
   "id": "c55a2a00",
   "metadata": {},
   "outputs": [],
   "source": [
    "# np.size(x)\n",
    "Z = np.zeros((10, 4))\n",
    "print(np.size(Z))\n",
    "print(Z.itemsize)\n",
    "print(f\"{np.size(Z)=}, {Z.itemsize=}, {Z.size*Z.itemsize=}\")\n",
    "print(f\"{Z.nbytes=}\")\n",
    "\n",
    "# myanswer(4)"
   ]
  },
  {
   "cell_type": "markdown",
   "id": "4720d438",
   "metadata": {},
   "source": [
    "#### 5. How to get the documentation of the numpy add function from the command line? (★☆☆)"
   ]
  },
  {
   "cell_type": "code",
   "execution_count": null,
   "id": "d9e2277e",
   "metadata": {},
   "outputs": [],
   "source": [
    "# help(np)\n",
    "# np.info(np.add)\n",
    "!python -c \"import numpy as np; np.info(np.add)\"\n",
    "# myanswer(5)"
   ]
  },
  {
   "cell_type": "markdown",
   "id": "b812d322",
   "metadata": {},
   "source": [
    "#### 6. Create a null vector of size 10 but the fifth value which is 1 (★☆☆)"
   ]
  },
  {
   "cell_type": "code",
   "execution_count": null,
   "id": "9f95cedf",
   "metadata": {},
   "outputs": [],
   "source": [
    "X = np.zeros(10)\n",
    "X[4] = 1\n",
    "print(X)\n",
    "# myanswer(6)"
   ]
  },
  {
   "cell_type": "markdown",
   "id": "a348f2a8",
   "metadata": {},
   "source": [
    "#### 7. Create a vector with values ranging from 10 to 49 (★☆☆)"
   ]
  },
  {
   "cell_type": "code",
   "execution_count": null,
   "id": "5a68fd5b",
   "metadata": {},
   "outputs": [],
   "source": [
    "X = np.array([ i for i in range(10, 50) ])\n",
    "print(X, \"\\n\")\n",
    "Z = np.arange(10, 50)\n",
    "\n",
    "print(Z == X)\n",
    "myanswer(7)"
   ]
  },
  {
   "cell_type": "markdown",
   "id": "2f4ca4c0",
   "metadata": {},
   "source": [
    "#### 8. Reverse a vector (first element becomes last) (★☆☆)"
   ]
  },
  {
   "cell_type": "code",
   "execution_count": null,
   "id": "1892e775",
   "metadata": {},
   "outputs": [],
   "source": [
    "# help(X)\n",
    "X = np.arange(10, 50)\n",
    "print(X)\n",
    "X = X[::-1]\n",
    "print(X)\n",
    "Z = X[::-2]\n",
    "print(Z)"
   ]
  },
  {
   "cell_type": "markdown",
   "id": "31381832",
   "metadata": {},
   "source": [
    "#### 9. Create a 3x3 matrix with values ranging from 0 to 8 (★☆☆)"
   ]
  },
  {
   "cell_type": "code",
   "execution_count": null,
   "id": "0154f251",
   "metadata": {},
   "outputs": [],
   "source": [
    "X = np.arange(0, 9).reshape((3,3))\n",
    "print(X)\n",
    "myanswer(9)"
   ]
  },
  {
   "cell_type": "markdown",
   "id": "8c353e84",
   "metadata": {},
   "source": [
    "#### 10. Find indices of non-zero elements from [1,2,0,0,4,0] (★☆☆)"
   ]
  },
  {
   "cell_type": "code",
   "execution_count": null,
   "id": "da3495c3",
   "metadata": {},
   "outputs": [],
   "source": [
    "X = np.array([1,2,0,0,4,0])\n",
    "nzX = np.nonzero(X)\n",
    "# XPred = X != 0\n",
    "print(nzX)\n",
    "# np.info(np.nonzero)\n",
    "\n",
    "Z = X.reshape(2,3)\n",
    "print(Z)\n",
    "nzIdx = np.nonzero(Z)\n",
    "print(nz)\n",
    "print(Z[nzIdx])\n",
    "# myanswer(10)"
   ]
  },
  {
   "cell_type": "markdown",
   "id": "a26ac749",
   "metadata": {},
   "source": [
    "#### 11. Create a 3x3 identity matrix (★☆☆)"
   ]
  },
  {
   "cell_type": "code",
   "execution_count": null,
   "id": "3e33feda",
   "metadata": {},
   "outputs": [],
   "source": [
    "# np.info(np.eye)\n",
    "X = np.eye(3)\n",
    "print(X)\n",
    "# myanswer(11)"
   ]
  },
  {
   "cell_type": "markdown",
   "id": "3a293379",
   "metadata": {},
   "source": [
    "#### 12. Create a 3x3x3 array with random values (★☆☆)"
   ]
  },
  {
   "cell_type": "code",
   "execution_count": null,
   "id": "2da08152",
   "metadata": {},
   "outputs": [],
   "source": [
    "# np.info(np.random)\n",
    "X = np.random.random((3,3,3))\n",
    "print(X)\n",
    "Z = X.reshape(-1)\n",
    "\n",
    "print(Z)\n",
    "predZ = Z >= 0.5\n",
    "print(Z[np.nonzero(predZ)].size)\n",
    "# myanswer(12)"
   ]
  },
  {
   "cell_type": "markdown",
   "id": "e3faa924",
   "metadata": {},
   "source": [
    "#### 13. Create a 10x10 array with random values and find the minimum and maximum values (★☆☆)"
   ]
  },
  {
   "cell_type": "code",
   "execution_count": null,
   "id": "e9fb3793",
   "metadata": {},
   "outputs": [],
   "source": [
    "X = np.random.random((10, 10))\n",
    "Z = X.reshape(-1)\n",
    "print(f\"{np.amin(Z)=}, {np.amax(Z)=}\")\n",
    "# myanswer(13)\n",
    "xMin, xMax = X.min(), X.max()\n",
    "zMin, zMax = np.min(X), np.max(X)\n",
    "print(f\"{xMin=}, {xMax=}\")\n",
    "print(f\"{zMin=}, {zMax=}\")"
   ]
  },
  {
   "cell_type": "markdown",
   "id": "317cb8d1",
   "metadata": {},
   "source": [
    "#### 14. Create a random vector of size 30 and find the mean value (★☆☆)"
   ]
  },
  {
   "cell_type": "code",
   "execution_count": null,
   "id": "4ea995d6",
   "metadata": {},
   "outputs": [],
   "source": [
    "X = np.random.random(30)\n",
    "print(X)\n",
    "meanX = np.mean(X)\n",
    "m = X.mean()\n",
    "print(f\"{meanX=}, {m=}\")\n",
    "# myanswer(14)"
   ]
  },
  {
   "cell_type": "markdown",
   "id": "b8dee0f2",
   "metadata": {},
   "source": [
    "#### 15. Create a 2d array with 1 on the border and 0 inside (★☆☆)"
   ]
  },
  {
   "cell_type": "code",
   "execution_count": null,
   "id": "7054464b",
   "metadata": {},
   "outputs": [],
   "source": [
    "X = np.zeros((5, 5))\n",
    "# borderIdx = X.shape[-1] - 1\n",
    "# print(X.shape, col)\n",
    "X[0][:] = X[-1][:] = 1\n",
    "X.T[0][:] = X.T[-1][:] = 1\n",
    "print(X, \"\\n\")\n",
    "\n",
    "# myanswer(15)\n",
    "Z = np.ones((6, 6))\n",
    "Z[1:-1,1:-1] = 0\n",
    "print(Z)"
   ]
  },
  {
   "cell_type": "markdown",
   "id": "1476f45f",
   "metadata": {},
   "source": [
    "#### 16. How to add a border (filled with 0's) around an existing array? (★☆☆)"
   ]
  },
  {
   "cell_type": "code",
   "execution_count": null,
   "id": "4f0212af",
   "metadata": {},
   "outputs": [],
   "source": [
    "X = np.ones((5,5))\n",
    "# X = np.pad(X, pad_width=1, mode='constant', constant_values=0)\n",
    "X = np.pad(X, pad_width=1)\n",
    "print(X, \"\\n\")\n",
    "# np.info(np.pad)\n",
    "\n",
    "X = np.ones((5, 5))\n",
    "X[:, [0, -1]] = 0\n",
    "X[[0, -1], :] = 0\n",
    "print(X)\n",
    "# answer(16)"
   ]
  },
  {
   "cell_type": "markdown",
   "id": "52844dc7",
   "metadata": {},
   "source": [
    "#### 17. What is the result of the following expression? (★☆☆)\n",
    "```python\n",
    "0 * np.nan\n",
    "np.nan == np.nan\n",
    "np.inf > np.nan\n",
    "np.nan - np.nan\n",
    "np.nan in set([np.nan])\n",
    "0.3 == 3 * 0.1\n",
    "```"
   ]
  },
  {
   "cell_type": "code",
   "execution_count": null,
   "id": "cfdb7352",
   "metadata": {},
   "outputs": [],
   "source": [
    "print(0 * np.nan)\n",
    "print(np.nan == np.nan)\n",
    "print(np.inf > np.nan)\n",
    "print(np.nan - np.nan)\n",
    "print(np.nan in set([np.nan]))\n",
    "print(0.3 == 3 * 0.1)\n",
    "# myanswer(17)"
   ]
  },
  {
   "cell_type": "markdown",
   "id": "9801c961",
   "metadata": {},
   "source": [
    "#### 18. Create a 5x5 matrix with values 1,2,3,4 just below the diagonal (★☆☆)"
   ]
  },
  {
   "cell_type": "code",
   "execution_count": null,
   "id": "4e97651a",
   "metadata": {},
   "outputs": [],
   "source": [
    "X = np.zeros((5,5))\n",
    "for i in range(1, X.shape[-1]):\n",
    "    X[i][i-1] = i\n",
    "print(X, \"\\n\")\n",
    "\n",
    "print(np.diag(1+np.arange(4), k=-1))\n",
    "# print(1+np.arange(4))\n",
    "# myanswer(18)\n",
    "# np.info(np.diag)"
   ]
  },
  {
   "cell_type": "markdown",
   "id": "3dc05e9f",
   "metadata": {},
   "source": [
    "#### 19. Create a 8x8 matrix and fill it with a checkerboard pattern (★☆☆)"
   ]
  },
  {
   "cell_type": "code",
   "execution_count": null,
   "id": "0b100b85",
   "metadata": {},
   "outputs": [],
   "source": [
    "X = np.zeros((8, 8), dtype=int)\n",
    "# print(X)\n",
    "X[0::2, 1::2] = 1\n",
    "X[1::2, 0::2] = 1\n",
    "print(X)\n",
    "# answer(19)"
   ]
  },
  {
   "cell_type": "markdown",
   "id": "d8e941b6",
   "metadata": {},
   "source": [
    "#### 20. Consider a (6,7,8) shape array, what is the index (x,y,z) of the 100th element? (★☆☆)"
   ]
  },
  {
   "cell_type": "code",
   "execution_count": null,
   "id": "b3bc1fcb",
   "metadata": {},
   "outputs": [],
   "source": [
    "X = np.arange(6*7*8).reshape((6,7,8))\n",
    "idx = np.unravel_index(99, (6,7,8))\n",
    "print(f\"{idx=}, {X[idx]=}\")\n",
    "# print(X)\n",
    "# np.info(np.unravel_index)\n",
    "# answer(20)"
   ]
  },
  {
   "cell_type": "markdown",
   "id": "bf3b8ab3",
   "metadata": {},
   "source": [
    "#### 21. Create a checkerboard 8x8 matrix using the tile function (★☆☆)"
   ]
  },
  {
   "cell_type": "code",
   "execution_count": null,
   "id": "eb15c681",
   "metadata": {},
   "outputs": [],
   "source": [
    "X = np.array([0,1,1,0]).reshape((2,2))\n",
    "print(np.tile(X, (4,4)))\n",
    "# np.info(np.tile)\n",
    "# myanswer(21)"
   ]
  },
  {
   "cell_type": "markdown",
   "id": "71af9d19",
   "metadata": {},
   "source": [
    "#### 22. Normalize a 5x5 random matrix (★☆☆)"
   ]
  },
  {
   "cell_type": "code",
   "execution_count": null,
   "id": "df20b788",
   "metadata": {},
   "outputs": [],
   "source": [
    "# np.info(np.random)\n",
    "# np.info(np.random.normal)\n",
    "Z = np.random.normal(0.0, scale=1.0, size=(100,100))\n",
    "print(f\"{np.mean(Z)=}, {np.std(Z)=}\")\n",
    "\n",
    "# myanswer(22)\n",
    "X = np.random.random((100,100))\n",
    "print(f\"{np.mean(X)=}, {np.std(X)=}\")\n",
    "\n",
    "print(\"normalize: X ~ N(0, 1)\")\n",
    "X = (X - np.mean(X)) / np.std(X)\n",
    "print(f\"{np.mean(X)=}, {np.std(X)=}\")"
   ]
  },
  {
   "cell_type": "markdown",
   "id": "01cd9893",
   "metadata": {},
   "source": [
    "#### 23. Create a custom dtype that describes a color as four unsigned bytes (RGBA) (★☆☆)"
   ]
  },
  {
   "cell_type": "code",
   "execution_count": null,
   "id": "4acddc2f",
   "metadata": {},
   "outputs": [],
   "source": [
    "color = np.dtype([\n",
    "    (\"r\", np.ubyte),\n",
    "    (\"g\", np.ubyte),\n",
    "    (\"b\", np.ubyte),\n",
    "    (\"a\", np.ubyte)])\n",
    "# answer(23)\n",
    "help(color)"
   ]
  },
  {
   "cell_type": "markdown",
   "id": "0ef5f38b",
   "metadata": {},
   "source": [
    "#### 24. Multiply a 5x3 matrix by a 3x2 matrix (real matrix product) (★☆☆)"
   ]
  },
  {
   "cell_type": "code",
   "execution_count": null,
   "id": "3d36d4a0",
   "metadata": {},
   "outputs": [],
   "source": [
    "X = np.ones((5,3))\n",
    "Y = 2 * np.ones((3,2))\n",
    "print(X, \"\\n\")\n",
    "print(Y, \"\\n\")\n",
    "\n",
    "Z = X @ Y\n",
    "print(Z)\n",
    "# answer(24)"
   ]
  },
  {
   "cell_type": "markdown",
   "id": "a46db425",
   "metadata": {},
   "source": [
    "#### 25. Given a 1D array, negate all elements which are between 3 and 8, in place. (★☆☆)"
   ]
  },
  {
   "cell_type": "code",
   "execution_count": null,
   "id": "86e3d6a8",
   "metadata": {},
   "outputs": [],
   "source": [
    "X = np.arange(20)\n",
    "# np.random.shuffle(X)\n",
    "print(X)\n",
    "pred = X >= 3 \n",
    "pred &= X <= 8\n",
    "print(pred)\n",
    "X[pred] *= -1\n",
    "print(X)\n",
    "\n",
    "# myanswer(25)\n",
    "Z = np.arange(12)\n",
    "Z[(3 <= Z) & (Z <= 8)] *= -1\n",
    "print(Z)\n"
   ]
  },
  {
   "cell_type": "markdown",
   "id": "89fa6007",
   "metadata": {},
   "source": [
    "#### 26. What is the output of the following script? (★☆☆)\n",
    "```python\n",
    "# Author: Jake VanderPlas\n",
    "\n",
    "print(sum(range(5),-1))\n",
    "from numpy import *\n",
    "print(sum(range(5),-1))\n",
    "```"
   ]
  },
  {
   "cell_type": "code",
   "execution_count": null,
   "id": "59f2c6dc",
   "metadata": {},
   "outputs": [],
   "source": [
    "print([ i for i in range(5)])\n",
    "print(sum(range(5), -1))\n",
    "print(np.sum(range(5), -1))\n",
    "print(np.sum(range(5), axis=-1, initial=-1))\n",
    "# np.info(np.sum)"
   ]
  },
  {
   "cell_type": "markdown",
   "id": "38de4589",
   "metadata": {},
   "source": [
    "#### 27. Consider an integer vector Z, which of these expressions are legal? (★☆☆)\n",
    "```python\n",
    "Z**Z\n",
    "2 << Z >> 2\n",
    "Z <- Z\n",
    "1j*Z\n",
    "Z/1/1\n",
    "Z<Z>Z\n",
    "```"
   ]
  },
  {
   "cell_type": "code",
   "execution_count": null,
   "id": "a9dc9520",
   "metadata": {},
   "outputs": [],
   "source": [
    "Z = np.arange(5)\n",
    "print(Z)\n",
    "print(Z**Z)\n",
    "print(2<<Z)\n",
    "print(Z>>2)\n",
    "print(2<<Z>>2)\n",
    "print(Z <- Z)\n",
    "print(1j*Z)\n",
    "print(Z/1/1)\n",
    "print(Z<Z)\n",
    "print(Z==Z)\n",
    "# print(Z)"
   ]
  },
  {
   "cell_type": "markdown",
   "id": "77c8b8c7",
   "metadata": {},
   "source": [
    "#### 28. What are the result of the following expressions? (★☆☆)\n",
    "```python\n",
    "np.array(0) / np.array(0)\n",
    "np.array(0) // np.array(0)\n",
    "np.array([np.nan]).astype(int).astype(float)\n",
    "```"
   ]
  },
  {
   "cell_type": "code",
   "execution_count": null,
   "id": "3b66fe44",
   "metadata": {},
   "outputs": [],
   "source": [
    "print(np.array(0) / np.array(0))\n",
    "print(np.array(0) // np.array(0))\n",
    "print(np.array([np.nan]).astype(int).astype(float))\n",
    "\n",
    "# myanswer(28)"
   ]
  },
  {
   "cell_type": "markdown",
   "id": "1f3f0892",
   "metadata": {},
   "source": [
    "#### 29. How to round away from zero a float array ? (★☆☆)"
   ]
  },
  {
   "cell_type": "code",
   "execution_count": null,
   "id": "8fce1bd7",
   "metadata": {},
   "outputs": [],
   "source": [
    "X = np.random.random(10)\n",
    "print(X)\n",
    "print(np.ceil(X))\n",
    "\n",
    "Z = np.random.uniform(-10, +10, 10)\n",
    "print(Z)\n",
    "print(f\"{np.mean(Z)=}, {np.std(Z)=}\")\n",
    "print(np.copysign(np.ceil(np.abs(Z)), Z))\n",
    "print(np.where(Z>0, np.ceil(Z), np.floor(Z)))\n",
    "\n",
    "# myanswer(29)\n",
    "# np.info(np.where)"
   ]
  },
  {
   "cell_type": "markdown",
   "id": "53f47438",
   "metadata": {},
   "source": [
    "#### 30. How to find common values between two arrays? (★☆☆)"
   ]
  },
  {
   "cell_type": "code",
   "execution_count": null,
   "id": "981db6ec",
   "metadata": {},
   "outputs": [],
   "source": [
    "X = np.array(range(0, 10))\n",
    "Y = np.array(range(4,8))\n",
    "print(X, Y)\n",
    "print(np.intersect1d(X, Y))\n",
    "\n",
    "# answer(30)\n",
    "Z1 = np.random.randint(0, 10, 10)\n",
    "Z2 = np.random.randint(0, 10, 10)\n",
    "print(np.intersect1d(Z1, Z2))"
   ]
  },
  {
   "cell_type": "markdown",
   "id": "51cf9109",
   "metadata": {},
   "source": [
    "#### 31. How to ignore all numpy warnings (not recommended)? (★☆☆)"
   ]
  },
  {
   "cell_type": "code",
   "execution_count": null,
   "id": "09ba7521",
   "metadata": {},
   "outputs": [],
   "source": [
    "# np.info(np.seterr)\n",
    "# answer(31)\n",
    "\n",
    "# ignore all warnings\n",
    "import numpy as np\n",
    "defaults = np.seterr(all=\"ignore\")\n",
    "Z = np.ones(2) / 0\n",
    "print(Z)\n",
    "\n",
    "_ = np.seterr(**defaults)\n",
    "Z = np.ones(2) / 0\n",
    "\n",
    "with np.errstate(divide=\"warn\"):\n",
    "    np.ones(2) / 0\n",
    "\n",
    "print(np.ones(2) / 0)"
   ]
  },
  {
   "cell_type": "markdown",
   "id": "948a691b",
   "metadata": {},
   "source": [
    "#### 32. Is the following expressions true? (★☆☆)\n",
    "```python\n",
    "np.sqrt(-1) == np.emath.sqrt(-1)\n",
    "```"
   ]
  },
  {
   "cell_type": "code",
   "execution_count": null,
   "id": "6d8f745b",
   "metadata": {},
   "outputs": [],
   "source": [
    "import numpy as np\n",
    "\n",
    "with np.errstate(all=\"ignore\"):\n",
    "    print(np.sqrt(-1))\n",
    "    print(np.emath.sqrt(-1))\n",
    "    print(np.sqrt(-1) == np.emath.sqrt(-1))\n",
    "\n",
    "# answer(32)"
   ]
  },
  {
   "cell_type": "code",
   "execution_count": null,
   "id": "eb033a65",
   "metadata": {},
   "outputs": [],
   "source": [
    "import numpy as np"
   ]
  },
  {
   "cell_type": "markdown",
   "id": "d1a8992e",
   "metadata": {},
   "source": [
    "#### 33. How to get the dates of yesterday, today and tomorrow? (★☆☆)"
   ]
  },
  {
   "cell_type": "code",
   "execution_count": null,
   "id": "31a1ade2",
   "metadata": {},
   "outputs": [],
   "source": [
    "# np.info(np.datetime64)\n",
    "# answer(33)\n",
    "# np.info(np.sum)\n",
    "print(np.datetime64('today'))\n",
    "print(np.datetime64('today') + np.timedelta64(-1))\n",
    "print(np.datetime64('today') + np.timedelta64(1))"
   ]
  },
  {
   "cell_type": "markdown",
   "id": "01378794",
   "metadata": {},
   "source": [
    "#### 34. How to get all the dates corresponding to the month of July 2016? (★★☆)"
   ]
  },
  {
   "cell_type": "code",
   "execution_count": null,
   "id": "928c55c6",
   "metadata": {},
   "outputs": [],
   "source": [
    "# answer(34)\n",
    "Z = np.arange('2016-07', '2016-08', dtype='datetime64[D]')\n",
    "print(Z)\n",
    "\n",
    "Z = np.arange('2016', '2017', dtype='datetime64[W]')\n",
    "print(Z)\n",
    "\n",
    "Z = np.arange('2016', '2017', dtype='datetime64[M]')\n",
    "print(Z)\n"
   ]
  },
  {
   "cell_type": "markdown",
   "id": "e3f8fe94",
   "metadata": {},
   "source": [
    "#### 35. How to compute ((A+B)*(-A/2)) in place (without copy)? (★★☆)"
   ]
  },
  {
   "cell_type": "code",
   "execution_count": null,
   "id": "14e478d5",
   "metadata": {},
   "outputs": [],
   "source": [
    "A = np.ones(3) * 1\n",
    "B = np.ones(3) * 2\n",
    "print(A, \"\\n\", B)\n",
    "\n",
    "np.add(A, B, out=B)\n",
    "print(A, \"\\n\", B)\n",
    "\n",
    "np.divide(A, 2, out=A)\n",
    "np.negative(A, out=A)\n",
    "np.multiply(A, B, out=A)\n",
    "print(A, \"\\n\", B)\n",
    "\n",
    "myanswer(35)"
   ]
  },
  {
   "cell_type": "markdown",
   "id": "5c4d58c9",
   "metadata": {},
   "source": [
    "#### 36. Extract the integer part of a random array of positive numbers using 4 different methods (★★☆)"
   ]
  },
  {
   "cell_type": "code",
   "execution_count": null,
   "id": "586beded",
   "metadata": {},
   "outputs": [],
   "source": [
    "X = np.random.random(10) * 10 + 1\n",
    "print(X)\n",
    "# print(np.ceil(X) - 1)\n",
    "print(np.floor(X))\n",
    "print(np.trunc(X))\n",
    "# hint(36)\n",
    "myanswer(36)\n",
    "print(X - X%1)\n",
    "print(X // 1)\n",
    "print(X.astype(int))"
   ]
  },
  {
   "cell_type": "markdown",
   "id": "62628653",
   "metadata": {},
   "source": [
    "#### 37. Create a 5x5 matrix with row values ranging from 0 to 4 (★★☆)"
   ]
  },
  {
   "cell_type": "code",
   "execution_count": null,
   "id": "e57763b3",
   "metadata": {},
   "outputs": [],
   "source": [
    "# hint(37)\n",
    "print(np.tile(np.arange(5), 5).reshape((5,5)))\n",
    "myanswer(37)\n",
    "\n",
    "# Z = np.zeros((5,5))\n",
    "# Z += np.arange(5)\n",
    "# print(Z)\n",
    "Z = np.tile(np.arange(5), (5,1))\n",
    "print(Z)"
   ]
  },
  {
   "cell_type": "markdown",
   "id": "d3d46d64",
   "metadata": {},
   "source": [
    "#### 38. Consider a generator function that generates 10 integers and use it to build an array (★☆☆)"
   ]
  },
  {
   "cell_type": "code",
   "execution_count": null,
   "id": "24590d8c",
   "metadata": {},
   "outputs": [],
   "source": [
    "# np.info(np.fromiter)\n",
    "# answer(38)\n",
    "def intGenerate():\n",
    "    for x in range(10):\n",
    "        yield x\n",
    "# np.info(np.fromiter)\n",
    "Z = np.fromiter(intGenerate(), dtype=float, count=5)\n",
    "print(Z)"
   ]
  },
  {
   "cell_type": "markdown",
   "id": "5e1e51e4",
   "metadata": {},
   "source": [
    "#### 39. Create a vector of size 10 with values ranging from 0 to 1, both excluded (★★☆)"
   ]
  },
  {
   "cell_type": "code",
   "execution_count": null,
   "id": "def73884",
   "metadata": {},
   "outputs": [],
   "source": [
    "answer(39)\n",
    "# np.info(np.linspace)\n",
    "Z1 = np.linspace(0,1,11, endpoint=True)\n",
    "Z2 = np.linspace(0,1,11, endpoint=False)\n",
    "print(Z1)\n",
    "print(Z2)\n",
    "print(len(Z1), len(Z2))\n",
    "Z = Z2[1:]\n",
    "print(Z)"
   ]
  },
  {
   "cell_type": "markdown",
   "id": "9e19964c",
   "metadata": {},
   "source": [
    "#### 40. Create a random vector of size 10 and sort it (★★☆)"
   ]
  },
  {
   "cell_type": "code",
   "execution_count": null,
   "id": "ec302eb1",
   "metadata": {},
   "outputs": [],
   "source": [
    "Z = np.random.random(10)\n",
    "print(f\"{Z=}\")\n",
    "print(f\"{np.sort(Z)=}\")\n",
    "print(f\"{Z=}\")\n",
    "print(f\"After Z.sort()\")\n",
    "Z.sort()\n",
    "print(f\"{Z=}\")\n",
    "# myanswer(40)"
   ]
  },
  {
   "cell_type": "markdown",
   "id": "13a034e2",
   "metadata": {},
   "source": [
    "#### 41. How to sum a small array faster than np.sum? (★★☆)"
   ]
  },
  {
   "cell_type": "code",
   "execution_count": null,
   "id": "b09a3551",
   "metadata": {},
   "outputs": [],
   "source": [
    "# hint(41)\n",
    "Z = np.arange(10)\n",
    "print(Z)\n",
    "# np.info(np.add.reduce)\n",
    "print(np.add.reduce(Z))\n",
    "print(np.subtract.reduce(Z))\n",
    "print(np.multiply.reduce(Z[1:]))\n",
    "print(np.multiply.reduce(Z[1:], initial=1))"
   ]
  },
  {
   "cell_type": "markdown",
   "id": "32d10473",
   "metadata": {},
   "source": [
    "#### 42. Consider two random arrays A and B, check if they are equal (★★☆)"
   ]
  },
  {
   "cell_type": "code",
   "execution_count": null,
   "id": "5ebb1103",
   "metadata": {},
   "outputs": [],
   "source": [
    "A = np.random.randint(10)\n",
    "B = np.random.randint(10)\n",
    "print(A == B)\n",
    "# np.logical_and\n",
    "\n",
    "# np.info(np.allclose)\n",
    "A = np.random.randint(0, 2, 5)\n",
    "B = np.random.randint(0, 2, 5)\n",
    "print(A, B, np.allclose(A, B, atol=0.1))\n",
    "print(A, B, np.array_equal(A, B))\n",
    "\n",
    "epsilon = 1e-4\n",
    "A = np.random.random(5)\n",
    "B = A + epsilon\n",
    "print(A, B, np.allclose(A, B, atol=1e-3))\n",
    "print(A, B, np.array_equal(A, B))\n",
    "# myanswer(42)\n",
    "# np.info(np.allclose)"
   ]
  },
  {
   "cell_type": "markdown",
   "id": "a50474b0",
   "metadata": {},
   "source": [
    "#### 43. Make an array immutable (read-only) (★★☆)"
   ]
  },
  {
   "cell_type": "code",
   "execution_count": null,
   "id": "db6fe176",
   "metadata": {},
   "outputs": [],
   "source": [
    "# answer(43)\n",
    "Z = np.zeros(10)\n",
    "Z.flags.writeable = False\n",
    "# Z[0] = 1 ## uncomment this to get error"
   ]
  },
  {
   "cell_type": "markdown",
   "id": "b7a6093e",
   "metadata": {},
   "source": [
    "#### 44. Consider a random 10x2 matrix representing cartesian coordinates, convert them to polar coordinates (★★☆)"
   ]
  },
  {
   "cell_type": "code",
   "execution_count": null,
   "id": "4479c48d",
   "metadata": {},
   "outputs": [],
   "source": [
    "Z = np.random.randint(0, 10, size=(10,2))\n",
    "Z[0] = [1, 0]\n",
    "Z[1] = [0, 1]\n",
    "print(Z)\n",
    "# answer(44)\n",
    "\n",
    "# print(np.pi)\n",
    "X, Y = Z[:,0], Z[:,1]\n",
    "R = np.sqrt(X**2+Y**2)\n",
    "T = np.arctan2(Y,X)\n",
    "T2 = np.trunc(T / np.pi * 180)\n",
    "print(R)\n",
    "print(T)\n",
    "print(T2)\n",
    "# np.info(np.arctan)\n",
    "# np.info(np.arctan2)"
   ]
  },
  {
   "cell_type": "markdown",
   "id": "934f889c",
   "metadata": {},
   "source": [
    "#### 45. Create random vector of size 10 and replace the maximum value by 0 (★★☆)"
   ]
  },
  {
   "cell_type": "code",
   "execution_count": null,
   "id": "4b576814",
   "metadata": {},
   "outputs": [],
   "source": [
    "X = np.random.randint(0, 100, 10)\n",
    "max = np.max(X)\n",
    "print(X, max)\n",
    "X[(X == max)] = 0\n",
    "print(X)\n",
    "\n",
    "# myanswer(45)\n",
    "Z = np.random.randint(0, 100, 10)\n",
    "print(Z, Z.argmax(), Z[Z.argmax()])\n",
    "Z[Z.argmax()] = 0\n",
    "print(Z)\n",
    "# np.info(np.ndarray.argmax)"
   ]
  },
  {
   "cell_type": "markdown",
   "id": "d4f6e2e1",
   "metadata": {},
   "source": [
    "#### 46. Create a structured array with `x` and `y` coordinates covering the [0,1]x[0,1] area (★★☆)"
   ]
  },
  {
   "cell_type": "code",
   "execution_count": null,
   "id": "f90f969b",
   "metadata": {},
   "outputs": [],
   "source": [
    "# answer(46)\n",
    "Z = np.zeros((5,5), [('x',float),('y',float)])\n",
    "Z['x'], Z['y'] = np.meshgrid(np.linspace(0,1,5),\n",
    "                             np.linspace(0,1,5))\n",
    "print(Z)\n",
    "\n",
    "# np.info(np.meshgrid)\n"
   ]
  },
  {
   "cell_type": "markdown",
   "id": "bc9c88d3",
   "metadata": {},
   "source": [
    "#### 47. Given two arrays, X and Y, construct the Cauchy matrix C (Cij =1/(xi - yj)) (★★☆)"
   ]
  },
  {
   "cell_type": "code",
   "execution_count": null,
   "id": "e90ad595",
   "metadata": {},
   "outputs": [],
   "source": [
    "# answer(47)\n",
    "X = np.arange(8)\n",
    "Y = X + 0.5\n",
    "print(X, Y)\n",
    "print(np.subtract.outer(X, Y))\n",
    "C = 1.0 / np.subtract.outer(X, Y)\n",
    "print(np.linalg.det(C))"
   ]
  },
  {
   "cell_type": "markdown",
   "id": "a840a52f",
   "metadata": {},
   "source": [
    "#### 48. Print the minimum and maximum representable values for each numpy scalar type (★★☆)"
   ]
  },
  {
   "cell_type": "code",
   "execution_count": null,
   "id": "d2eb3b4a",
   "metadata": {},
   "outputs": [],
   "source": [
    "# answer(48)\n",
    "for dtype in [np.int8, np.int32, np.int64]:\n",
    "   print(dtype.__name__, np.iinfo(dtype).min)\n",
    "   print(dtype.__name__, np.iinfo(dtype).max)\n",
    "for dtype in [np.float32, np.float64]:\n",
    "   print(dtype.__name__, np.finfo(dtype).min)\n",
    "   print(dtype.__name__, np.finfo(dtype).max)\n",
    "   print(dtype.__name__, np.finfo(dtype).eps)"
   ]
  },
  {
   "cell_type": "markdown",
   "id": "0a0819d5",
   "metadata": {},
   "source": [
    "#### 49. How to print all the values of an array? (★★☆)"
   ]
  },
  {
   "cell_type": "code",
   "execution_count": null,
   "id": "d76dbf55",
   "metadata": {},
   "outputs": [],
   "source": [
    "answer(49)\n",
    "Z = np.zeros((10, 20))\n",
    "np.set_printoptions(threshold=100)\n",
    "print(Z)\n",
    "np.set_printoptions(threshold=float(\"inf\"))\n",
    "print(Z)\n",
    "np.set_printoptions(threshold=1000)\n",
    "# with ):\n",
    "    "
   ]
  },
  {
   "cell_type": "markdown",
   "id": "50c62214",
   "metadata": {},
   "source": [
    "#### 50. How to find the closest value (to a given scalar) in a vector? (★★☆)"
   ]
  },
  {
   "cell_type": "code",
   "execution_count": null,
   "id": "24b45bb5",
   "metadata": {},
   "outputs": [],
   "source": [
    "X = np.random.normal(loc=1, scale=1, size=10)\n",
    "v = np.random.random(1)\n",
    "print(X, v)\n",
    "print(X[np.argmin(np.abs(X-v))])\n",
    "# print(X)\n",
    "\n",
    "myanswer(50)"
   ]
  },
  {
   "cell_type": "markdown",
   "id": "4c5a5116",
   "metadata": {},
   "source": [
    "#### 51. Create a structured array representing a position (x,y) and a color (r,g,b) (★★☆)"
   ]
  },
  {
   "cell_type": "code",
   "execution_count": null,
   "id": "275806b2",
   "metadata": {},
   "outputs": [],
   "source": [
    "# hint(51)\n",
    "color = np.dtype([\n",
    "    (\"r\", np.ubyte),\n",
    "    (\"g\", np.ubyte),\n",
    "    (\"b\", np.ubyte), \n",
    "    ])\n",
    "\n",
    "position = np.dtype([\n",
    "    (\"x\", np.int32), \n",
    "    (\"y\", np.int32), \n",
    "])\n",
    "\n",
    "color_point = np.dtype([\n",
    "    (\"pos\", position), \n",
    "    (\"color\", color), \n",
    "])\n",
    "\n",
    "red = np.array([(255,0,0), (201, 0, 0)], dtype=color)\n",
    "print(red[\"r\"])\n",
    "\n",
    "point = np.array([((1, 1), (255, 0, 0))], dtype=color_point)\n",
    "print(point[\"pos\"])\n",
    "print(point[\"color\"][\"r\"])\n",
    "print(point)\n",
    "\n",
    "myanswer(51)\n",
    "Z = np.zeros(10, [ ('position', [ ('x', float, 1),\n",
    "                                  ('y', float, 1)]),\n",
    "                   ('color',    [ ('r', float, 1),\n",
    "                                  ('g', float, 1),\n",
    "                                  ('b', float, 1)])])\n",
    "print(Z)\n"
   ]
  },
  {
   "cell_type": "markdown",
   "id": "1d3399ca",
   "metadata": {},
   "source": [
    "#### 52. Consider a random vector with shape (100,2) representing coordinates, find point by point distances (★★☆)"
   ]
  },
  {
   "cell_type": "code",
   "execution_count": null,
   "id": "67eae5bf",
   "metadata": {},
   "outputs": [],
   "source": [
    "# np.info(np.meshgrid)\n",
    "Z = np.random.random((3, 2))\n",
    "# print(Z)\n",
    "X, Y = np.atleast_2d(Z[:,0], Z[:,1])\n",
    "print(X)\n",
    "print(Y)\n",
    "# print((X-X.T))\n",
    "# print(Y)\n",
    "# print((Y-Y.T))\n",
    "\n",
    "D = np.sqrt((X-X.T)**2 + (Y-Y.T)**2)\n",
    "print(D)\n",
    "\n",
    "A = np.arange(3)\n",
    "print(A)\n",
    "print(np.atleast_2d(A))\n",
    "print(np.atleast_2d(A).T)\n",
    "print(np.atleast_2d(A) - np.atleast_2d(A).T)\n",
    "# print(np.atleast_2d(A).T - np.atleast_2d(A))\n",
    "\n",
    "# hint(52)\n",
    "# np.info(np.atleast_2d)\n",
    "myanswer(52)"
   ]
  },
  {
   "cell_type": "markdown",
   "id": "003ff920",
   "metadata": {},
   "source": [
    "#### 53. How to convert a float (32 bits) array into an integer (32 bits) array in place?"
   ]
  },
  {
   "cell_type": "code",
   "execution_count": null,
   "id": "76245e6d",
   "metadata": {},
   "outputs": [],
   "source": [
    "# answer(53)\n",
    "# np.info(np.random.rand)\n",
    "Z = (np.random.rand(10)*100).astype(np.float32)\n",
    "Y = Z.view(np.int32)\n",
    "print(Z)\n",
    "print(Y)\n",
    "print(Y.view(np.float32))\n",
    "Y[:] = Z\n",
    "print(Y)\n",
    "# Y[:] = Z"
   ]
  },
  {
   "cell_type": "markdown",
   "id": "0c99eac4",
   "metadata": {},
   "source": [
    "#### 54. How to read the following file? (★★☆)\n",
    "```\n",
    "1, 2, 3, 4, 5\n",
    "6,  ,  , 7, 8\n",
    " ,  , 9,10,11\n",
    "```"
   ]
  },
  {
   "cell_type": "code",
   "execution_count": null,
   "id": "55c6bf8c",
   "metadata": {},
   "outputs": [],
   "source": [
    "# answer(54)\n",
    "from io import StringIO\n",
    "\n",
    "#fake io from file\n",
    "s = StringIO('''\n",
    "1, 2, 3, 4, 5\n",
    "6,  ,  , 7, 8\n",
    " ,  , 9,10,11\n",
    "''')\n",
    "\n",
    "Z = np.genfromtxt(s, delimiter=',', dtype=np.int64, filling_values=0)\n",
    "print(Z)"
   ]
  },
  {
   "cell_type": "markdown",
   "id": "8cd30360",
   "metadata": {},
   "source": [
    "#### 55. What is the equivalent of enumerate for numpy arrays? (★★☆)"
   ]
  },
  {
   "cell_type": "code",
   "execution_count": null,
   "id": "608315ba",
   "metadata": {},
   "outputs": [],
   "source": [
    "Z = (10 + np.arange(9)).reshape(3,3)\n",
    "print(Z)\n",
    "for idx, value in np.ndenumerate(Z):\n",
    "    print(idx, value, Z[idx])\n",
    "print(\"\\n\")\n",
    "for idx in np.ndindex(Z.shape):\n",
    "    print(idx, Z[idx])\n",
    "# answer(55)"
   ]
  },
  {
   "cell_type": "markdown",
   "id": "4823a294",
   "metadata": {},
   "source": [
    "#### 56. Generate a generic 2D Gaussian-like array (★★☆)"
   ]
  },
  {
   "cell_type": "code",
   "execution_count": null,
   "id": "9b3b682d",
   "metadata": {},
   "outputs": [],
   "source": [
    "# print(np.random.normal(loc=1, scale=1, size=(5,5)))\n",
    "\n",
    "print(np.linspace(-1, 1, 3))\n",
    "print(np.meshgrid(np.linspace(-1,1,3), np.linspace(-1,1,3)))\n",
    "\n",
    "# myanswer(56)\n",
    "X, Y = np.meshgrid(np.linspace(-1,1,10), np.linspace(-1,1,10))\n",
    "D = np.sqrt(X*X+Y*Y)\n",
    "sigma, mu = 1.0, 0.0\n",
    "G = np.exp(-( (D-mu)**2 / ( 2.0 * sigma**2 ) ) )\n",
    "print(G)"
   ]
  },
  {
   "cell_type": "markdown",
   "id": "2dd8891d",
   "metadata": {},
   "source": [
    "#### 57. How to randomly place p elements in a 2D array? (★★☆)"
   ]
  },
  {
   "cell_type": "code",
   "execution_count": null,
   "id": "a55c52dc",
   "metadata": {},
   "outputs": [],
   "source": [
    "# answer(57)\n",
    "n = 5\n",
    "p = 3\n",
    "Z = np.zeros((n,n))\n",
    "np.put(Z, np.random.choice(range(n*n), p, replace=False), 999)\n",
    "print(Z.astype(np.int32))"
   ]
  },
  {
   "cell_type": "markdown",
   "id": "270b6834",
   "metadata": {},
   "source": [
    "#### 58. Subtract the mean of each row of a matrix (★★☆)"
   ]
  },
  {
   "cell_type": "code",
   "execution_count": null,
   "id": "814080c9",
   "metadata": {},
   "outputs": [],
   "source": [
    "X = np.random.randint(0, 10, size=(5, 3))\n",
    "# ndim = X.shape[-1]\n",
    "# print(X)\n",
    "# print(X@np.ones((ndim, 1)) / ndim)\n",
    "# print(X - X@np.ones((ndim, 1)) / ndim)\n",
    "\n",
    "# myanswer(58)\n",
    "Z = np.random.randint(0, 10, (5, 3))\n",
    "# print(Z)\n",
    "Y1 = Z.mean(axis=1, keepdims=True)\n",
    "Y2 = Z.mean(axis=1)\n",
    "print(Y1)\n",
    "print(Y2)\n",
    "print(Z - Y1)\n",
    "print(Z - Y2.reshape(-1,1))\n",
    "# myanswer(58)\n"
   ]
  },
  {
   "cell_type": "markdown",
   "id": "52c92916",
   "metadata": {},
   "source": [
    "#### 59. How to sort an array by the nth column? (★★☆)"
   ]
  },
  {
   "cell_type": "code",
   "execution_count": null,
   "id": "c6ebac6d",
   "metadata": {},
   "outputs": [],
   "source": [
    "# np.info(np.sort)\n",
    "X = np.random.randint(0, 10 , (5, 3))\n",
    "print(X)\n",
    "sortIdx = X[:,1].argsort()\n",
    "print(sortIdx)\n",
    "print(np.argsort(X[:,1]))\n",
    "\n",
    "Z = X[sortIdx]\n",
    "print(Z)\n"
   ]
  },
  {
   "cell_type": "markdown",
   "id": "05cef60b",
   "metadata": {},
   "source": [
    "#### 60. How to tell if a given 2D array has null columns? (★★☆)"
   ]
  },
  {
   "cell_type": "code",
   "execution_count": null,
   "id": "7979b467",
   "metadata": {},
   "outputs": [],
   "source": [
    "X = np.random.randint(0, 2, (3, 20))\n",
    "print(X)\n",
    "print((~X.any(axis=0)).any())\n",
    "\n",
    "myanswer(60)\n",
    "# null : np.nan\n",
    "Z=np.array([\n",
    "    [0,1,np.nan],\n",
    "    [1,2,np.nan],\n",
    "    [4,5,np.nan]\n",
    "])\n",
    "print(np.isnan(Z).all(axis=0))"
   ]
  },
  {
   "cell_type": "markdown",
   "id": "4891fdf5",
   "metadata": {},
   "source": [
    "#### 61. Find the nearest value from a given value in an array (★★☆)"
   ]
  },
  {
   "cell_type": "code",
   "execution_count": null,
   "id": "5f9f738e",
   "metadata": {},
   "outputs": [],
   "source": [
    "X = np.random.randint(-100, 100, 20)\n",
    "v = np.random.randint(-100, 100, 1)[0]\n",
    "print(X, v)\n",
    "idx = np.argmin(np.abs((X-v)))\n",
    "print(idx, X[idx])\n",
    "\n",
    "# myanswer(61)"
   ]
  },
  {
   "cell_type": "markdown",
   "id": "b34bfbc7",
   "metadata": {},
   "source": [
    "#### 62. Considering two arrays with shape (1,3) and (3,1), how to compute their sum using an iterator? (★★☆)"
   ]
  },
  {
   "cell_type": "code",
   "execution_count": null,
   "id": "aa7eb006",
   "metadata": {},
   "outputs": [],
   "source": [
    "# answer(62)\n",
    "A = np.arange(3).reshape(3,1)\n",
    "B = np.arange(3).reshape(1,3)\n",
    "it = np.nditer([A,B,None])\n",
    "for x,y,z in it: z[...] = x + y\n",
    "print(it.operands[2])\n",
    "# print(it.operands[0])\n",
    "# print(it.operands[1])"
   ]
  },
  {
   "cell_type": "markdown",
   "id": "77a27b83",
   "metadata": {},
   "source": [
    "#### 63. Create an array class that has a name attribute (★★☆)"
   ]
  },
  {
   "cell_type": "code",
   "execution_count": null,
   "id": "a2a83936",
   "metadata": {},
   "outputs": [],
   "source": [
    "# answer(63)\n",
    "class NamedArray(np.ndarray):\n",
    "    def __new__(cls, array, name=\"unknown\"):\n",
    "        obj = np.asarray(array).view(cls)\n",
    "        obj.name = name\n",
    "        return obj\n",
    "    def __array_finalize__(self, obj):\n",
    "        if obj is None: return\n",
    "        self.name = getattr(obj, 'name', \"unknown\")\n",
    "\n",
    "Z = NamedArray(np.arange(10), \"range_10\")\n",
    "print(Z.name)\n",
    "print(np.sum(Z))"
   ]
  },
  {
   "cell_type": "markdown",
   "id": "f7f5d229",
   "metadata": {},
   "source": [
    "#### 64. Consider a given vector, how to add 1 to each element indexed by a second vector (be careful with repeated indices)? (★★★)"
   ]
  },
  {
   "cell_type": "code",
   "execution_count": null,
   "id": "9b8f8f48",
   "metadata": {},
   "outputs": [],
   "source": [
    "X = np.arange(20)\n",
    "indices = np.tile(np.random.choice(1*20, 3), 2)\n",
    "print(X)\n",
    "print(indices)\n",
    "Z = np.zeros_like(X)\n",
    "Z[indices] = True\n",
    "print(Z)\n",
    "# print(X[Z]+1)\n",
    "X[Z.astype(dtype=bool)] += 1\n",
    "print(X)\n",
    "\n",
    "# myanswer(64)\n",
    "# Author: Brett Olsen\n",
    "\n",
    "Z = np.ones(10).astype(dtype=int)\n",
    "I = np.random.randint(0,len(Z),20)\n",
    "print(Z)\n",
    "print(I)\n",
    "print(np.bincount(I, minlength=len(Z)))\n",
    "Z += np.bincount(I, minlength=len(Z))\n",
    "print(Z)\n",
    "\n",
    "# Another solution\n",
    "# Author: Bartosz Telenczuk\n",
    "# np.add.at(Z, I, 1)\n",
    "# print(Z)"
   ]
  },
  {
   "cell_type": "markdown",
   "id": "b067fca8",
   "metadata": {},
   "source": [
    "#### 65. How to accumulate elements of a vector (X) to an array (F) based on an index list (I)? (★★★)"
   ]
  },
  {
   "cell_type": "code",
   "execution_count": null,
   "id": "f983f8ba",
   "metadata": {},
   "outputs": [],
   "source": [
    "# answer(65)\n",
    "X = [1,2,3,4,5,6]\n",
    "I = [1,3,9,3,4,1]\n",
    "\n",
    "print(np.bincount(I))\n",
    "F = np.bincount(I, X)\n",
    "print(F)"
   ]
  },
  {
   "cell_type": "markdown",
   "id": "765e2b8e",
   "metadata": {},
   "source": [
    "#### 66. Considering a (w,h,3) image of (dtype=ubyte), compute the number of unique colors (★★☆)"
   ]
  },
  {
   "cell_type": "code",
   "execution_count": null,
   "id": "7572d90d",
   "metadata": {},
   "outputs": [],
   "source": [
    "# answer(66)"
   ]
  },
  {
   "cell_type": "markdown",
   "id": "02743317",
   "metadata": {},
   "source": [
    "#### 67. Considering a four dimensions array, how to get sum over the last two axis at once? (★★★)"
   ]
  },
  {
   "cell_type": "code",
   "execution_count": null,
   "id": "980b5c45",
   "metadata": {},
   "outputs": [],
   "source": [
    "# X = np.random.random(size=(10, 4))\n",
    "# X = np.random.randint(0, 100, (10, 4))\n",
    "# print(X)\n",
    "\n",
    "# A = np.random.randint(0,10,(3,4,3,4))\n",
    "A = np.random.randint(0,10,(1,2,3,4))\n",
    "print(A)\n",
    "sum = A.sum(axis=(-2,-1))\n",
    "print(sum)\n",
    "# myanswer(67)"
   ]
  },
  {
   "cell_type": "markdown",
   "id": "fe8b8107",
   "metadata": {},
   "source": [
    "#### 68. Considering a one-dimensional vector D, how to compute means of subsets of D using a vector S of same size describing subset  indices? (★★★)"
   ]
  },
  {
   "cell_type": "code",
   "execution_count": null,
   "id": "9c17c8c9",
   "metadata": {},
   "outputs": [],
   "source": [
    "# Author: Jaime Fernández del Río\n",
    "\n",
    "D = np.random.uniform(0,1,100)\n",
    "S = np.random.randint(0,10,100)\n",
    "# print(S)\n",
    "D_sums = np.bincount(S, weights=D)\n",
    "D_counts = np.bincount(S)\n",
    "print(D_sums, D_counts)\n",
    "D_means = D_sums / D_counts\n",
    "print(D_means)\n",
    "\n",
    "# Pandas solution as a reference due to more intuitive code\n",
    "# import pandas as pd\n",
    "# print(pd.Series(D).groupby(S).mean())\n",
    "\n",
    "myanswer(68)"
   ]
  },
  {
   "cell_type": "markdown",
   "id": "7efa1173",
   "metadata": {},
   "source": [
    "#### 69. How to get the diagonal of a dot product? (★★★)"
   ]
  },
  {
   "cell_type": "code",
   "execution_count": null,
   "id": "59fc6a51",
   "metadata": {},
   "outputs": [],
   "source": [
    "X = np.atleast_2d(np.tile(np.arange(3), (3, 3)))\n",
    "Y = np.atleast_2d(np.tile(np.arange(3), (3, 3))).T\n",
    "print(X)\n",
    "print(Y)\n",
    "print(X@Y)\n",
    "print(np.diag(X@Y))\n",
    "\n",
    "myanswer(69)"
   ]
  },
  {
   "cell_type": "markdown",
   "id": "b72adc30",
   "metadata": {},
   "source": [
    "#### 70. Consider the vector [1, 2, 3, 4, 5], how to build a new vector with 3 consecutive zeros interleaved between each value? (★★★)"
   ]
  },
  {
   "cell_type": "code",
   "execution_count": null,
   "id": "94b582b4",
   "metadata": {},
   "outputs": [],
   "source": [
    "Z = np.array(range(5)) + 1\n",
    "nz = 3\n",
    "Z0 = np.zeros(len(Z) + (len(Z)-1)*(nz))\n",
    "Z0[::nz+1] = Z\n",
    "print(Z0)\n",
    "myanswer(70)"
   ]
  },
  {
   "cell_type": "markdown",
   "id": "fafa05b8",
   "metadata": {},
   "source": [
    "#### 71. Consider an array of dimension (5,5,3), how to multiply it by an array with dimensions (5,5)? (★★★)"
   ]
  },
  {
   "cell_type": "code",
   "execution_count": null,
   "id": "0dbb5bd4",
   "metadata": {},
   "outputs": [],
   "source": [
    "# answer(71)\n",
    "A = np.ones((5,5,3))\n",
    "B = 2*np.ones((5,5))\n",
    "# print(A)\n",
    "print(B)\n",
    "print(A*B[:,:,None])"
   ]
  },
  {
   "cell_type": "markdown",
   "id": "35a2bae5",
   "metadata": {},
   "source": [
    "#### 72. How to swap two rows of an array? (★★★)"
   ]
  },
  {
   "cell_type": "code",
   "execution_count": null,
   "id": "d63b30c3",
   "metadata": {},
   "outputs": [],
   "source": [
    "# answer(72)\n",
    "A = np.arange(25).reshape(5,5)\n",
    "print(A[0], A[1])\n",
    "A[[0,1]] = A[[1,0]]\n",
    "print(A)"
   ]
  },
  {
   "cell_type": "markdown",
   "id": "b760fc57",
   "metadata": {},
   "source": [
    "#### 73. Consider a set of 10 triplets describing 10 triangles (with shared vertices), find the set of unique line segments composing all the  triangles (★★★)"
   ]
  },
  {
   "cell_type": "code",
   "execution_count": null,
   "id": "01738774",
   "metadata": {},
   "outputs": [],
   "source": [
    "# # answer(73)\n",
    "faces = np.random.randint(0,100,(10,3))\n",
    "print(faces)\n",
    "F = np.roll(faces.repeat(2,axis=1),-1,axis=1)\n",
    "F = F.reshape(len(F)*3,2)\n",
    "F = np.sort(F,axis=1)\n",
    "G = F.view( dtype=[('p0',F.dtype),('p1',F.dtype)] )\n",
    "G = np.unique(G)\n",
    "print(G)"
   ]
  },
  {
   "cell_type": "markdown",
   "id": "2d28cdaa",
   "metadata": {},
   "source": [
    "#### 74. Given a sorted array C that corresponds to a bincount, how to produce an array A such that np.bincount(A) == C? (★★★)"
   ]
  },
  {
   "cell_type": "code",
   "execution_count": null,
   "id": "8423859b",
   "metadata": {},
   "outputs": [],
   "source": [
    "# C = np.bincount([1,1,2,3,4,4,6])\n",
    "# A = np.arange(len(C))\n",
    "# print(np.repeat(A, C))\n",
    "# myanswer(74)\n",
    "\n",
    "C = np.bincount([1,1,2,3,4,4,6])\n",
    "print(f\"{C=}\")\n",
    "print(f\"{np.arange(len(C))=}\")\n",
    "A = np.repeat(np.arange(len(C)), C)\n",
    "print(f\"{A=}\")\n",
    "print(f\"{np.bincount(A)=}\")"
   ]
  },
  {
   "cell_type": "markdown",
   "id": "5f4cafbd",
   "metadata": {},
   "source": [
    "#### 75. How to compute averages using a sliding window over an array? (★★★)"
   ]
  },
  {
   "cell_type": "code",
   "execution_count": null,
   "id": "62d6d514",
   "metadata": {},
   "outputs": [],
   "source": [
    "def moving_average(a, n=3): \n",
    "    ret = np.cumsum(a)\n",
    "    ret[n:] = ret[n:] - ret[:-n]\n",
    "    return ret[n-1:].astype(dtype=float) / n\n",
    "\n",
    "A = np.arange(20)\n",
    "print(A)\n",
    "print(moving_average(A, 3))\n",
    "print(moving_average(A, 4))"
   ]
  },
  {
   "cell_type": "markdown",
   "id": "575d8bb4",
   "metadata": {},
   "source": [
    "#### 76. Consider a one-dimensional array Z, build a two-dimensional array whose first row is (Z[0],Z[1],Z[2]) and each subsequent row is  shifted by 1 (last row should be (Z[-3],Z[-2],Z[-1]) (★★★)"
   ]
  },
  {
   "cell_type": "code",
   "execution_count": null,
   "id": "2a41d341",
   "metadata": {},
   "outputs": [],
   "source": [
    "from numpy.lib import stride_tricks\n",
    "\n",
    "Z = np.arange(10)\n",
    "print(stride_tricks.sliding_window_view(Z, window_shape=3))\n",
    "# myanswer(76)\n",
    "\n",
    "print(Z.strides)"
   ]
  },
  {
   "cell_type": "markdown",
   "id": "80dc0b2a",
   "metadata": {},
   "source": [
    "#### 77. How to negate a boolean, or to change the sign of a float inplace? (★★★)"
   ]
  },
  {
   "cell_type": "code",
   "execution_count": null,
   "id": "77c2eb58",
   "metadata": {},
   "outputs": [],
   "source": [
    "Z = np.random.randint(0,2,20)\n",
    "print(Z)\n",
    "np.logical_not(Z, out=Z)\n",
    "print(Z)\n",
    "\n",
    "Z = np.random.uniform(-1.0,1.0,20)\n",
    "print(Z)\n",
    "np.negative(Z, out=Z)\n",
    "print(Z)\n",
    "\n",
    "myanswer(77)"
   ]
  },
  {
   "cell_type": "markdown",
   "id": "7288634d",
   "metadata": {},
   "source": [
    "#### 78. Consider 2 sets of points P0,P1 describing lines (2d) and a point p, how to compute distance from p to each line i (P0[i],P1[i])? (★★★)"
   ]
  },
  {
   "cell_type": "code",
   "execution_count": null,
   "id": "4602caa6",
   "metadata": {},
   "outputs": [],
   "source": [
    "myanswer(78)"
   ]
  },
  {
   "cell_type": "markdown",
   "id": "e1880e79",
   "metadata": {},
   "source": [
    "#### 79. Consider 2 sets of points P0,P1 describing lines (2d) and a set of points P, how to compute distance from each point j (P[j]) to each line i (P0[i],P1[i])? (★★★)"
   ]
  },
  {
   "cell_type": "code",
   "execution_count": null,
   "id": "a14e151b",
   "metadata": {},
   "outputs": [],
   "source": [
    "myanswer(79)"
   ]
  },
  {
   "cell_type": "markdown",
   "id": "b8a2a287",
   "metadata": {},
   "source": [
    "#### 80. Consider an arbitrary array, write a function that extracts a subpart with a fixed shape and centered on a given element (pad with a `fill` value when necessary) (★★★)"
   ]
  },
  {
   "cell_type": "code",
   "execution_count": null,
   "id": "86af1186",
   "metadata": {},
   "outputs": [],
   "source": [
    "myanswer(80)"
   ]
  },
  {
   "cell_type": "markdown",
   "id": "caa64150",
   "metadata": {},
   "source": [
    "#### 81. Consider an array Z = [1,2,3,4,5,6,7,8,9,10,11,12,13,14], how to generate an array R = [[1,2,3,4], [2,3,4,5], [3,4,5,6], ..., [11,12,13,14]]? (★★★)"
   ]
  },
  {
   "cell_type": "code",
   "execution_count": null,
   "id": "4e7cc696",
   "metadata": {},
   "outputs": [],
   "source": [
    "from numpy.lib import stride_tricks\n",
    "Z = np.arange(1, 15, dtype=np.int32)\n",
    "print(Z)\n",
    "R = stride_tricks.sliding_window_view(Z, window_shape=4)\n",
    "print(R)\n",
    "\n",
    "# myanswer(81)"
   ]
  },
  {
   "cell_type": "markdown",
   "id": "9444c83b",
   "metadata": {},
   "source": [
    "#### 82. Compute a matrix rank (★★★)"
   ]
  },
  {
   "cell_type": "code",
   "execution_count": null,
   "id": "9e5c1d64",
   "metadata": {},
   "outputs": [],
   "source": [
    "Z = np.tile(np.arange(3), (3,3))\n",
    "print(Z, \"rank = \", np.linalg.matrix_rank(Z))\n",
    "Z = np.random.randint(0, 10, (3,3))\n",
    "print(Z, \"rank = \", np.linalg.matrix_rank(Z))\n",
    "Z = np.tile(Z, (2,2))\n",
    "print(Z, \"rank = \", np.linalg.matrix_rank(Z))\n",
    "Z[:,1] += 2*Z[:,2]\n",
    "print(Z, \"rank = \", np.linalg.matrix_rank(Z))\n",
    "\n",
    "myanswer(82)\n"
   ]
  },
  {
   "cell_type": "markdown",
   "id": "6eef9f33",
   "metadata": {},
   "source": [
    "#### 83. How to find the most frequent value in an array?"
   ]
  },
  {
   "cell_type": "code",
   "execution_count": null,
   "id": "9fb60e52",
   "metadata": {},
   "outputs": [],
   "source": [
    "Z = np.random.randint(1, 5, 30)\n",
    "print(Z)\n",
    "bcount = np.bincount(Z)\n",
    "print(bcount, np.argmax(bcount))\n",
    "\n",
    "myanswer(83)"
   ]
  },
  {
   "cell_type": "markdown",
   "id": "65f370f9",
   "metadata": {},
   "source": [
    "#### 84. Extract all the contiguous 3x3 blocks from a random 10x10 matrix (★★★)"
   ]
  },
  {
   "cell_type": "code",
   "execution_count": null,
   "id": "65ade1a6",
   "metadata": {},
   "outputs": [],
   "source": [
    "from numpy.lib import stride_tricks\n",
    "\n",
    "# Z = np.random.randint(1,10,(4,4))\n",
    "Z = np.random.randint(1,10,(10,10))\n",
    "print(Z)\n",
    "X = stride_tricks.sliding_window_view(Z, (3,3))\n",
    "# print(X, X.shape)\n",
    "R = X.reshape(X.shape[0]*X.shape[1], X.shape[-2], X.shape[-1])\n",
    "print(R, R.shape)\n",
    "\n",
    "# np.info(stride_tricks.sliding_window_view)\n",
    "# myanswer(84)"
   ]
  },
  {
   "cell_type": "markdown",
   "id": "845ad7f8",
   "metadata": {},
   "source": [
    "#### 85. Create a 2D array subclass such that Z[i,j] == Z[j,i] (★★★)"
   ]
  },
  {
   "cell_type": "code",
   "execution_count": null,
   "id": "30b1ba71",
   "metadata": {},
   "outputs": [],
   "source": [
    "Z = np.atleast_2d(np.arange(5))\n",
    "R = Z + Z.T\n",
    "print(R)\n",
    "print(R - np.diag(R.diagonal()))\n",
    "# print(Z.diagonal())\n",
    "# print(Z + Z.T)\n",
    "\n",
    "class Symetric(np.ndarray):\n",
    "    def __setitem__(self, index, value):\n",
    "        i,j = index\n",
    "        super(Symetric, self).__setitem__((i,j), value)\n",
    "        super(Symetric, self).__setitem__((j,i), value)\n",
    "    \n",
    "def newsymetric(Z):\n",
    "    return np.asarray(Z + Z.T - np.diag(Z.diagonal())).view(Symetric)\n",
    "\n",
    "# class Symetric(np.ndarray):\n",
    "#     def __setitem__(self, index, value):\n",
    "#         i,j = index\n",
    "#         super(Symetric, self).__setitem__((i,j), value)\n",
    "#         super(Symetric, self).__setitem__((j,i), value)\n",
    "\n",
    "# def symetric(Z):\n",
    "#     return np.asarray(Z + Z.T - np.diag(Z.diagonal())).view(Symetric)\n",
    "\n",
    "S = newsymetric(np.random.randint(0,5,(5,5)))\n",
    "print(S)\n",
    "S[1,2] = 42\n",
    "print(S)\n",
    "\n",
    "# myanswer(85)"
   ]
  },
  {
   "cell_type": "markdown",
   "id": "adc48f02",
   "metadata": {},
   "source": [
    "#### 86. Consider a set of p matrices with shape (n,n) and a set of p vectors with shape (n,1). How to compute the sum of of the p matrix products at once? (result has shape (n,1)) (★★★)"
   ]
  },
  {
   "cell_type": "code",
   "execution_count": null,
   "id": "ec798e90",
   "metadata": {},
   "outputs": [],
   "source": [
    "answer(86)"
   ]
  },
  {
   "cell_type": "markdown",
   "id": "9efb34b2",
   "metadata": {},
   "source": [
    "#### 87. Consider a 16x16 array, how to get the block-sum (block size is 4x4)? (★★★)"
   ]
  },
  {
   "cell_type": "code",
   "execution_count": null,
   "id": "ea79f40b",
   "metadata": {},
   "outputs": [],
   "source": [
    "# Author: Sebastian Wallkötter (@FirefoxMetzger)\n",
    "\n",
    "# Z = np.ones((16,16))\n",
    "# k = 4\n",
    "\n",
    "# windows = np.lib.stride_tricks.sliding_window_view(Z, (k, k))\n",
    "# print(windows.shape)\n",
    "# S = windows[::k, ::k, ...].sum(axis=(-2, -1))\n",
    "# print(S)\n",
    "\n",
    "Z = np.random.randint(0, 2, (4,4))\n",
    "print(Z, \"shape:\", Z.shape)\n",
    "k = 2\n",
    "xsum = np.add.reduceat(Z, np.arange(0, Z.shape[0], k), axis=0)\n",
    "ysum = np.add.reduceat(Z, np.arange(0, Z.shape[1], k), axis=1)\n",
    "print(np.add.reduceat(np.add.reduceat(Z, np.arange(0, Z.shape[0], k), axis=0), \n",
    "                      np.arange(0, Z.shape[1], k), axis=1))\n",
    "print(xsum)\n",
    "print(ysum)\n",
    "print(np.add.reduceat(xsum, np.arange(0, xsum.shape[1], k), axis=1))\n",
    "# print(np.arange(0, Z.shape[0], k))\n",
    "\n",
    "# np.info(np.add.reduceat)\n",
    "# myanswer(87)\n",
    "\n",
    "\n",
    "Z = np.ones((16,16))\n",
    "k = 4\n",
    "xsum = np.add.reduceat(Z, np.arange(0, Z.shape[0], k), axis=0)\n",
    "bsum = np.add.reduceat(xsum, np.arange(0, xsum.shape[1], k), axis=1)\n",
    "print(xsum, \"xsum.shape:\", xsum.shape)\n",
    "print(bsum)"
   ]
  },
  {
   "cell_type": "markdown",
   "id": "a9368578",
   "metadata": {},
   "source": [
    "#### 88. How to implement the Game of Life using numpy arrays? (★★★)"
   ]
  },
  {
   "cell_type": "code",
   "execution_count": null,
   "id": "315e9f11",
   "metadata": {},
   "outputs": [],
   "source": [
    "answer(88)\n",
    "# # Author: Nicolas Rougier\n",
    "\n",
    "# def iterate(Z):\n",
    "#     # Count neighbours\n",
    "#     N = (Z[0:-2,0:-2] + Z[0:-2,1:-1] + Z[0:-2,2:] +\n",
    "#          Z[1:-1,0:-2]                + Z[1:-1,2:] +\n",
    "#          Z[2:  ,0:-2] + Z[2:  ,1:-1] + Z[2:  ,2:])\n",
    "\n",
    "#     # Apply rules\n",
    "#     birth = (N==3) & (Z[1:-1,1:-1]==0)\n",
    "#     survive = ((N==2) | (N==3)) & (Z[1:-1,1:-1]==1)\n",
    "#     Z[...] = 0\n",
    "#     Z[1:-1,1:-1][birth | survive] = 1\n",
    "#     return Z\n",
    "\n",
    "# Z = np.random.randint(0,2,(10,10))\n",
    "# for i in range(100): Z = iterate(Z)\n",
    "# print(Z)"
   ]
  },
  {
   "cell_type": "markdown",
   "id": "8c598af3",
   "metadata": {},
   "source": [
    "#### 89. How to get the n largest values of an array (★★★)"
   ]
  },
  {
   "cell_type": "code",
   "execution_count": null,
   "id": "cba8d433",
   "metadata": {},
   "outputs": [],
   "source": [
    "# np.info(np.sort)\n",
    "def find_klargest_values(X, k):\n",
    "    return X[np.argsort(X)[-k:]]\n",
    "    # bcount = np.bincount(Z)\n",
    "\n",
    "# np.info(np.argmax)\n",
    "# np.info(np.argsort)\n",
    "\n",
    "Z = np.random.randint(0, 100, 20)\n",
    "print(Z)\n",
    "print(find_klargest_values(Z, 5))\n",
    "print(np.sort(Z))\n",
    "print(Z)\n",
    "\n",
    "myanswer(89)"
   ]
  },
  {
   "cell_type": "markdown",
   "id": "036a3bb0",
   "metadata": {},
   "source": [
    "#### 90. Given an arbitrary number of vectors, build the cartesian product (every combination of every item) (★★★)"
   ]
  },
  {
   "cell_type": "code",
   "execution_count": null,
   "id": "d712972d",
   "metadata": {},
   "outputs": [],
   "source": [
    "# answer(90)\n",
    "# Author: Stefan Van der Walt\n",
    "\n",
    "def cartesian(arrays):\n",
    "    arrays = [np.asarray(a) for a in arrays]\n",
    "    shape = (len(x) for x in arrays)\n",
    "\n",
    "    ix = np.indices(shape, dtype=int)\n",
    "    ix = ix.reshape(len(arrays), -1).T\n",
    "\n",
    "    for n, arr in enumerate(arrays):\n",
    "        ix[:, n] = arrays[n][ix[:, n]]\n",
    "\n",
    "    return ix\n",
    "\n",
    "# print(cartesian(([1, 2, 3], [4, 5], [6, 7])))\n",
    "# np.info(np.indices)\n",
    "print(np.indices((2,3)))"
   ]
  },
  {
   "cell_type": "markdown",
   "id": "36487aab",
   "metadata": {},
   "source": [
    "#### 91. How to create a record array from a regular array? (★★★)"
   ]
  },
  {
   "cell_type": "code",
   "execution_count": null,
   "id": "9779dbac",
   "metadata": {},
   "outputs": [],
   "source": [
    "# answer(91)\n",
    "Z = np.array([(\"Hello\", 2.5, 3),\n",
    "              (\"World\", 3.6, 2)])\n",
    "R = np.core.records.fromarrays(Z.T,\n",
    "                               names='col1, col2, col3',\n",
    "                               formats = 'S8, f8, i8')\n",
    "print(R)\n",
    "print(Z)"
   ]
  },
  {
   "cell_type": "markdown",
   "id": "9f178562",
   "metadata": {},
   "source": [
    "#### 92. Consider a large vector Z, compute Z to the power of 3 using 3 different methods (★★★)"
   ]
  },
  {
   "cell_type": "code",
   "execution_count": null,
   "id": "b08000b8",
   "metadata": {},
   "outputs": [
    {
     "name": "stdout",
     "output_type": "stream",
     "text": [
      "[7 3 4 7 5]\n",
      "[343  27  64 343 125]\n",
      "[343  27  64 343 125]\n",
      "[343  27  64 343 125]\n",
      "30.5 µs ± 69 ns per loop (mean ± std. dev. of 7 runs, 10,000 loops each)\n",
      "The slowest run took 9.77 times longer than the fastest. This could mean that an intermediate result is being cached.\n",
      "11.8 µs ± 9.33 µs per loop (mean ± std. dev. of 7 runs, 10,000 loops each)\n",
      "3.45 µs ± 16.8 ns per loop (mean ± std. dev. of 7 runs, 100,000 loops each)\n"
     ]
    }
   ],
   "source": [
    "# Z = np.random.randint(0, 10, 5)\n",
    "print(Z)\n",
    "print(Z*Z*Z)\n",
    "print(Z**3)\n",
    "print(np.emath.power(Z, 3))\n",
    "# np.info(np.emath.power)\n",
    "\n",
    "# myanswer(92)\n",
    "\n",
    "# Author: Ryan G.\n",
    "\n",
    "# x = np.random.rand(int(5e3))\n",
    "\n",
    "# %timeit np.power(x,3)\n",
    "# %timeit x*x*x\n",
    "# %timeit np.einsum('i,i,i->i',x,x,x)"
   ]
  },
  {
   "cell_type": "markdown",
   "id": "86acaf60",
   "metadata": {},
   "source": [
    "#### 93. Consider two arrays A and B of shape (8,3) and (2,2). How to find rows of A that contain elements of each row of B regardless of the order of the elements in B? (★★★)"
   ]
  },
  {
   "cell_type": "code",
   "execution_count": null,
   "id": "793b26d4",
   "metadata": {},
   "outputs": [],
   "source": []
  },
  {
   "cell_type": "markdown",
   "id": "c71b9df2",
   "metadata": {},
   "source": [
    "#### 94. Considering a 10x3 matrix, extract rows with unequal values (e.g. [2,2,3]) (★★★)"
   ]
  },
  {
   "cell_type": "code",
   "execution_count": null,
   "id": "494069f0",
   "metadata": {},
   "outputs": [],
   "source": []
  },
  {
   "cell_type": "markdown",
   "id": "1a8ae7c1",
   "metadata": {},
   "source": [
    "#### 95. Convert a vector of ints into a matrix binary representation (★★★)"
   ]
  },
  {
   "cell_type": "code",
   "execution_count": null,
   "id": "d5e967b8",
   "metadata": {},
   "outputs": [],
   "source": []
  },
  {
   "cell_type": "markdown",
   "id": "edef1198",
   "metadata": {},
   "source": [
    "#### 96. Given a two dimensional array, how to extract unique rows? (★★★)"
   ]
  },
  {
   "cell_type": "code",
   "execution_count": null,
   "id": "fa14799b",
   "metadata": {},
   "outputs": [],
   "source": []
  },
  {
   "cell_type": "markdown",
   "id": "575598a1",
   "metadata": {},
   "source": [
    "#### 97. Considering 2 vectors A & B, write the einsum equivalent of inner, outer, sum, and mul function (★★★)"
   ]
  },
  {
   "cell_type": "code",
   "execution_count": null,
   "id": "9da72f6e",
   "metadata": {},
   "outputs": [],
   "source": []
  },
  {
   "cell_type": "markdown",
   "id": "88e2796a",
   "metadata": {},
   "source": [
    "#### 98. Considering a path described by two vectors (X,Y), how to sample it using equidistant samples (★★★)?"
   ]
  },
  {
   "cell_type": "code",
   "execution_count": null,
   "id": "c17314f8",
   "metadata": {},
   "outputs": [],
   "source": []
  },
  {
   "cell_type": "markdown",
   "id": "8b25b7bd",
   "metadata": {},
   "source": [
    "#### 99. Given an integer n and a 2D array X, select from X the rows which can be interpreted as draws from a multinomial distribution with n degrees, i.e., the rows which only contain integers and which sum to n. (★★★)"
   ]
  },
  {
   "cell_type": "code",
   "execution_count": null,
   "id": "f0dc48cd",
   "metadata": {},
   "outputs": [],
   "source": []
  },
  {
   "cell_type": "markdown",
   "id": "b7068c76",
   "metadata": {},
   "source": [
    "#### 100. Compute bootstrapped 95% confidence intervals for the mean of a 1D array X (i.e., resample the elements of an array with replacement N times, compute the mean of each sample, and then compute percentiles over the means). (★★★)"
   ]
  },
  {
   "cell_type": "code",
   "execution_count": null,
   "id": "3c234201",
   "metadata": {},
   "outputs": [],
   "source": []
  }
 ],
 "metadata": {
  "kernelspec": {
   "display_name": "Python 3 (ipykernel)",
   "language": "python",
   "name": "python3"
  },
  "language_info": {
   "codemirror_mode": {
    "name": "ipython",
    "version": 3
   },
   "file_extension": ".py",
   "mimetype": "text/x-python",
   "name": "python",
   "nbconvert_exporter": "python",
   "pygments_lexer": "ipython3",
   "version": "3.9.18"
  }
 },
 "nbformat": 4,
 "nbformat_minor": 5
}
